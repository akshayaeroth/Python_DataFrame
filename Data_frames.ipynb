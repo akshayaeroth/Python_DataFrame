{
  "nbformat": 4,
  "nbformat_minor": 0,
  "metadata": {
    "colab": {
      "name": "assignment1_akshaya_e_20352006.ipynb",
      "provenance": [],
      "collapsed_sections": [],
      "toc_visible": true,
      "authorship_tag": "ABX9TyPAYSO9SRphLwCF237jkhFw",
      "include_colab_link": true
    },
    "kernelspec": {
      "name": "python3",
      "display_name": "Python 3"
    },
    "language_info": {
      "name": "python"
    }
  },
  "cells": [
    {
      "cell_type": "markdown",
      "metadata": {
        "id": "view-in-github",
        "colab_type": "text"
      },
      "source": [
        "<a href=\"https://colab.research.google.com/github/chinnuzz/python/blob/main/Data_frames.ipynb\" target=\"_parent\"><img src=\"https://colab.research.google.com/assets/colab-badge.svg\" alt=\"Open In Colab\"/></a>"
      ]
    },
    {
      "cell_type": "markdown",
      "metadata": {
        "id": "AtYcd186uu2u"
      },
      "source": [
        "## **1.CREATING A DATAFRAME USING DIFFERENT METHODS**\n"
      ]
    },
    {
      "cell_type": "markdown",
      "metadata": {
        "id": "Jl7DFYP7wK_P"
      },
      "source": [
        "The Pandas DataFrame is a structure that contains two-dimensional data and its corresponding labels. DataFrames are widely used in data science, machine learning, scientific computing, and many other data-intensive fields.Dataframe contains the folowing:\n",
        "\n",
        "*   Data organized in two dimensions, rows and columns\n",
        "*   Labels that correspond to the rows and columns\n",
        "\n",
        "We can create data frame in different ways. "
      ]
    },
    {
      "cell_type": "markdown",
      "metadata": {
        "id": "-AXy2G-46kmb"
      },
      "source": [
        " ***a)with columns name only  and then adding rows using loc[] method***\n",
        "\n",
        "\n",
        "\n",
        "\n"
      ]
    },
    {
      "cell_type": "code",
      "metadata": {
        "colab": {
          "base_uri": "https://localhost:8080/",
          "height": 49
        },
        "id": "CDAzdSQO6q_3",
        "outputId": "6eddca7e-fd80-4987-fb40-3ff0d9567dea"
      },
      "source": [
        "import pandas as pd\n",
        "df = pd.DataFrame(columns = ['Building','Roomno','Capacity'])\n",
        "df"
      ],
      "execution_count": null,
      "outputs": [
        {
          "output_type": "execute_result",
          "data": {
            "text/html": [
              "<div>\n",
              "<style scoped>\n",
              "    .dataframe tbody tr th:only-of-type {\n",
              "        vertical-align: middle;\n",
              "    }\n",
              "\n",
              "    .dataframe tbody tr th {\n",
              "        vertical-align: top;\n",
              "    }\n",
              "\n",
              "    .dataframe thead th {\n",
              "        text-align: right;\n",
              "    }\n",
              "</style>\n",
              "<table border=\"1\" class=\"dataframe\">\n",
              "  <thead>\n",
              "    <tr style=\"text-align: right;\">\n",
              "      <th></th>\n",
              "      <th>Building</th>\n",
              "      <th>Roomno</th>\n",
              "      <th>Capacity</th>\n",
              "    </tr>\n",
              "  </thead>\n",
              "  <tbody>\n",
              "  </tbody>\n",
              "</table>\n",
              "</div>"
            ],
            "text/plain": [
              "Empty DataFrame\n",
              "Columns: [Building, Roomno, Capacity]\n",
              "Index: []"
            ]
          },
          "metadata": {
            "tags": []
          },
          "execution_count": 2
        }
      ]
    },
    {
      "cell_type": "code",
      "metadata": {
        "colab": {
          "base_uri": "https://localhost:8080/",
          "height": 234
        },
        "id": "z6ruQn7U8AU-",
        "outputId": "57b3cac0-eeaf-421b-ec60-3a1759325862"
      },
      "source": [
        "# Add records to dataframe\n",
        "df.loc[0] = [\"Georgopol\",866,150]\n",
        "df.loc[1] = [\"Mylta\",732,100]\n",
        "df.loc[2] = [\"Novorepnoye\",129,70]\n",
        "df.loc[3] = [\"Pochinki\",604,200]\n",
        "df.loc[4] = [\"Primorsk\",444,50]\n",
        "df.loc[5] = [\"Severny\",521,130]\n",
        "df\n"
      ],
      "execution_count": null,
      "outputs": [
        {
          "output_type": "execute_result",
          "data": {
            "text/html": [
              "<div>\n",
              "<style scoped>\n",
              "    .dataframe tbody tr th:only-of-type {\n",
              "        vertical-align: middle;\n",
              "    }\n",
              "\n",
              "    .dataframe tbody tr th {\n",
              "        vertical-align: top;\n",
              "    }\n",
              "\n",
              "    .dataframe thead th {\n",
              "        text-align: right;\n",
              "    }\n",
              "</style>\n",
              "<table border=\"1\" class=\"dataframe\">\n",
              "  <thead>\n",
              "    <tr style=\"text-align: right;\">\n",
              "      <th></th>\n",
              "      <th>Building</th>\n",
              "      <th>Roomno</th>\n",
              "      <th>Capacity</th>\n",
              "    </tr>\n",
              "  </thead>\n",
              "  <tbody>\n",
              "    <tr>\n",
              "      <th>0</th>\n",
              "      <td>Georgopol</td>\n",
              "      <td>866</td>\n",
              "      <td>150</td>\n",
              "    </tr>\n",
              "    <tr>\n",
              "      <th>1</th>\n",
              "      <td>Mylta</td>\n",
              "      <td>732</td>\n",
              "      <td>100</td>\n",
              "    </tr>\n",
              "    <tr>\n",
              "      <th>2</th>\n",
              "      <td>Novorepnoye</td>\n",
              "      <td>129</td>\n",
              "      <td>70</td>\n",
              "    </tr>\n",
              "    <tr>\n",
              "      <th>3</th>\n",
              "      <td>Pochinki</td>\n",
              "      <td>604</td>\n",
              "      <td>200</td>\n",
              "    </tr>\n",
              "    <tr>\n",
              "      <th>4</th>\n",
              "      <td>Primorsk</td>\n",
              "      <td>444</td>\n",
              "      <td>50</td>\n",
              "    </tr>\n",
              "    <tr>\n",
              "      <th>5</th>\n",
              "      <td>Severny</td>\n",
              "      <td>521</td>\n",
              "      <td>130</td>\n",
              "    </tr>\n",
              "  </tbody>\n",
              "</table>\n",
              "</div>"
            ],
            "text/plain": [
              "      Building Roomno Capacity\n",
              "0    Georgopol    866      150\n",
              "1        Mylta    732      100\n",
              "2  Novorepnoye    129       70\n",
              "3     Pochinki    604      200\n",
              "4     Primorsk    444       50\n",
              "5      Severny    521      130"
            ]
          },
          "metadata": {
            "tags": []
          },
          "execution_count": 4
        }
      ]
    },
    {
      "cell_type": "markdown",
      "metadata": {
        "id": "zc5-TnMhcPz-"
      },
      "source": [
        " ***b)Initialize a blank dataframe and keep adding***"
      ]
    },
    {
      "cell_type": "code",
      "metadata": {
        "colab": {
          "base_uri": "https://localhost:8080/",
          "height": 284
        },
        "id": "vEkJlKlHcm6J",
        "outputId": "1d7c0163-72b1-4e05-d5cc-045f7d2f170f"
      },
      "source": [
        "import pandas as pd\n",
        "df = pd.DataFrame()  \n",
        "print (df)  \n",
        "\n",
        "df['Building'] = ['Georgopol',  'Mylta','Novorepnoye','Pochinki','Primorsk','Severny']\n",
        "df['Roomno'] = [866,732,129,604,444,521]\n",
        "df['Capacity'] = [150,100,70,200,50,130]\n",
        "df"
      ],
      "execution_count": null,
      "outputs": [
        {
          "output_type": "stream",
          "text": [
            "Empty DataFrame\n",
            "Columns: []\n",
            "Index: []\n"
          ],
          "name": "stdout"
        },
        {
          "output_type": "execute_result",
          "data": {
            "text/html": [
              "<div>\n",
              "<style scoped>\n",
              "    .dataframe tbody tr th:only-of-type {\n",
              "        vertical-align: middle;\n",
              "    }\n",
              "\n",
              "    .dataframe tbody tr th {\n",
              "        vertical-align: top;\n",
              "    }\n",
              "\n",
              "    .dataframe thead th {\n",
              "        text-align: right;\n",
              "    }\n",
              "</style>\n",
              "<table border=\"1\" class=\"dataframe\">\n",
              "  <thead>\n",
              "    <tr style=\"text-align: right;\">\n",
              "      <th></th>\n",
              "      <th>Building</th>\n",
              "      <th>Roomno</th>\n",
              "      <th>Capacity</th>\n",
              "    </tr>\n",
              "  </thead>\n",
              "  <tbody>\n",
              "    <tr>\n",
              "      <th>0</th>\n",
              "      <td>Georgopol</td>\n",
              "      <td>866</td>\n",
              "      <td>150</td>\n",
              "    </tr>\n",
              "    <tr>\n",
              "      <th>1</th>\n",
              "      <td>Mylta</td>\n",
              "      <td>732</td>\n",
              "      <td>100</td>\n",
              "    </tr>\n",
              "    <tr>\n",
              "      <th>2</th>\n",
              "      <td>Novorepnoye</td>\n",
              "      <td>129</td>\n",
              "      <td>70</td>\n",
              "    </tr>\n",
              "    <tr>\n",
              "      <th>3</th>\n",
              "      <td>Pochinki</td>\n",
              "      <td>604</td>\n",
              "      <td>200</td>\n",
              "    </tr>\n",
              "    <tr>\n",
              "      <th>4</th>\n",
              "      <td>Primorsk</td>\n",
              "      <td>444</td>\n",
              "      <td>50</td>\n",
              "    </tr>\n",
              "    <tr>\n",
              "      <th>5</th>\n",
              "      <td>Severny</td>\n",
              "      <td>521</td>\n",
              "      <td>130</td>\n",
              "    </tr>\n",
              "  </tbody>\n",
              "</table>\n",
              "</div>"
            ],
            "text/plain": [
              "      Building  Roomno  Capacity\n",
              "0    Georgopol     866       150\n",
              "1        Mylta     732       100\n",
              "2  Novorepnoye     129        70\n",
              "3     Pochinki     604       200\n",
              "4     Primorsk     444        50\n",
              "5      Severny     521       130"
            ]
          },
          "metadata": {
            "tags": []
          },
          "execution_count": 14
        }
      ]
    },
    {
      "cell_type": "markdown",
      "metadata": {
        "id": "fHdXYkTsd2G7"
      },
      "source": [
        "***c)with columns name only  and then appending rows one by one to it using append() method***"
      ]
    },
    {
      "cell_type": "code",
      "metadata": {
        "colab": {
          "base_uri": "https://localhost:8080/",
          "height": 284
        },
        "id": "p3MuDORnd8-R",
        "outputId": "5c28c0fb-2708-404b-ca34-3b9c68e814fd"
      },
      "source": [
        "import pandas as pd\n",
        "# create an Empty DataFrame object With column names only\n",
        "df = pd.DataFrame(columns = ['Building', 'Roomno', 'Capacity'])\n",
        "print(df)\n",
        "# append rows to an empty DataFrame\n",
        "df = df.append({'Building':'Georgopol','Roomno':866,'Capacity':150},ignore_index = True)\n",
        "df = df.append({'Building':'Mylta','Roomno':732,'Capacity':100},ignore_index = True)\n",
        "df = df.append({'Building':'Novorepnoye','Roomno':129,'Capacity':70},ignore_index = True)\n",
        "df = df.append({'Building':'Pochinki','Roomno':604,'Capacity':200},ignore_index = True)\n",
        "df = df.append({'Building':'Primorsk','Roomno':444,'Capacity':50},ignore_index = True)\n",
        "df = df.append({'Building':'Severny','Roomno':521,'Capacity':130},ignore_index = True)\n",
        "df"
      ],
      "execution_count": null,
      "outputs": [
        {
          "output_type": "stream",
          "text": [
            "Empty DataFrame\n",
            "Columns: [Building, Roomno, Capacity]\n",
            "Index: []\n"
          ],
          "name": "stdout"
        },
        {
          "output_type": "execute_result",
          "data": {
            "text/html": [
              "<div>\n",
              "<style scoped>\n",
              "    .dataframe tbody tr th:only-of-type {\n",
              "        vertical-align: middle;\n",
              "    }\n",
              "\n",
              "    .dataframe tbody tr th {\n",
              "        vertical-align: top;\n",
              "    }\n",
              "\n",
              "    .dataframe thead th {\n",
              "        text-align: right;\n",
              "    }\n",
              "</style>\n",
              "<table border=\"1\" class=\"dataframe\">\n",
              "  <thead>\n",
              "    <tr style=\"text-align: right;\">\n",
              "      <th></th>\n",
              "      <th>Building</th>\n",
              "      <th>Roomno</th>\n",
              "      <th>Capacity</th>\n",
              "    </tr>\n",
              "  </thead>\n",
              "  <tbody>\n",
              "    <tr>\n",
              "      <th>0</th>\n",
              "      <td>Georgopol</td>\n",
              "      <td>866</td>\n",
              "      <td>150</td>\n",
              "    </tr>\n",
              "    <tr>\n",
              "      <th>1</th>\n",
              "      <td>Mylta</td>\n",
              "      <td>732</td>\n",
              "      <td>100</td>\n",
              "    </tr>\n",
              "    <tr>\n",
              "      <th>2</th>\n",
              "      <td>Novorepnoye</td>\n",
              "      <td>129</td>\n",
              "      <td>70</td>\n",
              "    </tr>\n",
              "    <tr>\n",
              "      <th>3</th>\n",
              "      <td>Pochinki</td>\n",
              "      <td>604</td>\n",
              "      <td>200</td>\n",
              "    </tr>\n",
              "    <tr>\n",
              "      <th>4</th>\n",
              "      <td>Primorsk</td>\n",
              "      <td>444</td>\n",
              "      <td>50</td>\n",
              "    </tr>\n",
              "    <tr>\n",
              "      <th>5</th>\n",
              "      <td>Severny</td>\n",
              "      <td>521</td>\n",
              "      <td>130</td>\n",
              "    </tr>\n",
              "  </tbody>\n",
              "</table>\n",
              "</div>"
            ],
            "text/plain": [
              "      Building Roomno Capacity\n",
              "0    Georgopol    866      150\n",
              "1        Mylta    732      100\n",
              "2  Novorepnoye    129       70\n",
              "3     Pochinki    604      200\n",
              "4     Primorsk    444       50\n",
              "5      Severny    521      130"
            ]
          },
          "metadata": {
            "tags": []
          },
          "execution_count": 15
        }
      ]
    },
    {
      "cell_type": "markdown",
      "metadata": {
        "id": "BCnDQRbd9mXE"
      },
      "source": [
        " ***d)Using numpy array in the DataFrame constructor***\n",
        "\n",
        "\n"
      ]
    },
    {
      "cell_type": "code",
      "metadata": {
        "colab": {
          "base_uri": "https://localhost:8080/",
          "height": 234
        },
        "id": "uLrtq2Ga981i",
        "outputId": "40235c6d-17a2-4c13-960f-e6e35e24a8dc"
      },
      "source": [
        "#Pass a 2D numpy array - each row is the corresponding row required in the dataframe\n",
        "import pandas as pd\n",
        "import numpy as np\n",
        "data = np.array([[\"Georgopol\",866,150], \n",
        "                 [\"Mylta\",732,100], \n",
        "                 [\"Novorepnoye\",129,70], \n",
        "                 [\"Pochinki\",604,200],\n",
        "                 [\"Primorsk\",444,50],\n",
        "                  [\"Severny\",521,130]])\n",
        "  # pass column names in the columns parameter                \n",
        "df = pd.DataFrame(data, columns = ['Building', 'Roomno','Capacity']) \n",
        "\n",
        "df"
      ],
      "execution_count": null,
      "outputs": [
        {
          "output_type": "execute_result",
          "data": {
            "text/html": [
              "<div>\n",
              "<style scoped>\n",
              "    .dataframe tbody tr th:only-of-type {\n",
              "        vertical-align: middle;\n",
              "    }\n",
              "\n",
              "    .dataframe tbody tr th {\n",
              "        vertical-align: top;\n",
              "    }\n",
              "\n",
              "    .dataframe thead th {\n",
              "        text-align: right;\n",
              "    }\n",
              "</style>\n",
              "<table border=\"1\" class=\"dataframe\">\n",
              "  <thead>\n",
              "    <tr style=\"text-align: right;\">\n",
              "      <th></th>\n",
              "      <th>Building</th>\n",
              "      <th>Roomno</th>\n",
              "      <th>Capacity</th>\n",
              "    </tr>\n",
              "  </thead>\n",
              "  <tbody>\n",
              "    <tr>\n",
              "      <th>0</th>\n",
              "      <td>Georgopol</td>\n",
              "      <td>866</td>\n",
              "      <td>150</td>\n",
              "    </tr>\n",
              "    <tr>\n",
              "      <th>1</th>\n",
              "      <td>Mylta</td>\n",
              "      <td>732</td>\n",
              "      <td>100</td>\n",
              "    </tr>\n",
              "    <tr>\n",
              "      <th>2</th>\n",
              "      <td>Novorepnoye</td>\n",
              "      <td>129</td>\n",
              "      <td>70</td>\n",
              "    </tr>\n",
              "    <tr>\n",
              "      <th>3</th>\n",
              "      <td>Pochinki</td>\n",
              "      <td>604</td>\n",
              "      <td>200</td>\n",
              "    </tr>\n",
              "    <tr>\n",
              "      <th>4</th>\n",
              "      <td>Primorsk</td>\n",
              "      <td>444</td>\n",
              "      <td>50</td>\n",
              "    </tr>\n",
              "    <tr>\n",
              "      <th>5</th>\n",
              "      <td>Severny</td>\n",
              "      <td>521</td>\n",
              "      <td>130</td>\n",
              "    </tr>\n",
              "  </tbody>\n",
              "</table>\n",
              "</div>"
            ],
            "text/plain": [
              "      Building Roomno Capacity\n",
              "0    Georgopol    866      150\n",
              "1        Mylta    732      100\n",
              "2  Novorepnoye    129       70\n",
              "3     Pochinki    604      200\n",
              "4     Primorsk    444       50\n",
              "5      Severny    521      130"
            ]
          },
          "metadata": {
            "tags": []
          },
          "execution_count": 8
        }
      ]
    },
    {
      "cell_type": "markdown",
      "metadata": {
        "id": "LXYXcD6ehL5t"
      },
      "source": [
        "***e) Create DataFrame using List with index and column names.***"
      ]
    },
    {
      "cell_type": "code",
      "metadata": {
        "colab": {
          "base_uri": "https://localhost:8080/",
          "height": 234
        },
        "id": "2QOEWSgxhg_w",
        "outputId": "4deda2d3-cb48-4b95-c797-c0fc6541d8ab"
      },
      "source": [
        "import pandas as pd\n",
        "# list of strings\n",
        "lst = ['Georgopol',  'Mylta','Novorepnoye','Pochinki','Primorsk','Severny']\n",
        "# Calling DataFrame constructor on list  with indices and columns specified\n",
        "df = pd.DataFrame(lst, index =[866,732,129,604,444,521],columns =['Building'])\n",
        "df"
      ],
      "execution_count": null,
      "outputs": [
        {
          "output_type": "execute_result",
          "data": {
            "text/html": [
              "<div>\n",
              "<style scoped>\n",
              "    .dataframe tbody tr th:only-of-type {\n",
              "        vertical-align: middle;\n",
              "    }\n",
              "\n",
              "    .dataframe tbody tr th {\n",
              "        vertical-align: top;\n",
              "    }\n",
              "\n",
              "    .dataframe thead th {\n",
              "        text-align: right;\n",
              "    }\n",
              "</style>\n",
              "<table border=\"1\" class=\"dataframe\">\n",
              "  <thead>\n",
              "    <tr style=\"text-align: right;\">\n",
              "      <th></th>\n",
              "      <th>Building</th>\n",
              "    </tr>\n",
              "  </thead>\n",
              "  <tbody>\n",
              "    <tr>\n",
              "      <th>866</th>\n",
              "      <td>Georgopol</td>\n",
              "    </tr>\n",
              "    <tr>\n",
              "      <th>732</th>\n",
              "      <td>Mylta</td>\n",
              "    </tr>\n",
              "    <tr>\n",
              "      <th>129</th>\n",
              "      <td>Novorepnoye</td>\n",
              "    </tr>\n",
              "    <tr>\n",
              "      <th>604</th>\n",
              "      <td>Pochinki</td>\n",
              "    </tr>\n",
              "    <tr>\n",
              "      <th>444</th>\n",
              "      <td>Primorsk</td>\n",
              "    </tr>\n",
              "    <tr>\n",
              "      <th>521</th>\n",
              "      <td>Severny</td>\n",
              "    </tr>\n",
              "  </tbody>\n",
              "</table>\n",
              "</div>"
            ],
            "text/plain": [
              "        Building\n",
              "866    Georgopol\n",
              "732        Mylta\n",
              "129  Novorepnoye\n",
              "604     Pochinki\n",
              "444     Primorsk\n",
              "521      Severny"
            ]
          },
          "metadata": {
            "tags": []
          },
          "execution_count": 16
        }
      ]
    },
    {
      "cell_type": "markdown",
      "metadata": {
        "id": "U0D6L8MTi7VR"
      },
      "source": [
        "***f)Create DataFrame using multi-dimensional list***"
      ]
    },
    {
      "cell_type": "code",
      "metadata": {
        "colab": {
          "base_uri": "https://localhost:8080/",
          "height": 234
        },
        "id": "gGV3x93AjJjg",
        "outputId": "4648b6fd-6988-4321-e45f-6c473b84b5f8"
      },
      "source": [
        "import pandas as pd \n",
        "lst = [['Georgopol',866,150], ['Mylta',732,100],['Novorepnoye',129,70],\n",
        "       ['Pochinki',604,200],['Primorsk',444,50],['Severny',521,130]]\n",
        "df = pd.DataFrame(lst, columns =['Building', 'Roomno','Capacity'])\n",
        "df"
      ],
      "execution_count": null,
      "outputs": [
        {
          "output_type": "execute_result",
          "data": {
            "text/html": [
              "<div>\n",
              "<style scoped>\n",
              "    .dataframe tbody tr th:only-of-type {\n",
              "        vertical-align: middle;\n",
              "    }\n",
              "\n",
              "    .dataframe tbody tr th {\n",
              "        vertical-align: top;\n",
              "    }\n",
              "\n",
              "    .dataframe thead th {\n",
              "        text-align: right;\n",
              "    }\n",
              "</style>\n",
              "<table border=\"1\" class=\"dataframe\">\n",
              "  <thead>\n",
              "    <tr style=\"text-align: right;\">\n",
              "      <th></th>\n",
              "      <th>Building</th>\n",
              "      <th>Roomno</th>\n",
              "      <th>Capacity</th>\n",
              "    </tr>\n",
              "  </thead>\n",
              "  <tbody>\n",
              "    <tr>\n",
              "      <th>0</th>\n",
              "      <td>Georgopol</td>\n",
              "      <td>866</td>\n",
              "      <td>150</td>\n",
              "    </tr>\n",
              "    <tr>\n",
              "      <th>1</th>\n",
              "      <td>Mylta</td>\n",
              "      <td>732</td>\n",
              "      <td>100</td>\n",
              "    </tr>\n",
              "    <tr>\n",
              "      <th>2</th>\n",
              "      <td>Novorepnoye</td>\n",
              "      <td>129</td>\n",
              "      <td>70</td>\n",
              "    </tr>\n",
              "    <tr>\n",
              "      <th>3</th>\n",
              "      <td>Pochinki</td>\n",
              "      <td>604</td>\n",
              "      <td>200</td>\n",
              "    </tr>\n",
              "    <tr>\n",
              "      <th>4</th>\n",
              "      <td>Primorsk</td>\n",
              "      <td>444</td>\n",
              "      <td>50</td>\n",
              "    </tr>\n",
              "    <tr>\n",
              "      <th>5</th>\n",
              "      <td>Severny</td>\n",
              "      <td>521</td>\n",
              "      <td>130</td>\n",
              "    </tr>\n",
              "  </tbody>\n",
              "</table>\n",
              "</div>"
            ],
            "text/plain": [
              "      Building  Roomno  Capacity\n",
              "0    Georgopol     866       150\n",
              "1        Mylta     732       100\n",
              "2  Novorepnoye     129        70\n",
              "3     Pochinki     604       200\n",
              "4     Primorsk     444        50\n",
              "5      Severny     521       130"
            ]
          },
          "metadata": {
            "tags": []
          },
          "execution_count": 17
        }
      ]
    },
    {
      "cell_type": "markdown",
      "metadata": {
        "id": "23P6Ag1N_7Gf"
      },
      "source": [
        "***g)using dictionary in the DataFrame constructor***\n"
      ]
    },
    {
      "cell_type": "code",
      "metadata": {
        "colab": {
          "base_uri": "https://localhost:8080/",
          "height": 234
        },
        "id": "nVnQq8z1ACtN",
        "outputId": "95d44eb2-8d94-472a-a7ae-a67e8efe65cd"
      },
      "source": [
        "# Dictionary Keys become Column names in the dataframe\n",
        "# Dictionary values become the vaues of columns \n",
        "# Column values are combined in a single row according to the order in which they are specified\n",
        "import pandas as pd\n",
        "data = {'Building': [\"Georgopol\",\"Mylta\",\"Novorepnoye\",\"Pochinki\",\"Primorsk\",\"Severny\"], \n",
        "        'Roomno': [866,732,129,604,444,521],\n",
        "        'Capacity':[150,100,70,200,50,130]\n",
        "       }\n",
        "# pass column names in the columns parameter \n",
        "df = pd.DataFrame(data) \n",
        "df"
      ],
      "execution_count": null,
      "outputs": [
        {
          "output_type": "execute_result",
          "data": {
            "text/html": [
              "<div>\n",
              "<style scoped>\n",
              "    .dataframe tbody tr th:only-of-type {\n",
              "        vertical-align: middle;\n",
              "    }\n",
              "\n",
              "    .dataframe tbody tr th {\n",
              "        vertical-align: top;\n",
              "    }\n",
              "\n",
              "    .dataframe thead th {\n",
              "        text-align: right;\n",
              "    }\n",
              "</style>\n",
              "<table border=\"1\" class=\"dataframe\">\n",
              "  <thead>\n",
              "    <tr style=\"text-align: right;\">\n",
              "      <th></th>\n",
              "      <th>Building</th>\n",
              "      <th>Roomno</th>\n",
              "      <th>Capacity</th>\n",
              "    </tr>\n",
              "  </thead>\n",
              "  <tbody>\n",
              "    <tr>\n",
              "      <th>0</th>\n",
              "      <td>Georgopol</td>\n",
              "      <td>866</td>\n",
              "      <td>150</td>\n",
              "    </tr>\n",
              "    <tr>\n",
              "      <th>1</th>\n",
              "      <td>Mylta</td>\n",
              "      <td>732</td>\n",
              "      <td>100</td>\n",
              "    </tr>\n",
              "    <tr>\n",
              "      <th>2</th>\n",
              "      <td>Novorepnoye</td>\n",
              "      <td>129</td>\n",
              "      <td>70</td>\n",
              "    </tr>\n",
              "    <tr>\n",
              "      <th>3</th>\n",
              "      <td>Pochinki</td>\n",
              "      <td>604</td>\n",
              "      <td>200</td>\n",
              "    </tr>\n",
              "    <tr>\n",
              "      <th>4</th>\n",
              "      <td>Primorsk</td>\n",
              "      <td>444</td>\n",
              "      <td>50</td>\n",
              "    </tr>\n",
              "    <tr>\n",
              "      <th>5</th>\n",
              "      <td>Severny</td>\n",
              "      <td>521</td>\n",
              "      <td>130</td>\n",
              "    </tr>\n",
              "  </tbody>\n",
              "</table>\n",
              "</div>"
            ],
            "text/plain": [
              "      Building  Roomno  Capacity\n",
              "0    Georgopol     866       150\n",
              "1        Mylta     732       100\n",
              "2  Novorepnoye     129        70\n",
              "3     Pochinki     604       200\n",
              "4     Primorsk     444        50\n",
              "5      Severny     521       130"
            ]
          },
          "metadata": {
            "tags": []
          },
          "execution_count": 9
        }
      ]
    },
    {
      "cell_type": "markdown",
      "metadata": {
        "id": "Ff5sfDO_Ic2o"
      },
      "source": [
        "***h)using list of dictionaries in the DataFrame constructor***"
      ]
    },
    {
      "cell_type": "code",
      "metadata": {
        "colab": {
          "base_uri": "https://localhost:8080/",
          "height": 234
        },
        "id": "VZER9bueIqAP",
        "outputId": "39e7b909-bbdc-498a-8d91-af2ce1f3a349"
      },
      "source": [
        "# Each dictionary is a record\n",
        "# Dictionary Keys become Column names in the dataframe\n",
        "# Dictionary values become the vaues of columns\n",
        "\n",
        "import pandas as pd\n",
        "data = [{'Building': \"Georgopol\", 'Roomno': 866, 'Capacity':150}, \n",
        "        {'Building': \"Mylta\", 'Roomno': 732, 'Capacity':100}, \n",
        "        {'Building': \"Novorepnoye\", 'Roomno': 129, 'Capacity':70}, \n",
        "        {'Building': \"Pochinki\", 'Roomno': 604 ,'Capacity':200},\n",
        "        {'Building': \"Primorsk\", 'Roomno': 444 ,'Capacity':50},\n",
        "        {'Building': \"Severny\", 'Roomno': 521 ,'Capacity':130}\n",
        "       ]\n",
        "# pass column names in the columns parameter \n",
        "df = pd.DataFrame(data) \n",
        "\n",
        "df"
      ],
      "execution_count": null,
      "outputs": [
        {
          "output_type": "execute_result",
          "data": {
            "text/html": [
              "<div>\n",
              "<style scoped>\n",
              "    .dataframe tbody tr th:only-of-type {\n",
              "        vertical-align: middle;\n",
              "    }\n",
              "\n",
              "    .dataframe tbody tr th {\n",
              "        vertical-align: top;\n",
              "    }\n",
              "\n",
              "    .dataframe thead th {\n",
              "        text-align: right;\n",
              "    }\n",
              "</style>\n",
              "<table border=\"1\" class=\"dataframe\">\n",
              "  <thead>\n",
              "    <tr style=\"text-align: right;\">\n",
              "      <th></th>\n",
              "      <th>Building</th>\n",
              "      <th>Roomno</th>\n",
              "      <th>Capacity</th>\n",
              "    </tr>\n",
              "  </thead>\n",
              "  <tbody>\n",
              "    <tr>\n",
              "      <th>0</th>\n",
              "      <td>Georgopol</td>\n",
              "      <td>866</td>\n",
              "      <td>150</td>\n",
              "    </tr>\n",
              "    <tr>\n",
              "      <th>1</th>\n",
              "      <td>Mylta</td>\n",
              "      <td>732</td>\n",
              "      <td>100</td>\n",
              "    </tr>\n",
              "    <tr>\n",
              "      <th>2</th>\n",
              "      <td>Novorepnoye</td>\n",
              "      <td>129</td>\n",
              "      <td>70</td>\n",
              "    </tr>\n",
              "    <tr>\n",
              "      <th>3</th>\n",
              "      <td>Pochinki</td>\n",
              "      <td>604</td>\n",
              "      <td>200</td>\n",
              "    </tr>\n",
              "    <tr>\n",
              "      <th>4</th>\n",
              "      <td>Primorsk</td>\n",
              "      <td>444</td>\n",
              "      <td>50</td>\n",
              "    </tr>\n",
              "    <tr>\n",
              "      <th>5</th>\n",
              "      <td>Severny</td>\n",
              "      <td>521</td>\n",
              "      <td>130</td>\n",
              "    </tr>\n",
              "  </tbody>\n",
              "</table>\n",
              "</div>"
            ],
            "text/plain": [
              "      Building  Roomno  Capacity\n",
              "0    Georgopol     866       150\n",
              "1        Mylta     732       100\n",
              "2  Novorepnoye     129        70\n",
              "3     Pochinki     604       200\n",
              "4     Primorsk     444        50\n",
              "5      Severny     521       130"
            ]
          },
          "metadata": {
            "tags": []
          },
          "execution_count": 11
        }
      ]
    },
    {
      "cell_type": "markdown",
      "metadata": {
        "id": "GsN1PYmTLvl3"
      },
      "source": [
        "***i)using dictionary in the from_dict method***"
      ]
    },
    {
      "cell_type": "code",
      "metadata": {
        "colab": {
          "base_uri": "https://localhost:8080/",
          "height": 234
        },
        "id": "IQQdYQicMB67",
        "outputId": "4f9de815-1a31-41ec-e04a-4a4205f29282"
      },
      "source": [
        "# Dictionary Keys become Column names in the dataframe\n",
        "# Dictionary values become the vaues of columns \n",
        "# Column values are combined in a single row according to the order in which they are specified\n",
        "import pandas as pd\n",
        "data = {'Building': [\"Georgopol\",\"Mylta\",\"Novorepnoye\",\"Pochinki\",\"Primorsk\",\"Severny\"], \n",
        "        'Roomno': [866,732,129,604,444,521],\n",
        "        'Capacity':[150,100,70,200,50,130]\n",
        "       }\n",
        "# pass column names in the columns parameter \n",
        "df = pd.DataFrame.from_dict(data) \n",
        "\n",
        "df"
      ],
      "execution_count": null,
      "outputs": [
        {
          "output_type": "execute_result",
          "data": {
            "text/html": [
              "<div>\n",
              "<style scoped>\n",
              "    .dataframe tbody tr th:only-of-type {\n",
              "        vertical-align: middle;\n",
              "    }\n",
              "\n",
              "    .dataframe tbody tr th {\n",
              "        vertical-align: top;\n",
              "    }\n",
              "\n",
              "    .dataframe thead th {\n",
              "        text-align: right;\n",
              "    }\n",
              "</style>\n",
              "<table border=\"1\" class=\"dataframe\">\n",
              "  <thead>\n",
              "    <tr style=\"text-align: right;\">\n",
              "      <th></th>\n",
              "      <th>Building</th>\n",
              "      <th>Roomno</th>\n",
              "      <th>Capacity</th>\n",
              "    </tr>\n",
              "  </thead>\n",
              "  <tbody>\n",
              "    <tr>\n",
              "      <th>0</th>\n",
              "      <td>Georgopol</td>\n",
              "      <td>866</td>\n",
              "      <td>150</td>\n",
              "    </tr>\n",
              "    <tr>\n",
              "      <th>1</th>\n",
              "      <td>Mylta</td>\n",
              "      <td>732</td>\n",
              "      <td>100</td>\n",
              "    </tr>\n",
              "    <tr>\n",
              "      <th>2</th>\n",
              "      <td>Novorepnoye</td>\n",
              "      <td>129</td>\n",
              "      <td>70</td>\n",
              "    </tr>\n",
              "    <tr>\n",
              "      <th>3</th>\n",
              "      <td>Pochinki</td>\n",
              "      <td>604</td>\n",
              "      <td>200</td>\n",
              "    </tr>\n",
              "    <tr>\n",
              "      <th>4</th>\n",
              "      <td>Primorsk</td>\n",
              "      <td>444</td>\n",
              "      <td>50</td>\n",
              "    </tr>\n",
              "    <tr>\n",
              "      <th>5</th>\n",
              "      <td>Severny</td>\n",
              "      <td>521</td>\n",
              "      <td>130</td>\n",
              "    </tr>\n",
              "  </tbody>\n",
              "</table>\n",
              "</div>"
            ],
            "text/plain": [
              "      Building  Roomno  Capacity\n",
              "0    Georgopol     866       150\n",
              "1        Mylta     732       100\n",
              "2  Novorepnoye     129        70\n",
              "3     Pochinki     604       200\n",
              "4     Primorsk     444        50\n",
              "5      Severny     521       130"
            ]
          },
          "metadata": {
            "tags": []
          },
          "execution_count": 12
        }
      ]
    },
    {
      "cell_type": "code",
      "metadata": {
        "colab": {
          "base_uri": "https://localhost:8080/",
          "height": 142
        },
        "id": "rHnYMW-UbXn1",
        "outputId": "3bdf8778-c91f-4196-8e83-bf94c9eee0f1"
      },
      "source": [
        "# Now what if the column names we used above need to be indexes - like a transpose of the earlier data\n",
        "# Specify orient = \"index\" and pass column names for the columns generated after the transpose\n",
        "df = pd.DataFrame.from_dict(data, orient='index',columns=['record1', 'record2', 'record3', 'record4','record5','record6']) \n",
        "\n",
        "df"
      ],
      "execution_count": null,
      "outputs": [
        {
          "output_type": "execute_result",
          "data": {
            "text/html": [
              "<div>\n",
              "<style scoped>\n",
              "    .dataframe tbody tr th:only-of-type {\n",
              "        vertical-align: middle;\n",
              "    }\n",
              "\n",
              "    .dataframe tbody tr th {\n",
              "        vertical-align: top;\n",
              "    }\n",
              "\n",
              "    .dataframe thead th {\n",
              "        text-align: right;\n",
              "    }\n",
              "</style>\n",
              "<table border=\"1\" class=\"dataframe\">\n",
              "  <thead>\n",
              "    <tr style=\"text-align: right;\">\n",
              "      <th></th>\n",
              "      <th>record1</th>\n",
              "      <th>record2</th>\n",
              "      <th>record3</th>\n",
              "      <th>record4</th>\n",
              "      <th>record5</th>\n",
              "      <th>record6</th>\n",
              "    </tr>\n",
              "  </thead>\n",
              "  <tbody>\n",
              "    <tr>\n",
              "      <th>Building</th>\n",
              "      <td>Georgopol</td>\n",
              "      <td>Mylta</td>\n",
              "      <td>Novorepnoye</td>\n",
              "      <td>Pochinki</td>\n",
              "      <td>Primorsk</td>\n",
              "      <td>Severny</td>\n",
              "    </tr>\n",
              "    <tr>\n",
              "      <th>Roomno</th>\n",
              "      <td>866</td>\n",
              "      <td>732</td>\n",
              "      <td>129</td>\n",
              "      <td>604</td>\n",
              "      <td>444</td>\n",
              "      <td>521</td>\n",
              "    </tr>\n",
              "    <tr>\n",
              "      <th>Capacity</th>\n",
              "      <td>150</td>\n",
              "      <td>100</td>\n",
              "      <td>70</td>\n",
              "      <td>200</td>\n",
              "      <td>50</td>\n",
              "      <td>130</td>\n",
              "    </tr>\n",
              "  </tbody>\n",
              "</table>\n",
              "</div>"
            ],
            "text/plain": [
              "            record1 record2      record3   record4   record5  record6\n",
              "Building  Georgopol   Mylta  Novorepnoye  Pochinki  Primorsk  Severny\n",
              "Roomno          866     732          129       604       444      521\n",
              "Capacity        150     100           70       200        50      130"
            ]
          },
          "metadata": {
            "tags": []
          },
          "execution_count": 13
        }
      ]
    },
    {
      "cell_type": "markdown",
      "metadata": {
        "id": "BNTDnLMba-XM"
      },
      "source": [
        "***j) from Dictionary with required columns only***"
      ]
    },
    {
      "cell_type": "code",
      "metadata": {
        "colab": {
          "base_uri": "https://localhost:8080/",
          "height": 234
        },
        "id": "gHF05qrllnIu",
        "outputId": "9f080950-4011-44e3-9a4a-5dbee1a37b28"
      },
      "source": [
        "import pandas as pd\n",
        "data = {'Building': [\"Georgopol\",\"Mylta\",\"Novorepnoye\",\"Pochinki\",\"Primorsk\",\"Severny\"], \n",
        "        'Roomno': [866,732,129,604,444,521],\n",
        "        'Capacity':[150,100,70,200,50,130]\n",
        "       }\n",
        "# creating a Dataframe object \n",
        "df = pd.DataFrame(data,index = ['a', 'b','c','d','e','f'],columns = ['Building', 'Capacity'])\n",
        "df"
      ],
      "execution_count": null,
      "outputs": [
        {
          "output_type": "execute_result",
          "data": {
            "text/html": [
              "<div>\n",
              "<style scoped>\n",
              "    .dataframe tbody tr th:only-of-type {\n",
              "        vertical-align: middle;\n",
              "    }\n",
              "\n",
              "    .dataframe tbody tr th {\n",
              "        vertical-align: top;\n",
              "    }\n",
              "\n",
              "    .dataframe thead th {\n",
              "        text-align: right;\n",
              "    }\n",
              "</style>\n",
              "<table border=\"1\" class=\"dataframe\">\n",
              "  <thead>\n",
              "    <tr style=\"text-align: right;\">\n",
              "      <th></th>\n",
              "      <th>Building</th>\n",
              "      <th>Capacity</th>\n",
              "    </tr>\n",
              "  </thead>\n",
              "  <tbody>\n",
              "    <tr>\n",
              "      <th>a</th>\n",
              "      <td>Georgopol</td>\n",
              "      <td>150</td>\n",
              "    </tr>\n",
              "    <tr>\n",
              "      <th>b</th>\n",
              "      <td>Mylta</td>\n",
              "      <td>100</td>\n",
              "    </tr>\n",
              "    <tr>\n",
              "      <th>c</th>\n",
              "      <td>Novorepnoye</td>\n",
              "      <td>70</td>\n",
              "    </tr>\n",
              "    <tr>\n",
              "      <th>d</th>\n",
              "      <td>Pochinki</td>\n",
              "      <td>200</td>\n",
              "    </tr>\n",
              "    <tr>\n",
              "      <th>e</th>\n",
              "      <td>Primorsk</td>\n",
              "      <td>50</td>\n",
              "    </tr>\n",
              "    <tr>\n",
              "      <th>f</th>\n",
              "      <td>Severny</td>\n",
              "      <td>130</td>\n",
              "    </tr>\n",
              "  </tbody>\n",
              "</table>\n",
              "</div>"
            ],
            "text/plain": [
              "      Building  Capacity\n",
              "a    Georgopol       150\n",
              "b        Mylta       100\n",
              "c  Novorepnoye        70\n",
              "d     Pochinki       200\n",
              "e     Primorsk        50\n",
              "f      Severny       130"
            ]
          },
          "metadata": {
            "tags": []
          },
          "execution_count": 18
        }
      ]
    },
    {
      "cell_type": "markdown",
      "metadata": {
        "id": "Idj7o3v9nBQW"
      },
      "source": [
        "***k) from dictionary with key and simple value***"
      ]
    },
    {
      "cell_type": "code",
      "metadata": {
        "colab": {
          "base_uri": "https://localhost:8080/",
          "height": 172
        },
        "id": "FwsAvaGXnFtQ",
        "outputId": "2b8c44d5-1f37-4c5d-820d-4e09e400fee9"
      },
      "source": [
        "import pandas as pd\n",
        "# dictionary\n",
        "details = {\n",
        "    'Georgopol' : 866,\n",
        "    'Pochinki' : 604,\n",
        "    'Severny' : 521,\n",
        "    'Mylta' :732\n",
        "    }\n",
        "#creating a Dataframe object from a list of tuples of key, value pair\n",
        "df = pd.DataFrame(list(details.items()))  \n",
        "df"
      ],
      "execution_count": null,
      "outputs": [
        {
          "output_type": "execute_result",
          "data": {
            "text/html": [
              "<div>\n",
              "<style scoped>\n",
              "    .dataframe tbody tr th:only-of-type {\n",
              "        vertical-align: middle;\n",
              "    }\n",
              "\n",
              "    .dataframe tbody tr th {\n",
              "        vertical-align: top;\n",
              "    }\n",
              "\n",
              "    .dataframe thead th {\n",
              "        text-align: right;\n",
              "    }\n",
              "</style>\n",
              "<table border=\"1\" class=\"dataframe\">\n",
              "  <thead>\n",
              "    <tr style=\"text-align: right;\">\n",
              "      <th></th>\n",
              "      <th>0</th>\n",
              "      <th>1</th>\n",
              "    </tr>\n",
              "  </thead>\n",
              "  <tbody>\n",
              "    <tr>\n",
              "      <th>0</th>\n",
              "      <td>Georgopol</td>\n",
              "      <td>866</td>\n",
              "    </tr>\n",
              "    <tr>\n",
              "      <th>1</th>\n",
              "      <td>Pochinki</td>\n",
              "      <td>604</td>\n",
              "    </tr>\n",
              "    <tr>\n",
              "      <th>2</th>\n",
              "      <td>Severny</td>\n",
              "      <td>521</td>\n",
              "    </tr>\n",
              "    <tr>\n",
              "      <th>3</th>\n",
              "      <td>Mylta</td>\n",
              "      <td>732</td>\n",
              "    </tr>\n",
              "  </tbody>\n",
              "</table>\n",
              "</div>"
            ],
            "text/plain": [
              "           0    1\n",
              "0  Georgopol  866\n",
              "1   Pochinki  604\n",
              "2    Severny  521\n",
              "3      Mylta  732"
            ]
          },
          "metadata": {
            "tags": []
          },
          "execution_count": 19
        }
      ]
    },
    {
      "cell_type": "markdown",
      "metadata": {
        "id": "IZjw21ZcnpPZ"
      },
      "source": [
        "***l)from nested Dictionary.***"
      ]
    },
    {
      "cell_type": "code",
      "metadata": {
        "colab": {
          "base_uri": "https://localhost:8080/",
          "height": 234
        },
        "id": "CFh8g6rGn0Ig",
        "outputId": "02efd763-f811-4950-ee93-1abedc0c977a"
      },
      "source": [
        "import pandas as pd\n",
        "# dictionary with dictionary object in values i.e. nested dictionary\n",
        "details = { \n",
        "    0 : {\n",
        "        'Building':'Georgopol',\n",
        "         'Roomno':866,\n",
        "         'Capacity':150\n",
        "        },\n",
        "    1 : {\n",
        "       'Building':'Mylta',\n",
        "       'Roomno':732,\n",
        "       'Capacity':100\n",
        "        },\n",
        "    2 : {\n",
        "        'Building':'Novorepnoye',\n",
        "         'Roomno':129,\n",
        "         'Capacity':70\n",
        "        },\n",
        "    3:  {\n",
        "        'Building':'Pochinki',\n",
        "         'Roomno':604,\n",
        "         'Capacity':200\n",
        "        },\n",
        "    4:  {\n",
        "        'Building':'Primorsk',\n",
        "         'Roomno':444,\n",
        "         'Capacity':50\n",
        "        },\n",
        "    5:  {\n",
        "        'Building':'Severny',\n",
        "         'Roomno':521,\n",
        "         'Capacity':130\n",
        "         },\n",
        "}\n",
        "  \n",
        "# creating a Dataframe object from nested dictionaryin which inside dictionary key is act as index valueand column value is 0, 1, 2...\n",
        "df = pd.DataFrame(details)\n",
        "# swap the columns with indexes\n",
        "df = df.transpose()\n",
        "df"
      ],
      "execution_count": null,
      "outputs": [
        {
          "output_type": "execute_result",
          "data": {
            "text/html": [
              "<div>\n",
              "<style scoped>\n",
              "    .dataframe tbody tr th:only-of-type {\n",
              "        vertical-align: middle;\n",
              "    }\n",
              "\n",
              "    .dataframe tbody tr th {\n",
              "        vertical-align: top;\n",
              "    }\n",
              "\n",
              "    .dataframe thead th {\n",
              "        text-align: right;\n",
              "    }\n",
              "</style>\n",
              "<table border=\"1\" class=\"dataframe\">\n",
              "  <thead>\n",
              "    <tr style=\"text-align: right;\">\n",
              "      <th></th>\n",
              "      <th>Building</th>\n",
              "      <th>Roomno</th>\n",
              "      <th>Capacity</th>\n",
              "    </tr>\n",
              "  </thead>\n",
              "  <tbody>\n",
              "    <tr>\n",
              "      <th>0</th>\n",
              "      <td>Georgopol</td>\n",
              "      <td>866</td>\n",
              "      <td>150</td>\n",
              "    </tr>\n",
              "    <tr>\n",
              "      <th>1</th>\n",
              "      <td>Mylta</td>\n",
              "      <td>732</td>\n",
              "      <td>100</td>\n",
              "    </tr>\n",
              "    <tr>\n",
              "      <th>2</th>\n",
              "      <td>Novorepnoye</td>\n",
              "      <td>129</td>\n",
              "      <td>70</td>\n",
              "    </tr>\n",
              "    <tr>\n",
              "      <th>3</th>\n",
              "      <td>Pochinki</td>\n",
              "      <td>604</td>\n",
              "      <td>200</td>\n",
              "    </tr>\n",
              "    <tr>\n",
              "      <th>4</th>\n",
              "      <td>Primorsk</td>\n",
              "      <td>444</td>\n",
              "      <td>50</td>\n",
              "    </tr>\n",
              "    <tr>\n",
              "      <th>5</th>\n",
              "      <td>Severny</td>\n",
              "      <td>521</td>\n",
              "      <td>130</td>\n",
              "    </tr>\n",
              "  </tbody>\n",
              "</table>\n",
              "</div>"
            ],
            "text/plain": [
              "      Building Roomno Capacity\n",
              "0    Georgopol    866      150\n",
              "1        Mylta    732      100\n",
              "2  Novorepnoye    129       70\n",
              "3     Pochinki    604      200\n",
              "4     Primorsk    444       50\n",
              "5      Severny    521      130"
            ]
          },
          "metadata": {
            "tags": []
          },
          "execution_count": 20
        }
      ]
    },
    {
      "cell_type": "markdown",
      "metadata": {
        "id": "-SXp2LtLqRWN"
      },
      "source": [
        "***m)copying an existing dataframe***"
      ]
    },
    {
      "cell_type": "code",
      "metadata": {
        "colab": {
          "base_uri": "https://localhost:8080/",
          "height": 172
        },
        "id": "H2U6HAjdqWR9",
        "outputId": "472e2544-8d01-4a6b-d212-668250adb99e"
      },
      "source": [
        "df1 = df.head(4).copy()\n",
        "df1\n"
      ],
      "execution_count": null,
      "outputs": [
        {
          "output_type": "execute_result",
          "data": {
            "text/html": [
              "<div>\n",
              "<style scoped>\n",
              "    .dataframe tbody tr th:only-of-type {\n",
              "        vertical-align: middle;\n",
              "    }\n",
              "\n",
              "    .dataframe tbody tr th {\n",
              "        vertical-align: top;\n",
              "    }\n",
              "\n",
              "    .dataframe thead th {\n",
              "        text-align: right;\n",
              "    }\n",
              "</style>\n",
              "<table border=\"1\" class=\"dataframe\">\n",
              "  <thead>\n",
              "    <tr style=\"text-align: right;\">\n",
              "      <th></th>\n",
              "      <th>Building</th>\n",
              "      <th>Roomno</th>\n",
              "      <th>Capacity</th>\n",
              "    </tr>\n",
              "  </thead>\n",
              "  <tbody>\n",
              "    <tr>\n",
              "      <th>0</th>\n",
              "      <td>Georgopol</td>\n",
              "      <td>866</td>\n",
              "      <td>150</td>\n",
              "    </tr>\n",
              "    <tr>\n",
              "      <th>1</th>\n",
              "      <td>Mylta</td>\n",
              "      <td>732</td>\n",
              "      <td>100</td>\n",
              "    </tr>\n",
              "    <tr>\n",
              "      <th>2</th>\n",
              "      <td>Novorepnoye</td>\n",
              "      <td>129</td>\n",
              "      <td>70</td>\n",
              "    </tr>\n",
              "    <tr>\n",
              "      <th>3</th>\n",
              "      <td>Pochinki</td>\n",
              "      <td>604</td>\n",
              "      <td>200</td>\n",
              "    </tr>\n",
              "  </tbody>\n",
              "</table>\n",
              "</div>"
            ],
            "text/plain": [
              "      Building Roomno Capacity\n",
              "0    Georgopol    866      150\n",
              "1        Mylta    732      100\n",
              "2  Novorepnoye    129       70\n",
              "3     Pochinki    604      200"
            ]
          },
          "metadata": {
            "tags": []
          },
          "execution_count": 21
        }
      ]
    },
    {
      "cell_type": "markdown",
      "metadata": {
        "id": "sjA6LDadsKmG"
      },
      "source": [
        "## **2.CREATE DATAFRAME FROM CSV FILE AND SAVE AS CSV FILE**"
      ]
    },
    {
      "cell_type": "code",
      "metadata": {
        "id": "5rAYqVCjCIXE"
      },
      "source": [
        ""
      ],
      "execution_count": null,
      "outputs": []
    },
    {
      "cell_type": "markdown",
      "metadata": {
        "id": "lvs0V6qasSlE"
      },
      "source": [
        "***a)Load data from local drive***"
      ]
    },
    {
      "cell_type": "code",
      "metadata": {
        "colab": {
          "resources": {
            "http://localhost:8080/nbextensions/google.colab/files.js": {
              "data": "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",
              "ok": true,
              "headers": [
                [
                  "content-type",
                  "application/javascript"
                ]
              ],
              "status": 200,
              "status_text": ""
            }
          },
          "base_uri": "https://localhost:8080/",
          "height": 73
        },
        "id": "0Y_pgwZRsp2n",
        "outputId": "15d92c1a-a922-4d65-c1e1-20daf0b94002"
      },
      "source": [
        "import pandas as pd\n",
        "\n",
        "from google.colab import files\n",
        "uploaded = files.upload()"
      ],
      "execution_count": null,
      "outputs": [
        {
          "output_type": "display_data",
          "data": {
            "text/html": [
              "\n",
              "     <input type=\"file\" id=\"files-33bbee12-8001-4464-8a69-4cba72bc9adc\" name=\"files[]\" multiple disabled\n",
              "        style=\"border:none\" />\n",
              "     <output id=\"result-33bbee12-8001-4464-8a69-4cba72bc9adc\">\n",
              "      Upload widget is only available when the cell has been executed in the\n",
              "      current browser session. Please rerun this cell to enable.\n",
              "      </output>\n",
              "      <script src=\"/nbextensions/google.colab/files.js\"></script> "
            ],
            "text/plain": [
              "<IPython.core.display.HTML object>"
            ]
          },
          "metadata": {
            "tags": []
          }
        },
        {
          "output_type": "stream",
          "text": [
            "Saving weapon_status.csv to weapon_status.csv\n"
          ],
          "name": "stdout"
        }
      ]
    },
    {
      "cell_type": "code",
      "metadata": {
        "colab": {
          "base_uri": "https://localhost:8080/",
          "height": 391
        },
        "id": "CmLhBSpts9Pk",
        "outputId": "23516777-4eeb-4ebd-9ef3-f37f228e401d"
      },
      "source": [
        "import io\n",
        "weapon_df = pd.read_csv(io.BytesIO(uploaded['weapon_status.csv']))\n",
        "weapon_df.head(5)"
      ],
      "execution_count": null,
      "outputs": [
        {
          "output_type": "execute_result",
          "data": {
            "text/html": [
              "<div>\n",
              "<style scoped>\n",
              "    .dataframe tbody tr th:only-of-type {\n",
              "        vertical-align: middle;\n",
              "    }\n",
              "\n",
              "    .dataframe tbody tr th {\n",
              "        vertical-align: top;\n",
              "    }\n",
              "\n",
              "    .dataframe thead th {\n",
              "        text-align: right;\n",
              "    }\n",
              "</style>\n",
              "<table border=\"1\" class=\"dataframe\">\n",
              "  <thead>\n",
              "    <tr style=\"text-align: right;\">\n",
              "      <th></th>\n",
              "      <th>Weapon Name</th>\n",
              "      <th>Weapon Type</th>\n",
              "      <th>Bullet Type</th>\n",
              "      <th>Damage</th>\n",
              "      <th>Magazine Capacity</th>\n",
              "      <th>Range</th>\n",
              "      <th>Bullet Speed</th>\n",
              "      <th>Rate of Fire</th>\n",
              "      <th>Shots to Kill (Chest)</th>\n",
              "      <th>Shots to Kill (Head)</th>\n",
              "      <th>Damage Per Second</th>\n",
              "      <th>Fire Mode</th>\n",
              "      <th>BDMG_0</th>\n",
              "      <th>BDMG_1</th>\n",
              "      <th>BDMG_2</th>\n",
              "      <th>BDMG_3</th>\n",
              "      <th>HDMG_0</th>\n",
              "      <th>HDMG_1</th>\n",
              "      <th>HDMG_2</th>\n",
              "      <th>HDMG_3</th>\n",
              "    </tr>\n",
              "  </thead>\n",
              "  <tbody>\n",
              "    <tr>\n",
              "      <th>0</th>\n",
              "      <td>Groza</td>\n",
              "      <td>Assault Rifle</td>\n",
              "      <td>7.62</td>\n",
              "      <td>49</td>\n",
              "      <td>30</td>\n",
              "      <td>400.0</td>\n",
              "      <td>715.0</td>\n",
              "      <td>0.080</td>\n",
              "      <td>4</td>\n",
              "      <td>2</td>\n",
              "      <td>612.0</td>\n",
              "      <td>Single, Automatic, Burst</td>\n",
              "      <td>47.0</td>\n",
              "      <td>34.3</td>\n",
              "      <td>29.4</td>\n",
              "      <td>22.0</td>\n",
              "      <td>115.1</td>\n",
              "      <td>80.6</td>\n",
              "      <td>69.0</td>\n",
              "      <td>51.8</td>\n",
              "    </tr>\n",
              "    <tr>\n",
              "      <th>1</th>\n",
              "      <td>AKM</td>\n",
              "      <td>Assault Rifle</td>\n",
              "      <td>7.62</td>\n",
              "      <td>49</td>\n",
              "      <td>30</td>\n",
              "      <td>400.0</td>\n",
              "      <td>710.0</td>\n",
              "      <td>0.010</td>\n",
              "      <td>4</td>\n",
              "      <td>2</td>\n",
              "      <td>490.0</td>\n",
              "      <td>Single, Automatic</td>\n",
              "      <td>47.0</td>\n",
              "      <td>34.3</td>\n",
              "      <td>29.4</td>\n",
              "      <td>22.0</td>\n",
              "      <td>115.1</td>\n",
              "      <td>80.6</td>\n",
              "      <td>69.0</td>\n",
              "      <td>51.8</td>\n",
              "    </tr>\n",
              "    <tr>\n",
              "      <th>2</th>\n",
              "      <td>M762</td>\n",
              "      <td>Assault Rifle</td>\n",
              "      <td>7.62</td>\n",
              "      <td>47</td>\n",
              "      <td>30</td>\n",
              "      <td>400.0</td>\n",
              "      <td>715.0</td>\n",
              "      <td>0.086</td>\n",
              "      <td>4</td>\n",
              "      <td>2</td>\n",
              "      <td>547.0</td>\n",
              "      <td>Single, Automatic, Burst</td>\n",
              "      <td>46.0</td>\n",
              "      <td>32.9</td>\n",
              "      <td>28.2</td>\n",
              "      <td>21.1</td>\n",
              "      <td>110.4</td>\n",
              "      <td>77.3</td>\n",
              "      <td>66.2</td>\n",
              "      <td>49.7</td>\n",
              "    </tr>\n",
              "    <tr>\n",
              "      <th>3</th>\n",
              "      <td>MK47 Mutant</td>\n",
              "      <td>Assault Rifle</td>\n",
              "      <td>7.62</td>\n",
              "      <td>49</td>\n",
              "      <td>30</td>\n",
              "      <td>500.0</td>\n",
              "      <td>715.0</td>\n",
              "      <td>0.010</td>\n",
              "      <td>4</td>\n",
              "      <td>2</td>\n",
              "      <td>490.0</td>\n",
              "      <td>Single, Burst</td>\n",
              "      <td>49.0</td>\n",
              "      <td>34.3</td>\n",
              "      <td>29.4</td>\n",
              "      <td>22.0</td>\n",
              "      <td>115.1</td>\n",
              "      <td>80.6</td>\n",
              "      <td>69.0</td>\n",
              "      <td>51.8</td>\n",
              "    </tr>\n",
              "    <tr>\n",
              "      <th>4</th>\n",
              "      <td>AUG A3</td>\n",
              "      <td>Assault Rifle</td>\n",
              "      <td>5.56</td>\n",
              "      <td>43</td>\n",
              "      <td>30</td>\n",
              "      <td>600.0</td>\n",
              "      <td>880.0</td>\n",
              "      <td>0.086</td>\n",
              "      <td>4</td>\n",
              "      <td>2</td>\n",
              "      <td>502.0</td>\n",
              "      <td>Single, Automatic</td>\n",
              "      <td>41.0</td>\n",
              "      <td>30.1</td>\n",
              "      <td>25.8</td>\n",
              "      <td>19.3</td>\n",
              "      <td>101.0</td>\n",
              "      <td>70.7</td>\n",
              "      <td>60.6</td>\n",
              "      <td>45.4</td>\n",
              "    </tr>\n",
              "  </tbody>\n",
              "</table>\n",
              "</div>"
            ],
            "text/plain": [
              "   Weapon Name    Weapon Type  Bullet Type  ...  HDMG_1  HDMG_2  HDMG_3\n",
              "0        Groza  Assault Rifle         7.62  ...    80.6    69.0    51.8\n",
              "1          AKM  Assault Rifle         7.62  ...    80.6    69.0    51.8\n",
              "2         M762  Assault Rifle         7.62  ...    77.3    66.2    49.7\n",
              "3  MK47 Mutant  Assault Rifle         7.62  ...    80.6    69.0    51.8\n",
              "4       AUG A3  Assault Rifle         5.56  ...    70.7    60.6    45.4\n",
              "\n",
              "[5 rows x 20 columns]"
            ]
          },
          "metadata": {
            "tags": []
          },
          "execution_count": 23
        }
      ]
    },
    {
      "cell_type": "markdown",
      "metadata": {
        "id": "vBHLXRjl5V7m"
      },
      "source": [
        "***b)From Github***"
      ]
    },
    {
      "cell_type": "code",
      "metadata": {
        "colab": {
          "base_uri": "https://localhost:8080/",
          "height": 486
        },
        "id": "DyTvaN6R5oCZ",
        "outputId": "711e9c48-5a95-471f-ca6c-0ed23ace8161"
      },
      "source": [
        "path= 'https://github.com/chinnuzz/python/raw/main/weapon_status.csv'\n",
        "weaponstat_df = pd.read_csv(path,sep = ',', header = 'infer', index_col =None, )\n",
        "weaponstat_df.head(7)"
      ],
      "execution_count": null,
      "outputs": [
        {
          "output_type": "execute_result",
          "data": {
            "text/html": [
              "<div>\n",
              "<style scoped>\n",
              "    .dataframe tbody tr th:only-of-type {\n",
              "        vertical-align: middle;\n",
              "    }\n",
              "\n",
              "    .dataframe tbody tr th {\n",
              "        vertical-align: top;\n",
              "    }\n",
              "\n",
              "    .dataframe thead th {\n",
              "        text-align: right;\n",
              "    }\n",
              "</style>\n",
              "<table border=\"1\" class=\"dataframe\">\n",
              "  <thead>\n",
              "    <tr style=\"text-align: right;\">\n",
              "      <th></th>\n",
              "      <th>Weapon Name</th>\n",
              "      <th>Weapon Type</th>\n",
              "      <th>Bullet Type</th>\n",
              "      <th>Damage</th>\n",
              "      <th>Magazine Capacity</th>\n",
              "      <th>Range</th>\n",
              "      <th>Bullet Speed</th>\n",
              "      <th>Rate of Fire</th>\n",
              "      <th>Shots to Kill (Chest)</th>\n",
              "      <th>Shots to Kill (Head)</th>\n",
              "      <th>Damage Per Second</th>\n",
              "      <th>Fire Mode</th>\n",
              "      <th>BDMG_0</th>\n",
              "      <th>BDMG_1</th>\n",
              "      <th>BDMG_2</th>\n",
              "      <th>BDMG_3</th>\n",
              "      <th>HDMG_0</th>\n",
              "      <th>HDMG_1</th>\n",
              "      <th>HDMG_2</th>\n",
              "      <th>HDMG_3</th>\n",
              "    </tr>\n",
              "  </thead>\n",
              "  <tbody>\n",
              "    <tr>\n",
              "      <th>0</th>\n",
              "      <td>Groza</td>\n",
              "      <td>Assault Rifle</td>\n",
              "      <td>7.62</td>\n",
              "      <td>49</td>\n",
              "      <td>30</td>\n",
              "      <td>400.0</td>\n",
              "      <td>715.0</td>\n",
              "      <td>0.080</td>\n",
              "      <td>4</td>\n",
              "      <td>2</td>\n",
              "      <td>612.0</td>\n",
              "      <td>Single, Automatic, Burst</td>\n",
              "      <td>47.0</td>\n",
              "      <td>34.3</td>\n",
              "      <td>29.4</td>\n",
              "      <td>22.0</td>\n",
              "      <td>115.1</td>\n",
              "      <td>80.6</td>\n",
              "      <td>69.0</td>\n",
              "      <td>51.8</td>\n",
              "    </tr>\n",
              "    <tr>\n",
              "      <th>1</th>\n",
              "      <td>AKM</td>\n",
              "      <td>Assault Rifle</td>\n",
              "      <td>7.62</td>\n",
              "      <td>49</td>\n",
              "      <td>30</td>\n",
              "      <td>400.0</td>\n",
              "      <td>710.0</td>\n",
              "      <td>0.010</td>\n",
              "      <td>4</td>\n",
              "      <td>2</td>\n",
              "      <td>490.0</td>\n",
              "      <td>Single, Automatic</td>\n",
              "      <td>47.0</td>\n",
              "      <td>34.3</td>\n",
              "      <td>29.4</td>\n",
              "      <td>22.0</td>\n",
              "      <td>115.1</td>\n",
              "      <td>80.6</td>\n",
              "      <td>69.0</td>\n",
              "      <td>51.8</td>\n",
              "    </tr>\n",
              "    <tr>\n",
              "      <th>2</th>\n",
              "      <td>M762</td>\n",
              "      <td>Assault Rifle</td>\n",
              "      <td>7.62</td>\n",
              "      <td>47</td>\n",
              "      <td>30</td>\n",
              "      <td>400.0</td>\n",
              "      <td>715.0</td>\n",
              "      <td>0.086</td>\n",
              "      <td>4</td>\n",
              "      <td>2</td>\n",
              "      <td>547.0</td>\n",
              "      <td>Single, Automatic, Burst</td>\n",
              "      <td>46.0</td>\n",
              "      <td>32.9</td>\n",
              "      <td>28.2</td>\n",
              "      <td>21.1</td>\n",
              "      <td>110.4</td>\n",
              "      <td>77.3</td>\n",
              "      <td>66.2</td>\n",
              "      <td>49.7</td>\n",
              "    </tr>\n",
              "    <tr>\n",
              "      <th>3</th>\n",
              "      <td>MK47 Mutant</td>\n",
              "      <td>Assault Rifle</td>\n",
              "      <td>7.62</td>\n",
              "      <td>49</td>\n",
              "      <td>30</td>\n",
              "      <td>500.0</td>\n",
              "      <td>715.0</td>\n",
              "      <td>0.010</td>\n",
              "      <td>4</td>\n",
              "      <td>2</td>\n",
              "      <td>490.0</td>\n",
              "      <td>Single, Burst</td>\n",
              "      <td>49.0</td>\n",
              "      <td>34.3</td>\n",
              "      <td>29.4</td>\n",
              "      <td>22.0</td>\n",
              "      <td>115.1</td>\n",
              "      <td>80.6</td>\n",
              "      <td>69.0</td>\n",
              "      <td>51.8</td>\n",
              "    </tr>\n",
              "    <tr>\n",
              "      <th>4</th>\n",
              "      <td>AUG A3</td>\n",
              "      <td>Assault Rifle</td>\n",
              "      <td>5.56</td>\n",
              "      <td>43</td>\n",
              "      <td>30</td>\n",
              "      <td>600.0</td>\n",
              "      <td>880.0</td>\n",
              "      <td>0.086</td>\n",
              "      <td>4</td>\n",
              "      <td>2</td>\n",
              "      <td>502.0</td>\n",
              "      <td>Single, Automatic</td>\n",
              "      <td>41.0</td>\n",
              "      <td>30.1</td>\n",
              "      <td>25.8</td>\n",
              "      <td>19.3</td>\n",
              "      <td>101.0</td>\n",
              "      <td>70.7</td>\n",
              "      <td>60.6</td>\n",
              "      <td>45.4</td>\n",
              "    </tr>\n",
              "    <tr>\n",
              "      <th>5</th>\n",
              "      <td>SCAR-L</td>\n",
              "      <td>Assault Rifle</td>\n",
              "      <td>5.56</td>\n",
              "      <td>43</td>\n",
              "      <td>30</td>\n",
              "      <td>600.0</td>\n",
              "      <td>880.0</td>\n",
              "      <td>0.096</td>\n",
              "      <td>4</td>\n",
              "      <td>2</td>\n",
              "      <td>448.0</td>\n",
              "      <td>Single, Automatic</td>\n",
              "      <td>41.0</td>\n",
              "      <td>30.1</td>\n",
              "      <td>25.8</td>\n",
              "      <td>19.3</td>\n",
              "      <td>101.0</td>\n",
              "      <td>70.7</td>\n",
              "      <td>60.6</td>\n",
              "      <td>45.4</td>\n",
              "    </tr>\n",
              "    <tr>\n",
              "      <th>6</th>\n",
              "      <td>M416</td>\n",
              "      <td>Assault Rifle</td>\n",
              "      <td>5.56</td>\n",
              "      <td>43</td>\n",
              "      <td>30</td>\n",
              "      <td>600.0</td>\n",
              "      <td>890.0</td>\n",
              "      <td>0.086</td>\n",
              "      <td>4</td>\n",
              "      <td>2</td>\n",
              "      <td>502.0</td>\n",
              "      <td>Single, Automatic</td>\n",
              "      <td>41.0</td>\n",
              "      <td>30.1</td>\n",
              "      <td>25.8</td>\n",
              "      <td>19.3</td>\n",
              "      <td>101.0</td>\n",
              "      <td>70.7</td>\n",
              "      <td>60.6</td>\n",
              "      <td>45.4</td>\n",
              "    </tr>\n",
              "  </tbody>\n",
              "</table>\n",
              "</div>"
            ],
            "text/plain": [
              "   Weapon Name    Weapon Type  Bullet Type  ...  HDMG_1  HDMG_2  HDMG_3\n",
              "0        Groza  Assault Rifle         7.62  ...    80.6    69.0    51.8\n",
              "1          AKM  Assault Rifle         7.62  ...    80.6    69.0    51.8\n",
              "2         M762  Assault Rifle         7.62  ...    77.3    66.2    49.7\n",
              "3  MK47 Mutant  Assault Rifle         7.62  ...    80.6    69.0    51.8\n",
              "4       AUG A3  Assault Rifle         5.56  ...    70.7    60.6    45.4\n",
              "5       SCAR-L  Assault Rifle         5.56  ...    70.7    60.6    45.4\n",
              "6         M416  Assault Rifle         5.56  ...    70.7    60.6    45.4\n",
              "\n",
              "[7 rows x 20 columns]"
            ]
          },
          "metadata": {
            "tags": []
          },
          "execution_count": 24
        }
      ]
    },
    {
      "cell_type": "markdown",
      "metadata": {
        "id": "X_gVW37-95IR"
      },
      "source": [
        "***c) Mount from drive***"
      ]
    },
    {
      "cell_type": "code",
      "metadata": {
        "colab": {
          "base_uri": "https://localhost:8080/"
        },
        "id": "UVGRsV3U-EwC",
        "outputId": "99d3abbb-937c-448f-fed0-1849b298b55a"
      },
      "source": [
        "from google.colab import drive\n",
        "drive.mount('/content/drive')"
      ],
      "execution_count": null,
      "outputs": [
        {
          "output_type": "stream",
          "text": [
            "Mounted at /content/drive\n"
          ],
          "name": "stdout"
        }
      ]
    },
    {
      "cell_type": "code",
      "metadata": {
        "colab": {
          "base_uri": "https://localhost:8080/"
        },
        "id": "SB7kAng5-dM_",
        "outputId": "0e77b79a-35c2-4fb8-cb1f-715ebe7283bd"
      },
      "source": [
        "import pandas as pd\n",
        "weapon_df = pd.read_csv(\"/content/drive/MyDrive/weapon_stat.csv\")\n",
        "weapon_df.describe"
      ],
      "execution_count": null,
      "outputs": [
        {
          "output_type": "execute_result",
          "data": {
            "text/plain": [
              "<bound method NDFrame.describe of     Weapon Name              Weapon Type  Bullet Type  ...  HDMG_1  HDMG_2  HDMG_3\n",
              "0         Groza            Assault Rifle         7.62  ...    80.6    69.0    51.8\n",
              "1           AKM            Assault Rifle         7.62  ...    80.6    69.0    51.8\n",
              "2          M762            Assault Rifle         7.62  ...    77.3    66.2    49.7\n",
              "3   MK47 Mutant            Assault Rifle         7.62  ...    80.6    69.0    51.8\n",
              "4        AUG A3            Assault Rifle         5.56  ...    70.7    60.6    45.4\n",
              "5        SCAR-L            Assault Rifle         5.56  ...    70.7    60.6    45.4\n",
              "6          M416            Assault Rifle         5.56  ...    70.7    60.6    45.4\n",
              "7         M16A4            Assault Rifle         5.56  ...    70.7    60.6    45.4\n",
              "8          G36C            Assault Rifle         5.56  ...    70.7    60.6    45.4\n",
              "9           OBZ            Assault Rifle         5.56  ...    70.7    60.6    45.4\n",
              "10         M249        Light Machine Gun         5.56  ...    72.4    62.0    46.5\n",
              "11        DP-28        Light Machine Gun         7.62  ...    82.1    70.3    52.7\n",
              "12       Vector           Submachine Gun         9.00  ...    39.0    33.4    25.1\n",
              "13          Uzi           Submachine Gun         9.00  ...    32.7    28.0    21.0\n",
              "14     PP-Bizon           Submachine Gun         9.00  ...    44.0    37.8    28.3\n",
              "15         MP5K           Submachine Gun         9.00  ...    41.5    35.6    26.7\n",
              "16     Thompson           Submachine Gun         0.45  ...    50.4    43.1    32.4\n",
              "17        UMP45           Submachine Gun         0.45  ...    49.1    42.1    31.5\n",
              "18         S686                  Shotgun        12.00  ...   218.7   187.2   140.4\n",
              "19        S1897                  Shotgun        12.00  ...   215.1   184.5   137.7\n",
              "20         S12K                  Shotgun        12.00  ...   131.4   112.5    84.6\n",
              "21         MK14  Designed Marksman Rifle         7.62  ...   100.3    86.0    64.5\n",
              "22          SLR  Designed Marksman Rifle         7.62  ...    95.4    81.7    61.3\n",
              "23          SKS  Designed Marksman Rifle         7.62  ...    87.1    74.7    56.0\n",
              "24          QBU  Designed Marksman Rifle         5.56  ...    78.9    67.6    50.7\n",
              "25       Mini14  Designed Marksman Rifle         5.56  ...    75.6    64.8    48.6\n",
              "26          VSS  Designed Marksman Rifle         9.00  ...    67.4    57.8    43.3\n",
              "27          AWM             Sniper Rifle         0.30  ...   183.7   157.5   118.1\n",
              "28          M24             Sniper Rifle         7.62  ...   138.0   118.0    89.0\n",
              "29        Kar98             Sniper Rifle         7.62  ...   138.2   118.5    88.8\n",
              "30        Win94             Sniper Rifle         0.45  ...   115.4    99.0    74.2\n",
              "31    Sawed-Off                   Pistol        12.00  ...   167.2   143.2   107.2\n",
              "32        R1895                   Pistol         7.62  ...    76.7    65.7    49.3\n",
              "33          R45                   Pistol         0.45  ...    76.7    65.7    49.3\n",
              "34        P1911                   Pistol         0.45  ...    56.8    48.7    36.5\n",
              "35          P92                   Pistol         9.00  ...    48.4    41.4    31.1\n",
              "36         P18C                   Pistol         9.00  ...    31.4    26.9    20.2\n",
              "37     Skorpion                   Pistol         9.00  ...     NaN     NaN     NaN\n",
              "38     Crossbow                    Other          NaN  ...     NaN     NaN     NaN\n",
              "39          Pan                    Melee          NaN  ...     NaN     NaN     NaN\n",
              "40      Crowbar                    Melee          NaN  ...     NaN     NaN     NaN\n",
              "41       Sickle                    Melee          NaN  ...     NaN     NaN     NaN\n",
              "42      Machete                    Melee          NaN  ...     NaN     NaN     NaN\n",
              "43        Punch                    Melee          NaN  ...     NaN     NaN     NaN\n",
              "\n",
              "[44 rows x 20 columns]>"
            ]
          },
          "metadata": {
            "tags": []
          },
          "execution_count": 26
        }
      ]
    },
    {
      "cell_type": "markdown",
      "metadata": {
        "id": "gGbCsIvOBYni"
      },
      "source": [
        "***Save Dataframe as CSV file using to_csv() method***"
      ]
    },
    {
      "cell_type": "code",
      "metadata": {
        "id": "yDqg1rSnBkBL"
      },
      "source": [
        "data = {'Name':['Mortal','Kaztro','Viper','Caesar'],\n",
        "        'Id':[6729,5719,6911,2689],\n",
        "        'Place':['Mylta','Pochinki','Georgopol','Severny']}\n",
        "df = pd.DataFrame(data)\n",
        "df.to_csv('my_dataset.csv')"
      ],
      "execution_count": null,
      "outputs": []
    },
    {
      "cell_type": "markdown",
      "metadata": {
        "id": "7ju0sX2fCUZr"
      },
      "source": [
        "## **3.GROUP BY OPERATIONS IN DATAFRAME**"
      ]
    },
    {
      "cell_type": "markdown",
      "metadata": {
        "id": "zw1kjwPoCeb9"
      },
      "source": [
        "A groupby operation involves some combination of splitting the object, applying a function, and combining the results. This can be used to group large amounts of data and compute operations on these groups."
      ]
    },
    {
      "cell_type": "markdown",
      "metadata": {
        "id": "9nW0fzpAC2o7"
      },
      "source": [
        "***a)Splitting to groups***"
      ]
    },
    {
      "cell_type": "code",
      "metadata": {
        "colab": {
          "base_uri": "https://localhost:8080/",
          "height": 690
        },
        "id": "K9yFyg-tDJ1B",
        "outputId": "29961fa1-b55a-4109-ca96-493cc1057af0"
      },
      "source": [
        "import pandas as pd \n",
        "df = pd.read_csv('https://github.com/chinnuzz/python/raw/main/weapon_status.csv')\n",
        "weapon_range = df.groupby('Range')\n",
        "# Let's print the first entries in all the groups formed.\n",
        "weapon_range.first()"
      ],
      "execution_count": null,
      "outputs": [
        {
          "output_type": "execute_result",
          "data": {
            "text/html": [
              "<div>\n",
              "<style scoped>\n",
              "    .dataframe tbody tr th:only-of-type {\n",
              "        vertical-align: middle;\n",
              "    }\n",
              "\n",
              "    .dataframe tbody tr th {\n",
              "        vertical-align: top;\n",
              "    }\n",
              "\n",
              "    .dataframe thead th {\n",
              "        text-align: right;\n",
              "    }\n",
              "</style>\n",
              "<table border=\"1\" class=\"dataframe\">\n",
              "  <thead>\n",
              "    <tr style=\"text-align: right;\">\n",
              "      <th></th>\n",
              "      <th>Weapon Name</th>\n",
              "      <th>Weapon Type</th>\n",
              "      <th>Bullet Type</th>\n",
              "      <th>Damage</th>\n",
              "      <th>Magazine Capacity</th>\n",
              "      <th>Bullet Speed</th>\n",
              "      <th>Rate of Fire</th>\n",
              "      <th>Shots to Kill (Chest)</th>\n",
              "      <th>Shots to Kill (Head)</th>\n",
              "      <th>Damage Per Second</th>\n",
              "      <th>Fire Mode</th>\n",
              "      <th>BDMG_0</th>\n",
              "      <th>BDMG_1</th>\n",
              "      <th>BDMG_2</th>\n",
              "      <th>BDMG_3</th>\n",
              "      <th>HDMG_0</th>\n",
              "      <th>HDMG_1</th>\n",
              "      <th>HDMG_2</th>\n",
              "      <th>HDMG_3</th>\n",
              "    </tr>\n",
              "    <tr>\n",
              "      <th>Range</th>\n",
              "      <th></th>\n",
              "      <th></th>\n",
              "      <th></th>\n",
              "      <th></th>\n",
              "      <th></th>\n",
              "      <th></th>\n",
              "      <th></th>\n",
              "      <th></th>\n",
              "      <th></th>\n",
              "      <th></th>\n",
              "      <th></th>\n",
              "      <th></th>\n",
              "      <th></th>\n",
              "      <th></th>\n",
              "      <th></th>\n",
              "      <th></th>\n",
              "      <th></th>\n",
              "      <th></th>\n",
              "      <th></th>\n",
              "    </tr>\n",
              "  </thead>\n",
              "  <tbody>\n",
              "    <tr>\n",
              "      <th>25.0</th>\n",
              "      <td>S686</td>\n",
              "      <td>Shotgun</td>\n",
              "      <td>12.00</td>\n",
              "      <td>216</td>\n",
              "      <td>2</td>\n",
              "      <td>370.0</td>\n",
              "      <td>0.200</td>\n",
              "      <td>1</td>\n",
              "      <td>1</td>\n",
              "      <td>1080.0</td>\n",
              "      <td>Automatic</td>\n",
              "      <td>207.9</td>\n",
              "      <td>145.8</td>\n",
              "      <td>124.2</td>\n",
              "      <td>93.6</td>\n",
              "      <td>312.3</td>\n",
              "      <td>218.7</td>\n",
              "      <td>187.2</td>\n",
              "      <td>140.4</td>\n",
              "    </tr>\n",
              "    <tr>\n",
              "      <th>50.0</th>\n",
              "      <td>Vector</td>\n",
              "      <td>Submachine Gun</td>\n",
              "      <td>9.00</td>\n",
              "      <td>31</td>\n",
              "      <td>19</td>\n",
              "      <td>300.0</td>\n",
              "      <td>0.055</td>\n",
              "      <td>5</td>\n",
              "      <td>3</td>\n",
              "      <td>569.0</td>\n",
              "      <td>Single, Automatic, Burst</td>\n",
              "      <td>31.0</td>\n",
              "      <td>21.7</td>\n",
              "      <td>18.5</td>\n",
              "      <td>13.9</td>\n",
              "      <td>55.8</td>\n",
              "      <td>39.0</td>\n",
              "      <td>33.4</td>\n",
              "      <td>25.1</td>\n",
              "    </tr>\n",
              "    <tr>\n",
              "      <th>60.0</th>\n",
              "      <td>Skorpion</td>\n",
              "      <td>Pistol</td>\n",
              "      <td>9.00</td>\n",
              "      <td>22</td>\n",
              "      <td>20</td>\n",
              "      <td>400.0</td>\n",
              "      <td>0.070</td>\n",
              "      <td>8</td>\n",
              "      <td>4</td>\n",
              "      <td>312.0</td>\n",
              "      <td>Automatic</td>\n",
              "      <td>NaN</td>\n",
              "      <td>NaN</td>\n",
              "      <td>NaN</td>\n",
              "      <td>NaN</td>\n",
              "      <td>NaN</td>\n",
              "      <td>NaN</td>\n",
              "      <td>NaN</td>\n",
              "      <td>NaN</td>\n",
              "    </tr>\n",
              "    <tr>\n",
              "      <th>200.0</th>\n",
              "      <td>Uzi</td>\n",
              "      <td>Submachine Gun</td>\n",
              "      <td>9.00</td>\n",
              "      <td>26</td>\n",
              "      <td>25</td>\n",
              "      <td>350.0</td>\n",
              "      <td>0.048</td>\n",
              "      <td>7</td>\n",
              "      <td>4</td>\n",
              "      <td>542.0</td>\n",
              "      <td>Single, Automatic</td>\n",
              "      <td>26.0</td>\n",
              "      <td>18.2</td>\n",
              "      <td>15.6</td>\n",
              "      <td>11.7</td>\n",
              "      <td>46.8</td>\n",
              "      <td>32.7</td>\n",
              "      <td>28.0</td>\n",
              "      <td>21.0</td>\n",
              "    </tr>\n",
              "    <tr>\n",
              "      <th>300.0</th>\n",
              "      <td>PP-Bizon</td>\n",
              "      <td>Submachine Gun</td>\n",
              "      <td>9.00</td>\n",
              "      <td>35</td>\n",
              "      <td>53</td>\n",
              "      <td>300.0</td>\n",
              "      <td>0.076</td>\n",
              "      <td>5</td>\n",
              "      <td>3</td>\n",
              "      <td>408.0</td>\n",
              "      <td>Single, Automatic</td>\n",
              "      <td>35.0</td>\n",
              "      <td>24.5</td>\n",
              "      <td>21.0</td>\n",
              "      <td>15.7</td>\n",
              "      <td>63.0</td>\n",
              "      <td>44.0</td>\n",
              "      <td>37.8</td>\n",
              "      <td>28.3</td>\n",
              "    </tr>\n",
              "    <tr>\n",
              "      <th>400.0</th>\n",
              "      <td>Groza</td>\n",
              "      <td>Assault Rifle</td>\n",
              "      <td>7.62</td>\n",
              "      <td>49</td>\n",
              "      <td>30</td>\n",
              "      <td>715.0</td>\n",
              "      <td>0.080</td>\n",
              "      <td>4</td>\n",
              "      <td>2</td>\n",
              "      <td>612.0</td>\n",
              "      <td>Single, Automatic, Burst</td>\n",
              "      <td>47.0</td>\n",
              "      <td>34.3</td>\n",
              "      <td>29.4</td>\n",
              "      <td>22.0</td>\n",
              "      <td>115.1</td>\n",
              "      <td>80.6</td>\n",
              "      <td>69.0</td>\n",
              "      <td>51.8</td>\n",
              "    </tr>\n",
              "    <tr>\n",
              "      <th>500.0</th>\n",
              "      <td>MK47 Mutant</td>\n",
              "      <td>Assault Rifle</td>\n",
              "      <td>7.62</td>\n",
              "      <td>49</td>\n",
              "      <td>30</td>\n",
              "      <td>715.0</td>\n",
              "      <td>0.010</td>\n",
              "      <td>4</td>\n",
              "      <td>2</td>\n",
              "      <td>490.0</td>\n",
              "      <td>Single, Burst</td>\n",
              "      <td>49.0</td>\n",
              "      <td>34.3</td>\n",
              "      <td>29.4</td>\n",
              "      <td>22.0</td>\n",
              "      <td>115.1</td>\n",
              "      <td>80.6</td>\n",
              "      <td>69.0</td>\n",
              "      <td>51.8</td>\n",
              "    </tr>\n",
              "    <tr>\n",
              "      <th>600.0</th>\n",
              "      <td>AUG A3</td>\n",
              "      <td>Assault Rifle</td>\n",
              "      <td>5.56</td>\n",
              "      <td>43</td>\n",
              "      <td>30</td>\n",
              "      <td>880.0</td>\n",
              "      <td>0.086</td>\n",
              "      <td>4</td>\n",
              "      <td>2</td>\n",
              "      <td>502.0</td>\n",
              "      <td>Single, Automatic</td>\n",
              "      <td>41.0</td>\n",
              "      <td>30.1</td>\n",
              "      <td>25.8</td>\n",
              "      <td>19.3</td>\n",
              "      <td>101.0</td>\n",
              "      <td>70.7</td>\n",
              "      <td>60.6</td>\n",
              "      <td>45.4</td>\n",
              "    </tr>\n",
              "    <tr>\n",
              "      <th>700.0</th>\n",
              "      <td>Mini14</td>\n",
              "      <td>Designed Marksman Rifle</td>\n",
              "      <td>5.56</td>\n",
              "      <td>46</td>\n",
              "      <td>20</td>\n",
              "      <td>990.0</td>\n",
              "      <td>0.010</td>\n",
              "      <td>3</td>\n",
              "      <td>2</td>\n",
              "      <td>460.0</td>\n",
              "      <td>Automatic</td>\n",
              "      <td>48.3</td>\n",
              "      <td>33.8</td>\n",
              "      <td>28.9</td>\n",
              "      <td>21.7</td>\n",
              "      <td>108.1</td>\n",
              "      <td>75.6</td>\n",
              "      <td>64.8</td>\n",
              "      <td>48.6</td>\n",
              "    </tr>\n",
              "    <tr>\n",
              "      <th>800.0</th>\n",
              "      <td>MK14</td>\n",
              "      <td>Designed Marksman Rifle</td>\n",
              "      <td>7.62</td>\n",
              "      <td>61</td>\n",
              "      <td>10</td>\n",
              "      <td>853.0</td>\n",
              "      <td>0.090</td>\n",
              "      <td>3</td>\n",
              "      <td>2</td>\n",
              "      <td>678.0</td>\n",
              "      <td>Single, Automatic</td>\n",
              "      <td>64.0</td>\n",
              "      <td>44.8</td>\n",
              "      <td>38.4</td>\n",
              "      <td>28.8</td>\n",
              "      <td>143.3</td>\n",
              "      <td>100.3</td>\n",
              "      <td>86.0</td>\n",
              "      <td>64.5</td>\n",
              "    </tr>\n",
              "    <tr>\n",
              "      <th>900.0</th>\n",
              "      <td>AWM</td>\n",
              "      <td>Sniper Rifle</td>\n",
              "      <td>0.30</td>\n",
              "      <td>105</td>\n",
              "      <td>5</td>\n",
              "      <td>910.0</td>\n",
              "      <td>1.850</td>\n",
              "      <td>2</td>\n",
              "      <td>1</td>\n",
              "      <td>65.0</td>\n",
              "      <td>Single</td>\n",
              "      <td>136.5</td>\n",
              "      <td>95.5</td>\n",
              "      <td>81.8</td>\n",
              "      <td>61.4</td>\n",
              "      <td>262.5</td>\n",
              "      <td>183.7</td>\n",
              "      <td>157.5</td>\n",
              "      <td>118.1</td>\n",
              "    </tr>\n",
              "  </tbody>\n",
              "</table>\n",
              "</div>"
            ],
            "text/plain": [
              "       Weapon Name              Weapon Type  ...  HDMG_2  HDMG_3\n",
              "Range                                        ...                \n",
              "25.0          S686                  Shotgun  ...   187.2   140.4\n",
              "50.0        Vector           Submachine Gun  ...    33.4    25.1\n",
              "60.0      Skorpion                   Pistol  ...     NaN     NaN\n",
              "200.0          Uzi           Submachine Gun  ...    28.0    21.0\n",
              "300.0     PP-Bizon           Submachine Gun  ...    37.8    28.3\n",
              "400.0        Groza            Assault Rifle  ...    69.0    51.8\n",
              "500.0  MK47 Mutant            Assault Rifle  ...    69.0    51.8\n",
              "600.0       AUG A3            Assault Rifle  ...    60.6    45.4\n",
              "700.0       Mini14  Designed Marksman Rifle  ...    64.8    48.6\n",
              "800.0         MK14  Designed Marksman Rifle  ...    86.0    64.5\n",
              "900.0          AWM             Sniper Rifle  ...   157.5   118.1\n",
              "\n",
              "[11 rows x 19 columns]"
            ]
          },
          "metadata": {
            "tags": []
          },
          "execution_count": 28
        }
      ]
    },
    {
      "cell_type": "code",
      "metadata": {
        "colab": {
          "base_uri": "https://localhost:8080/",
          "height": 674
        },
        "id": "eOy-FY1rEVfF",
        "outputId": "29bbd55a-0cc0-423c-817a-63a768d9cd69"
      },
      "source": [
        "weapon_range.last()"
      ],
      "execution_count": null,
      "outputs": [
        {
          "output_type": "execute_result",
          "data": {
            "text/html": [
              "<div>\n",
              "<style scoped>\n",
              "    .dataframe tbody tr th:only-of-type {\n",
              "        vertical-align: middle;\n",
              "    }\n",
              "\n",
              "    .dataframe tbody tr th {\n",
              "        vertical-align: top;\n",
              "    }\n",
              "\n",
              "    .dataframe thead th {\n",
              "        text-align: right;\n",
              "    }\n",
              "</style>\n",
              "<table border=\"1\" class=\"dataframe\">\n",
              "  <thead>\n",
              "    <tr style=\"text-align: right;\">\n",
              "      <th></th>\n",
              "      <th>Weapon Name</th>\n",
              "      <th>Weapon Type</th>\n",
              "      <th>Bullet Type</th>\n",
              "      <th>Damage</th>\n",
              "      <th>Magazine Capacity</th>\n",
              "      <th>Bullet Speed</th>\n",
              "      <th>Rate of Fire</th>\n",
              "      <th>Shots to Kill (Chest)</th>\n",
              "      <th>Shots to Kill (Head)</th>\n",
              "      <th>Damage Per Second</th>\n",
              "      <th>Fire Mode</th>\n",
              "      <th>BDMG_0</th>\n",
              "      <th>BDMG_1</th>\n",
              "      <th>BDMG_2</th>\n",
              "      <th>BDMG_3</th>\n",
              "      <th>HDMG_0</th>\n",
              "      <th>HDMG_1</th>\n",
              "      <th>HDMG_2</th>\n",
              "      <th>HDMG_3</th>\n",
              "    </tr>\n",
              "    <tr>\n",
              "      <th>Range</th>\n",
              "      <th></th>\n",
              "      <th></th>\n",
              "      <th></th>\n",
              "      <th></th>\n",
              "      <th></th>\n",
              "      <th></th>\n",
              "      <th></th>\n",
              "      <th></th>\n",
              "      <th></th>\n",
              "      <th></th>\n",
              "      <th></th>\n",
              "      <th></th>\n",
              "      <th></th>\n",
              "      <th></th>\n",
              "      <th></th>\n",
              "      <th></th>\n",
              "      <th></th>\n",
              "      <th></th>\n",
              "      <th></th>\n",
              "    </tr>\n",
              "  </thead>\n",
              "  <tbody>\n",
              "    <tr>\n",
              "      <th>25.0</th>\n",
              "      <td>P18C</td>\n",
              "      <td>Pistol</td>\n",
              "      <td>9.00</td>\n",
              "      <td>23</td>\n",
              "      <td>17</td>\n",
              "      <td>375.0</td>\n",
              "      <td>0.060</td>\n",
              "      <td>8</td>\n",
              "      <td>4</td>\n",
              "      <td>383.0</td>\n",
              "      <td>Automatic</td>\n",
              "      <td>22.4</td>\n",
              "      <td>15.7</td>\n",
              "      <td>13.4</td>\n",
              "      <td>10.1</td>\n",
              "      <td>44.9</td>\n",
              "      <td>31.4</td>\n",
              "      <td>26.9</td>\n",
              "      <td>20.2</td>\n",
              "    </tr>\n",
              "    <tr>\n",
              "      <th>50.0</th>\n",
              "      <td>Vector</td>\n",
              "      <td>Submachine Gun</td>\n",
              "      <td>9.00</td>\n",
              "      <td>31</td>\n",
              "      <td>19</td>\n",
              "      <td>300.0</td>\n",
              "      <td>0.055</td>\n",
              "      <td>5</td>\n",
              "      <td>3</td>\n",
              "      <td>569.0</td>\n",
              "      <td>Single, Automatic, Burst</td>\n",
              "      <td>31.0</td>\n",
              "      <td>21.7</td>\n",
              "      <td>18.5</td>\n",
              "      <td>13.9</td>\n",
              "      <td>55.8</td>\n",
              "      <td>39.0</td>\n",
              "      <td>33.4</td>\n",
              "      <td>25.1</td>\n",
              "    </tr>\n",
              "    <tr>\n",
              "      <th>60.0</th>\n",
              "      <td>Skorpion</td>\n",
              "      <td>Pistol</td>\n",
              "      <td>9.00</td>\n",
              "      <td>22</td>\n",
              "      <td>20</td>\n",
              "      <td>400.0</td>\n",
              "      <td>0.070</td>\n",
              "      <td>8</td>\n",
              "      <td>4</td>\n",
              "      <td>312.0</td>\n",
              "      <td>Automatic</td>\n",
              "      <td>NaN</td>\n",
              "      <td>NaN</td>\n",
              "      <td>NaN</td>\n",
              "      <td>NaN</td>\n",
              "      <td>NaN</td>\n",
              "      <td>NaN</td>\n",
              "      <td>NaN</td>\n",
              "      <td>NaN</td>\n",
              "    </tr>\n",
              "    <tr>\n",
              "      <th>200.0</th>\n",
              "      <td>Thompson</td>\n",
              "      <td>Submachine Gun</td>\n",
              "      <td>0.45</td>\n",
              "      <td>40</td>\n",
              "      <td>30</td>\n",
              "      <td>280.0</td>\n",
              "      <td>0.086</td>\n",
              "      <td>5</td>\n",
              "      <td>3</td>\n",
              "      <td>467.0</td>\n",
              "      <td>Single, Automatic</td>\n",
              "      <td>40.0</td>\n",
              "      <td>28.0</td>\n",
              "      <td>24.0</td>\n",
              "      <td>18.0</td>\n",
              "      <td>72.0</td>\n",
              "      <td>50.4</td>\n",
              "      <td>43.1</td>\n",
              "      <td>32.4</td>\n",
              "    </tr>\n",
              "    <tr>\n",
              "      <th>300.0</th>\n",
              "      <td>UMP45</td>\n",
              "      <td>Submachine Gun</td>\n",
              "      <td>0.45</td>\n",
              "      <td>39</td>\n",
              "      <td>25</td>\n",
              "      <td>250.0</td>\n",
              "      <td>0.092</td>\n",
              "      <td>5</td>\n",
              "      <td>3</td>\n",
              "      <td>423.0</td>\n",
              "      <td>Single, Automatic, Burst</td>\n",
              "      <td>39.0</td>\n",
              "      <td>27.3</td>\n",
              "      <td>23.4</td>\n",
              "      <td>17.5</td>\n",
              "      <td>70.2</td>\n",
              "      <td>49.1</td>\n",
              "      <td>42.1</td>\n",
              "      <td>31.5</td>\n",
              "    </tr>\n",
              "    <tr>\n",
              "      <th>400.0</th>\n",
              "      <td>M249</td>\n",
              "      <td>Light Machine Gun</td>\n",
              "      <td>5.56</td>\n",
              "      <td>45</td>\n",
              "      <td>100</td>\n",
              "      <td>915.0</td>\n",
              "      <td>0.075</td>\n",
              "      <td>4</td>\n",
              "      <td>2</td>\n",
              "      <td>600.0</td>\n",
              "      <td>Automatic</td>\n",
              "      <td>45.0</td>\n",
              "      <td>31.4</td>\n",
              "      <td>27.0</td>\n",
              "      <td>20.2</td>\n",
              "      <td>103.4</td>\n",
              "      <td>72.4</td>\n",
              "      <td>62.0</td>\n",
              "      <td>46.5</td>\n",
              "    </tr>\n",
              "    <tr>\n",
              "      <th>500.0</th>\n",
              "      <td>VSS</td>\n",
              "      <td>Designed Marksman Rifle</td>\n",
              "      <td>9.00</td>\n",
              "      <td>41</td>\n",
              "      <td>10</td>\n",
              "      <td>300.0</td>\n",
              "      <td>0.010</td>\n",
              "      <td>3</td>\n",
              "      <td>2</td>\n",
              "      <td>479.0</td>\n",
              "      <td>Automatic</td>\n",
              "      <td>43.0</td>\n",
              "      <td>30.1</td>\n",
              "      <td>25.8</td>\n",
              "      <td>19.3</td>\n",
              "      <td>96.3</td>\n",
              "      <td>67.4</td>\n",
              "      <td>57.8</td>\n",
              "      <td>43.3</td>\n",
              "    </tr>\n",
              "    <tr>\n",
              "      <th>600.0</th>\n",
              "      <td>Win94</td>\n",
              "      <td>Sniper Rifle</td>\n",
              "      <td>0.45</td>\n",
              "      <td>66</td>\n",
              "      <td>5</td>\n",
              "      <td>710.0</td>\n",
              "      <td>0.600</td>\n",
              "      <td>2</td>\n",
              "      <td>2</td>\n",
              "      <td>110.0</td>\n",
              "      <td>Single</td>\n",
              "      <td>72.6</td>\n",
              "      <td>50.8</td>\n",
              "      <td>43.5</td>\n",
              "      <td>32.6</td>\n",
              "      <td>165.0</td>\n",
              "      <td>115.4</td>\n",
              "      <td>99.0</td>\n",
              "      <td>74.2</td>\n",
              "    </tr>\n",
              "    <tr>\n",
              "      <th>700.0</th>\n",
              "      <td>Mini14</td>\n",
              "      <td>Designed Marksman Rifle</td>\n",
              "      <td>5.56</td>\n",
              "      <td>46</td>\n",
              "      <td>20</td>\n",
              "      <td>990.0</td>\n",
              "      <td>0.010</td>\n",
              "      <td>3</td>\n",
              "      <td>2</td>\n",
              "      <td>460.0</td>\n",
              "      <td>Automatic</td>\n",
              "      <td>48.3</td>\n",
              "      <td>33.8</td>\n",
              "      <td>28.9</td>\n",
              "      <td>21.7</td>\n",
              "      <td>108.1</td>\n",
              "      <td>75.6</td>\n",
              "      <td>64.8</td>\n",
              "      <td>48.6</td>\n",
              "    </tr>\n",
              "    <tr>\n",
              "      <th>800.0</th>\n",
              "      <td>Kar98</td>\n",
              "      <td>Sniper Rifle</td>\n",
              "      <td>7.62</td>\n",
              "      <td>75</td>\n",
              "      <td>5</td>\n",
              "      <td>760.0</td>\n",
              "      <td>1.900</td>\n",
              "      <td>2</td>\n",
              "      <td>1</td>\n",
              "      <td>39.0</td>\n",
              "      <td>Single</td>\n",
              "      <td>102.7</td>\n",
              "      <td>71.8</td>\n",
              "      <td>61.6</td>\n",
              "      <td>46.2</td>\n",
              "      <td>197.5</td>\n",
              "      <td>138.2</td>\n",
              "      <td>118.5</td>\n",
              "      <td>88.8</td>\n",
              "    </tr>\n",
              "    <tr>\n",
              "      <th>900.0</th>\n",
              "      <td>AWM</td>\n",
              "      <td>Sniper Rifle</td>\n",
              "      <td>0.30</td>\n",
              "      <td>105</td>\n",
              "      <td>5</td>\n",
              "      <td>910.0</td>\n",
              "      <td>1.850</td>\n",
              "      <td>2</td>\n",
              "      <td>1</td>\n",
              "      <td>65.0</td>\n",
              "      <td>Single</td>\n",
              "      <td>136.5</td>\n",
              "      <td>95.5</td>\n",
              "      <td>81.8</td>\n",
              "      <td>61.4</td>\n",
              "      <td>262.5</td>\n",
              "      <td>183.7</td>\n",
              "      <td>157.5</td>\n",
              "      <td>118.1</td>\n",
              "    </tr>\n",
              "  </tbody>\n",
              "</table>\n",
              "</div>"
            ],
            "text/plain": [
              "      Weapon Name              Weapon Type  Bullet Type  ...  HDMG_1  HDMG_2  HDMG_3\n",
              "Range                                                    ...                        \n",
              "25.0         P18C                   Pistol         9.00  ...    31.4    26.9    20.2\n",
              "50.0       Vector           Submachine Gun         9.00  ...    39.0    33.4    25.1\n",
              "60.0     Skorpion                   Pistol         9.00  ...     NaN     NaN     NaN\n",
              "200.0    Thompson           Submachine Gun         0.45  ...    50.4    43.1    32.4\n",
              "300.0       UMP45           Submachine Gun         0.45  ...    49.1    42.1    31.5\n",
              "400.0        M249        Light Machine Gun         5.56  ...    72.4    62.0    46.5\n",
              "500.0         VSS  Designed Marksman Rifle         9.00  ...    67.4    57.8    43.3\n",
              "600.0       Win94             Sniper Rifle         0.45  ...   115.4    99.0    74.2\n",
              "700.0      Mini14  Designed Marksman Rifle         5.56  ...    75.6    64.8    48.6\n",
              "800.0       Kar98             Sniper Rifle         7.62  ...   138.2   118.5    88.8\n",
              "900.0         AWM             Sniper Rifle         0.30  ...   183.7   157.5   118.1\n",
              "\n",
              "[11 rows x 19 columns]"
            ]
          },
          "metadata": {
            "tags": []
          },
          "execution_count": 29
        }
      ]
    },
    {
      "cell_type": "markdown",
      "metadata": {
        "id": "JTALW4-zEbhK"
      },
      "source": [
        "***b)Select a Group***"
      ]
    },
    {
      "cell_type": "code",
      "metadata": {
        "colab": {
          "base_uri": "https://localhost:8080/",
          "height": 360
        },
        "id": "pwjpuGroEk0B",
        "outputId": "bf8c0a54-f5fb-47eb-c0bb-da7bba83fcd3"
      },
      "source": [
        "weapon_range.get_group(400).head(5)"
      ],
      "execution_count": null,
      "outputs": [
        {
          "output_type": "execute_result",
          "data": {
            "text/html": [
              "<div>\n",
              "<style scoped>\n",
              "    .dataframe tbody tr th:only-of-type {\n",
              "        vertical-align: middle;\n",
              "    }\n",
              "\n",
              "    .dataframe tbody tr th {\n",
              "        vertical-align: top;\n",
              "    }\n",
              "\n",
              "    .dataframe thead th {\n",
              "        text-align: right;\n",
              "    }\n",
              "</style>\n",
              "<table border=\"1\" class=\"dataframe\">\n",
              "  <thead>\n",
              "    <tr style=\"text-align: right;\">\n",
              "      <th></th>\n",
              "      <th>Weapon Name</th>\n",
              "      <th>Weapon Type</th>\n",
              "      <th>Bullet Type</th>\n",
              "      <th>Damage</th>\n",
              "      <th>Magazine Capacity</th>\n",
              "      <th>Bullet Speed</th>\n",
              "      <th>Rate of Fire</th>\n",
              "      <th>Shots to Kill (Chest)</th>\n",
              "      <th>Shots to Kill (Head)</th>\n",
              "      <th>Damage Per Second</th>\n",
              "      <th>Fire Mode</th>\n",
              "      <th>BDMG_0</th>\n",
              "      <th>BDMG_1</th>\n",
              "      <th>BDMG_2</th>\n",
              "      <th>BDMG_3</th>\n",
              "      <th>HDMG_0</th>\n",
              "      <th>HDMG_1</th>\n",
              "      <th>HDMG_2</th>\n",
              "      <th>HDMG_3</th>\n",
              "    </tr>\n",
              "  </thead>\n",
              "  <tbody>\n",
              "    <tr>\n",
              "      <th>0</th>\n",
              "      <td>Groza</td>\n",
              "      <td>Assault Rifle</td>\n",
              "      <td>7.62</td>\n",
              "      <td>49</td>\n",
              "      <td>30</td>\n",
              "      <td>715.0</td>\n",
              "      <td>0.080</td>\n",
              "      <td>4</td>\n",
              "      <td>2</td>\n",
              "      <td>612.0</td>\n",
              "      <td>Single, Automatic, Burst</td>\n",
              "      <td>47.0</td>\n",
              "      <td>34.3</td>\n",
              "      <td>29.4</td>\n",
              "      <td>22.0</td>\n",
              "      <td>115.1</td>\n",
              "      <td>80.6</td>\n",
              "      <td>69.0</td>\n",
              "      <td>51.8</td>\n",
              "    </tr>\n",
              "    <tr>\n",
              "      <th>1</th>\n",
              "      <td>AKM</td>\n",
              "      <td>Assault Rifle</td>\n",
              "      <td>7.62</td>\n",
              "      <td>49</td>\n",
              "      <td>30</td>\n",
              "      <td>710.0</td>\n",
              "      <td>0.010</td>\n",
              "      <td>4</td>\n",
              "      <td>2</td>\n",
              "      <td>490.0</td>\n",
              "      <td>Single, Automatic</td>\n",
              "      <td>47.0</td>\n",
              "      <td>34.3</td>\n",
              "      <td>29.4</td>\n",
              "      <td>22.0</td>\n",
              "      <td>115.1</td>\n",
              "      <td>80.6</td>\n",
              "      <td>69.0</td>\n",
              "      <td>51.8</td>\n",
              "    </tr>\n",
              "    <tr>\n",
              "      <th>2</th>\n",
              "      <td>M762</td>\n",
              "      <td>Assault Rifle</td>\n",
              "      <td>7.62</td>\n",
              "      <td>47</td>\n",
              "      <td>30</td>\n",
              "      <td>715.0</td>\n",
              "      <td>0.086</td>\n",
              "      <td>4</td>\n",
              "      <td>2</td>\n",
              "      <td>547.0</td>\n",
              "      <td>Single, Automatic, Burst</td>\n",
              "      <td>46.0</td>\n",
              "      <td>32.9</td>\n",
              "      <td>28.2</td>\n",
              "      <td>21.1</td>\n",
              "      <td>110.4</td>\n",
              "      <td>77.3</td>\n",
              "      <td>66.2</td>\n",
              "      <td>49.7</td>\n",
              "    </tr>\n",
              "    <tr>\n",
              "      <th>10</th>\n",
              "      <td>M249</td>\n",
              "      <td>Light Machine Gun</td>\n",
              "      <td>5.56</td>\n",
              "      <td>45</td>\n",
              "      <td>100</td>\n",
              "      <td>915.0</td>\n",
              "      <td>0.075</td>\n",
              "      <td>4</td>\n",
              "      <td>2</td>\n",
              "      <td>600.0</td>\n",
              "      <td>Automatic</td>\n",
              "      <td>45.0</td>\n",
              "      <td>31.4</td>\n",
              "      <td>27.0</td>\n",
              "      <td>20.2</td>\n",
              "      <td>103.4</td>\n",
              "      <td>72.4</td>\n",
              "      <td>62.0</td>\n",
              "      <td>46.5</td>\n",
              "    </tr>\n",
              "  </tbody>\n",
              "</table>\n",
              "</div>"
            ],
            "text/plain": [
              "   Weapon Name        Weapon Type  Bullet Type  ...  HDMG_1  HDMG_2  HDMG_3\n",
              "0        Groza      Assault Rifle         7.62  ...    80.6    69.0    51.8\n",
              "1          AKM      Assault Rifle         7.62  ...    80.6    69.0    51.8\n",
              "2         M762      Assault Rifle         7.62  ...    77.3    66.2    49.7\n",
              "10        M249  Light Machine Gun         5.56  ...    72.4    62.0    46.5\n",
              "\n",
              "[4 rows x 19 columns]"
            ]
          },
          "metadata": {
            "tags": []
          },
          "execution_count": 30
        }
      ]
    },
    {
      "cell_type": "markdown",
      "metadata": {
        "id": "InsNK9gtFfTW"
      },
      "source": [
        "***c)ngroups***\n",
        "\n",
        "\n",
        "it returns number of groups"
      ]
    },
    {
      "cell_type": "code",
      "metadata": {
        "colab": {
          "base_uri": "https://localhost:8080/"
        },
        "id": "AzYVB31LFqlW",
        "outputId": "cac5c91a-a019-4fd8-cc32-c36252d3067d"
      },
      "source": [
        "weapon_range.ngroups"
      ],
      "execution_count": null,
      "outputs": [
        {
          "output_type": "execute_result",
          "data": {
            "text/plain": [
              "11"
            ]
          },
          "metadata": {
            "tags": []
          },
          "execution_count": 31
        }
      ]
    },
    {
      "cell_type": "markdown",
      "metadata": {
        "id": "IyV2Y-XAF7xN"
      },
      "source": [
        "***d)groups***\n",
        "\n",
        "\n",
        "it returns groupwise row number"
      ]
    },
    {
      "cell_type": "code",
      "metadata": {
        "colab": {
          "base_uri": "https://localhost:8080/"
        },
        "id": "s6_q_iL2GHb9",
        "outputId": "9c9994fb-6d72-4743-9664-79af70afd565"
      },
      "source": [
        "weapon_range.groups"
      ],
      "execution_count": null,
      "outputs": [
        {
          "output_type": "execute_result",
          "data": {
            "text/plain": [
              "{25.0: [18, 19, 20, 31, 32, 33, 34, 35, 36], 50.0: [12], 60.0: [37], 200.0: [13, 15, 16], 300.0: [14, 17], 400.0: [0, 1, 2, 10], 500.0: [3, 26], 600.0: [4, 5, 6, 7, 8, 9, 11, 30], 700.0: [25], 800.0: [21, 22, 23, 24, 28, 29], 900.0: [27]}"
            ]
          },
          "metadata": {
            "tags": []
          },
          "execution_count": 32
        }
      ]
    },
    {
      "cell_type": "markdown",
      "metadata": {
        "id": "XFk-AtLDGTbH"
      },
      "source": [
        "***e)size()***"
      ]
    },
    {
      "cell_type": "code",
      "metadata": {
        "colab": {
          "base_uri": "https://localhost:8080/"
        },
        "id": "RQ5WcA1xGbjV",
        "outputId": "22fdc8a4-8206-4712-ba87-e29824337371"
      },
      "source": [
        "weapon_range.size()"
      ],
      "execution_count": null,
      "outputs": [
        {
          "output_type": "execute_result",
          "data": {
            "text/plain": [
              "Range\n",
              "25.0     9\n",
              "50.0     1\n",
              "60.0     1\n",
              "200.0    3\n",
              "300.0    2\n",
              "400.0    4\n",
              "500.0    2\n",
              "600.0    8\n",
              "700.0    1\n",
              "800.0    6\n",
              "900.0    1\n",
              "dtype: int64"
            ]
          },
          "metadata": {
            "tags": []
          },
          "execution_count": 33
        }
      ]
    },
    {
      "cell_type": "markdown",
      "metadata": {
        "id": "QF153A-PGq86"
      },
      "source": [
        "## **4.COMBINING AND MERGING DATASETS**"
      ]
    },
    {
      "cell_type": "markdown",
      "metadata": {
        "id": "7Ek_9B6sGySE"
      },
      "source": [
        "***a) Concatenating DataFrame***"
      ]
    },
    {
      "cell_type": "markdown",
      "metadata": {
        "id": "lhu1IYi7G6pP"
      },
      "source": [
        "*1.using concat() only*"
      ]
    },
    {
      "cell_type": "code",
      "metadata": {
        "colab": {
          "base_uri": "https://localhost:8080/",
          "height": 234
        },
        "id": "q02SVsNGHH_V",
        "outputId": "fe652188-aa8a-4349-d1ee-467a83b56e62"
      },
      "source": [
        "#to concat a dataframe, we use .concat() function .this function concat a dataframe and returns a new dataframe.\n",
        "import pandas as pd\n",
        "data1 = {'Building': [\"Georgopol\",\"Mylta\",\"Novorepnoye\"], \n",
        "        'Roomno': [866,732,129],\n",
        "        'Capacity': [150,100,70]\n",
        "       }\n",
        "# Define dictionary \n",
        "\n",
        "data2 = {'Building': [\"Pochinki\",\"Primorsk\",\"Severny\"], \n",
        "        'Roomno': [8604,444,521],\n",
        "        'Capacity': [200,50,130]\n",
        "       }\n",
        "\n",
        "# Convert the dictionarys into DataFrames  \n",
        "df1= pd.DataFrame(data1,index=[0, 1, 2])\n",
        "df2 = pd.DataFrame(data2,index=[3, 4, 5])\n",
        "frames = [df1, df2]\n",
        "df3 = pd.concat(frames)\n",
        "df3 \n"
      ],
      "execution_count": null,
      "outputs": [
        {
          "output_type": "execute_result",
          "data": {
            "text/html": [
              "<div>\n",
              "<style scoped>\n",
              "    .dataframe tbody tr th:only-of-type {\n",
              "        vertical-align: middle;\n",
              "    }\n",
              "\n",
              "    .dataframe tbody tr th {\n",
              "        vertical-align: top;\n",
              "    }\n",
              "\n",
              "    .dataframe thead th {\n",
              "        text-align: right;\n",
              "    }\n",
              "</style>\n",
              "<table border=\"1\" class=\"dataframe\">\n",
              "  <thead>\n",
              "    <tr style=\"text-align: right;\">\n",
              "      <th></th>\n",
              "      <th>Building</th>\n",
              "      <th>Roomno</th>\n",
              "      <th>Capacity</th>\n",
              "    </tr>\n",
              "  </thead>\n",
              "  <tbody>\n",
              "    <tr>\n",
              "      <th>0</th>\n",
              "      <td>Georgopol</td>\n",
              "      <td>866</td>\n",
              "      <td>150</td>\n",
              "    </tr>\n",
              "    <tr>\n",
              "      <th>1</th>\n",
              "      <td>Mylta</td>\n",
              "      <td>732</td>\n",
              "      <td>100</td>\n",
              "    </tr>\n",
              "    <tr>\n",
              "      <th>2</th>\n",
              "      <td>Novorepnoye</td>\n",
              "      <td>129</td>\n",
              "      <td>70</td>\n",
              "    </tr>\n",
              "    <tr>\n",
              "      <th>3</th>\n",
              "      <td>Pochinki</td>\n",
              "      <td>8604</td>\n",
              "      <td>200</td>\n",
              "    </tr>\n",
              "    <tr>\n",
              "      <th>4</th>\n",
              "      <td>Primorsk</td>\n",
              "      <td>444</td>\n",
              "      <td>50</td>\n",
              "    </tr>\n",
              "    <tr>\n",
              "      <th>5</th>\n",
              "      <td>Severny</td>\n",
              "      <td>521</td>\n",
              "      <td>130</td>\n",
              "    </tr>\n",
              "  </tbody>\n",
              "</table>\n",
              "</div>"
            ],
            "text/plain": [
              "      Building  Roomno  Capacity\n",
              "0    Georgopol     866       150\n",
              "1        Mylta     732       100\n",
              "2  Novorepnoye     129        70\n",
              "3     Pochinki    8604       200\n",
              "4     Primorsk     444        50\n",
              "5      Severny     521       130"
            ]
          },
          "metadata": {
            "tags": []
          },
          "execution_count": 34
        }
      ]
    },
    {
      "cell_type": "markdown",
      "metadata": {
        "id": "IdSUOJ6CKrTT"
      },
      "source": [
        "*2.Setting axis along with concat() to get intersection of dataframe*"
      ]
    },
    {
      "cell_type": "code",
      "metadata": {
        "colab": {
          "base_uri": "https://localhost:8080/",
          "height": 172
        },
        "id": "2Omch5wPOlN_",
        "outputId": "a3fb92f1-9ec6-49ae-d03b-cf97ee6c1a87"
      },
      "source": [
        "# set axes join = inner   to get the intersection of dataframe\n",
        "data3 = {'Name':['Mortal','Kaztro','Viper','Caesar'],\n",
        "        'Id':[6729,5719,6911,2689],\n",
        "        'Place':['Mylta','Pochinki','Georgopol','Severny']}\n",
        "df4 = pd.DataFrame(data3,index=[1, 3, 4,5]) \n",
        "#set axes join = inner for intersection of dataframe\n",
        "df5 = pd.concat([df3, df4], axis=1, join='inner')\n",
        "df5"
      ],
      "execution_count": null,
      "outputs": [
        {
          "output_type": "execute_result",
          "data": {
            "text/html": [
              "<div>\n",
              "<style scoped>\n",
              "    .dataframe tbody tr th:only-of-type {\n",
              "        vertical-align: middle;\n",
              "    }\n",
              "\n",
              "    .dataframe tbody tr th {\n",
              "        vertical-align: top;\n",
              "    }\n",
              "\n",
              "    .dataframe thead th {\n",
              "        text-align: right;\n",
              "    }\n",
              "</style>\n",
              "<table border=\"1\" class=\"dataframe\">\n",
              "  <thead>\n",
              "    <tr style=\"text-align: right;\">\n",
              "      <th></th>\n",
              "      <th>Building</th>\n",
              "      <th>Roomno</th>\n",
              "      <th>Capacity</th>\n",
              "      <th>Name</th>\n",
              "      <th>Id</th>\n",
              "      <th>Place</th>\n",
              "    </tr>\n",
              "  </thead>\n",
              "  <tbody>\n",
              "    <tr>\n",
              "      <th>1</th>\n",
              "      <td>Mylta</td>\n",
              "      <td>732</td>\n",
              "      <td>100</td>\n",
              "      <td>Mortal</td>\n",
              "      <td>6729</td>\n",
              "      <td>Mylta</td>\n",
              "    </tr>\n",
              "    <tr>\n",
              "      <th>3</th>\n",
              "      <td>Pochinki</td>\n",
              "      <td>8604</td>\n",
              "      <td>200</td>\n",
              "      <td>Kaztro</td>\n",
              "      <td>5719</td>\n",
              "      <td>Pochinki</td>\n",
              "    </tr>\n",
              "    <tr>\n",
              "      <th>4</th>\n",
              "      <td>Primorsk</td>\n",
              "      <td>444</td>\n",
              "      <td>50</td>\n",
              "      <td>Viper</td>\n",
              "      <td>6911</td>\n",
              "      <td>Georgopol</td>\n",
              "    </tr>\n",
              "    <tr>\n",
              "      <th>5</th>\n",
              "      <td>Severny</td>\n",
              "      <td>521</td>\n",
              "      <td>130</td>\n",
              "      <td>Caesar</td>\n",
              "      <td>2689</td>\n",
              "      <td>Severny</td>\n",
              "    </tr>\n",
              "  </tbody>\n",
              "</table>\n",
              "</div>"
            ],
            "text/plain": [
              "   Building  Roomno  Capacity    Name    Id      Place\n",
              "1     Mylta     732       100  Mortal  6729      Mylta\n",
              "3  Pochinki    8604       200  Kaztro  5719   Pochinki\n",
              "4  Primorsk     444        50   Viper  6911  Georgopol\n",
              "5   Severny     521       130  Caesar  2689    Severny"
            ]
          },
          "metadata": {
            "tags": []
          },
          "execution_count": 35
        }
      ]
    },
    {
      "cell_type": "markdown",
      "metadata": {
        "id": "2WEB5iknOx5n"
      },
      "source": [
        "***b) Merging DataFrame***"
      ]
    },
    {
      "cell_type": "markdown",
      "metadata": {
        "id": "hP8qJ_piPAO9"
      },
      "source": [
        "Merging two dataset can be done in dataframes with common column name and with different column name\n",
        "\n",
        "*1.Merge Two DataFrames on a Key*"
      ]
    },
    {
      "cell_type": "code",
      "metadata": {
        "colab": {
          "base_uri": "https://localhost:8080/",
          "height": 142
        },
        "id": "oCljd_glPDaf",
        "outputId": "b7e2ed27-7900-43e7-8337-8211bb4b8954"
      },
      "source": [
        "import pandas as pd\n",
        "left = pd.DataFrame({'id':[1,2,3],\n",
        "        'Building': [\"Georgopol\",\"Mylta\",\"Novorepnoye\"], \n",
        "        'Roomno': [866,732,129],\n",
        "        'Capacity': [150,100,70]\n",
        "       })\n",
        "right = pd.DataFrame({'id':[1,2,3],\n",
        "        'Name':['Mortal','Kaztro','Viper'],\n",
        "        'pId':[6729,5719,6911],\n",
        "        'Place':['Mylta','Pochinki','Georgopol']}\n",
        "   )\n",
        "pd.merge(left,right,on='id')"
      ],
      "execution_count": null,
      "outputs": [
        {
          "output_type": "execute_result",
          "data": {
            "text/html": [
              "<div>\n",
              "<style scoped>\n",
              "    .dataframe tbody tr th:only-of-type {\n",
              "        vertical-align: middle;\n",
              "    }\n",
              "\n",
              "    .dataframe tbody tr th {\n",
              "        vertical-align: top;\n",
              "    }\n",
              "\n",
              "    .dataframe thead th {\n",
              "        text-align: right;\n",
              "    }\n",
              "</style>\n",
              "<table border=\"1\" class=\"dataframe\">\n",
              "  <thead>\n",
              "    <tr style=\"text-align: right;\">\n",
              "      <th></th>\n",
              "      <th>id</th>\n",
              "      <th>Building</th>\n",
              "      <th>Roomno</th>\n",
              "      <th>Capacity</th>\n",
              "      <th>Name</th>\n",
              "      <th>pId</th>\n",
              "      <th>Place</th>\n",
              "    </tr>\n",
              "  </thead>\n",
              "  <tbody>\n",
              "    <tr>\n",
              "      <th>0</th>\n",
              "      <td>1</td>\n",
              "      <td>Georgopol</td>\n",
              "      <td>866</td>\n",
              "      <td>150</td>\n",
              "      <td>Mortal</td>\n",
              "      <td>6729</td>\n",
              "      <td>Mylta</td>\n",
              "    </tr>\n",
              "    <tr>\n",
              "      <th>1</th>\n",
              "      <td>2</td>\n",
              "      <td>Mylta</td>\n",
              "      <td>732</td>\n",
              "      <td>100</td>\n",
              "      <td>Kaztro</td>\n",
              "      <td>5719</td>\n",
              "      <td>Pochinki</td>\n",
              "    </tr>\n",
              "    <tr>\n",
              "      <th>2</th>\n",
              "      <td>3</td>\n",
              "      <td>Novorepnoye</td>\n",
              "      <td>129</td>\n",
              "      <td>70</td>\n",
              "      <td>Viper</td>\n",
              "      <td>6911</td>\n",
              "      <td>Georgopol</td>\n",
              "    </tr>\n",
              "  </tbody>\n",
              "</table>\n",
              "</div>"
            ],
            "text/plain": [
              "   id     Building  Roomno  Capacity    Name   pId      Place\n",
              "0   1    Georgopol     866       150  Mortal  6729      Mylta\n",
              "1   2        Mylta     732       100  Kaztro  5719   Pochinki\n",
              "2   3  Novorepnoye     129        70   Viper  6911  Georgopol"
            ]
          },
          "metadata": {
            "tags": []
          },
          "execution_count": 36
        }
      ]
    },
    {
      "cell_type": "markdown",
      "metadata": {
        "id": "Vj9SmBMIRHRI"
      },
      "source": [
        "*2.Merge Two DataFrames on Multiple Keys*"
      ]
    },
    {
      "cell_type": "code",
      "metadata": {
        "colab": {
          "base_uri": "https://localhost:8080/",
          "height": 80
        },
        "id": "dwNdvXrTRVzR",
        "outputId": "ebb349e3-065e-4bc1-942d-4f97d1c51a47"
      },
      "source": [
        "import pandas as pd\n",
        "left = pd.DataFrame({'id':[1,2,3],\n",
        "        'Building': [\"Georgopol\",\"Pochinki\",\"Novorepnoye\"], \n",
        "        'Roomno': [866,732,129],\n",
        "        'Capacity': [150,100,70]\n",
        "       })\n",
        "right = pd.DataFrame({'id':[1,2,3],\n",
        "        'Name':['Mortal','Kaztro','Viper'],\n",
        "        'pId':[6729,5719,6911],\n",
        "        'Building':['Mylta','Pochinki','Georgopol']}\n",
        "   )\n",
        "\n",
        "pd.merge(left,right,on=['id','Building'])"
      ],
      "execution_count": null,
      "outputs": [
        {
          "output_type": "execute_result",
          "data": {
            "text/html": [
              "<div>\n",
              "<style scoped>\n",
              "    .dataframe tbody tr th:only-of-type {\n",
              "        vertical-align: middle;\n",
              "    }\n",
              "\n",
              "    .dataframe tbody tr th {\n",
              "        vertical-align: top;\n",
              "    }\n",
              "\n",
              "    .dataframe thead th {\n",
              "        text-align: right;\n",
              "    }\n",
              "</style>\n",
              "<table border=\"1\" class=\"dataframe\">\n",
              "  <thead>\n",
              "    <tr style=\"text-align: right;\">\n",
              "      <th></th>\n",
              "      <th>id</th>\n",
              "      <th>Building</th>\n",
              "      <th>Roomno</th>\n",
              "      <th>Capacity</th>\n",
              "      <th>Name</th>\n",
              "      <th>pId</th>\n",
              "    </tr>\n",
              "  </thead>\n",
              "  <tbody>\n",
              "    <tr>\n",
              "      <th>0</th>\n",
              "      <td>2</td>\n",
              "      <td>Pochinki</td>\n",
              "      <td>732</td>\n",
              "      <td>100</td>\n",
              "      <td>Kaztro</td>\n",
              "      <td>5719</td>\n",
              "    </tr>\n",
              "  </tbody>\n",
              "</table>\n",
              "</div>"
            ],
            "text/plain": [
              "   id  Building  Roomno  Capacity    Name   pId\n",
              "0   2  Pochinki     732       100  Kaztro  5719"
            ]
          },
          "metadata": {
            "tags": []
          },
          "execution_count": 37
        }
      ]
    },
    {
      "cell_type": "markdown",
      "metadata": {
        "id": "Vy9ToMpuSMGn"
      },
      "source": [
        "*3.Merge Using 'how' Argument*"
      ]
    },
    {
      "cell_type": "code",
      "metadata": {
        "colab": {
          "base_uri": "https://localhost:8080/",
          "height": 172
        },
        "id": "_k8D1DwYSWTm",
        "outputId": "619bc9ad-922b-48ce-f630-b35bf21d53fe"
      },
      "source": [
        "import pandas as pd\n",
        "left = pd.DataFrame({\n",
        "   'id':[1,2,3,4],\n",
        "   'Name': ['Mortal', 'Kaztro', 'Ceasor','Blaster'],\n",
        "    'Building':['Pochinki','Mylta','Georgopol','Mill']})\n",
        "right = pd.DataFrame(\n",
        "   {'id':[1,2,3,4],\n",
        "   'Name': ['Viper', 'Nie Ambro', 'Gyan Sujan','Rai'],\n",
        "   'Building':['Mylta','Pochinki','Georgopol','Mill']})\n",
        "\n",
        "\n",
        "#left join\n",
        "pd.merge(left, right, on='Building', how='left')"
      ],
      "execution_count": null,
      "outputs": [
        {
          "output_type": "execute_result",
          "data": {
            "text/html": [
              "<div>\n",
              "<style scoped>\n",
              "    .dataframe tbody tr th:only-of-type {\n",
              "        vertical-align: middle;\n",
              "    }\n",
              "\n",
              "    .dataframe tbody tr th {\n",
              "        vertical-align: top;\n",
              "    }\n",
              "\n",
              "    .dataframe thead th {\n",
              "        text-align: right;\n",
              "    }\n",
              "</style>\n",
              "<table border=\"1\" class=\"dataframe\">\n",
              "  <thead>\n",
              "    <tr style=\"text-align: right;\">\n",
              "      <th></th>\n",
              "      <th>id_x</th>\n",
              "      <th>Name_x</th>\n",
              "      <th>Building</th>\n",
              "      <th>id_y</th>\n",
              "      <th>Name_y</th>\n",
              "    </tr>\n",
              "  </thead>\n",
              "  <tbody>\n",
              "    <tr>\n",
              "      <th>0</th>\n",
              "      <td>1</td>\n",
              "      <td>Mortal</td>\n",
              "      <td>Pochinki</td>\n",
              "      <td>2</td>\n",
              "      <td>Nie Ambro</td>\n",
              "    </tr>\n",
              "    <tr>\n",
              "      <th>1</th>\n",
              "      <td>2</td>\n",
              "      <td>Kaztro</td>\n",
              "      <td>Mylta</td>\n",
              "      <td>1</td>\n",
              "      <td>Viper</td>\n",
              "    </tr>\n",
              "    <tr>\n",
              "      <th>2</th>\n",
              "      <td>3</td>\n",
              "      <td>Ceasor</td>\n",
              "      <td>Georgopol</td>\n",
              "      <td>3</td>\n",
              "      <td>Gyan Sujan</td>\n",
              "    </tr>\n",
              "    <tr>\n",
              "      <th>3</th>\n",
              "      <td>4</td>\n",
              "      <td>Blaster</td>\n",
              "      <td>Mill</td>\n",
              "      <td>4</td>\n",
              "      <td>Rai</td>\n",
              "    </tr>\n",
              "  </tbody>\n",
              "</table>\n",
              "</div>"
            ],
            "text/plain": [
              "   id_x   Name_x   Building  id_y      Name_y\n",
              "0     1   Mortal   Pochinki     2   Nie Ambro\n",
              "1     2   Kaztro      Mylta     1       Viper\n",
              "2     3   Ceasor  Georgopol     3  Gyan Sujan\n",
              "3     4  Blaster       Mill     4         Rai"
            ]
          },
          "metadata": {
            "tags": []
          },
          "execution_count": 38
        }
      ]
    },
    {
      "cell_type": "code",
      "metadata": {
        "colab": {
          "base_uri": "https://localhost:8080/",
          "height": 172
        },
        "id": "D_5EvllTa7ph",
        "outputId": "15b96505-dabf-4832-886b-34c0febe94f7"
      },
      "source": [
        "import pandas as pd\n",
        "left = pd.DataFrame({\n",
        "   'id':[1,2,3,4],\n",
        "   'Name': ['Mortal', 'Kaztro', 'Ceasor','Blaster'],\n",
        "    'Building':['Pochinki','Mylta','Georgopol','Mill']})\n",
        "right = pd.DataFrame(\n",
        "   {'id':[1,2,3,4],\n",
        "   'Name': ['Viper', 'Nie Ambro', 'Gyan Sujan','Rai'],\n",
        "   'Building':['Mylta','Pochinki','Georgopol','Mill']})\n",
        "\n",
        "#right join\n",
        "pd.merge(left, right, on='Building', how='right')"
      ],
      "execution_count": null,
      "outputs": [
        {
          "output_type": "execute_result",
          "data": {
            "text/html": [
              "<div>\n",
              "<style scoped>\n",
              "    .dataframe tbody tr th:only-of-type {\n",
              "        vertical-align: middle;\n",
              "    }\n",
              "\n",
              "    .dataframe tbody tr th {\n",
              "        vertical-align: top;\n",
              "    }\n",
              "\n",
              "    .dataframe thead th {\n",
              "        text-align: right;\n",
              "    }\n",
              "</style>\n",
              "<table border=\"1\" class=\"dataframe\">\n",
              "  <thead>\n",
              "    <tr style=\"text-align: right;\">\n",
              "      <th></th>\n",
              "      <th>id_x</th>\n",
              "      <th>Name_x</th>\n",
              "      <th>Building</th>\n",
              "      <th>id_y</th>\n",
              "      <th>Name_y</th>\n",
              "    </tr>\n",
              "  </thead>\n",
              "  <tbody>\n",
              "    <tr>\n",
              "      <th>0</th>\n",
              "      <td>2</td>\n",
              "      <td>Kaztro</td>\n",
              "      <td>Mylta</td>\n",
              "      <td>1</td>\n",
              "      <td>Viper</td>\n",
              "    </tr>\n",
              "    <tr>\n",
              "      <th>1</th>\n",
              "      <td>1</td>\n",
              "      <td>Mortal</td>\n",
              "      <td>Pochinki</td>\n",
              "      <td>2</td>\n",
              "      <td>Nie Ambro</td>\n",
              "    </tr>\n",
              "    <tr>\n",
              "      <th>2</th>\n",
              "      <td>3</td>\n",
              "      <td>Ceasor</td>\n",
              "      <td>Georgopol</td>\n",
              "      <td>3</td>\n",
              "      <td>Gyan Sujan</td>\n",
              "    </tr>\n",
              "    <tr>\n",
              "      <th>3</th>\n",
              "      <td>4</td>\n",
              "      <td>Blaster</td>\n",
              "      <td>Mill</td>\n",
              "      <td>4</td>\n",
              "      <td>Rai</td>\n",
              "    </tr>\n",
              "  </tbody>\n",
              "</table>\n",
              "</div>"
            ],
            "text/plain": [
              "   id_x   Name_x   Building  id_y      Name_y\n",
              "0     2   Kaztro      Mylta     1       Viper\n",
              "1     1   Mortal   Pochinki     2   Nie Ambro\n",
              "2     3   Ceasor  Georgopol     3  Gyan Sujan\n",
              "3     4  Blaster       Mill     4         Rai"
            ]
          },
          "metadata": {
            "tags": []
          },
          "execution_count": 39
        }
      ]
    },
    {
      "cell_type": "code",
      "metadata": {
        "colab": {
          "base_uri": "https://localhost:8080/",
          "height": 172
        },
        "id": "J61MAbYRbLBH",
        "outputId": "625c1ca6-520c-4646-d982-9d669f8d934a"
      },
      "source": [
        "import pandas as pd\n",
        "left = pd.DataFrame({\n",
        "   'id':[1,2,3,4],\n",
        "   'Name': ['Mortal', 'Kaztro', 'Ceasor','Blaster'],\n",
        "    'Building':['Pochinki','Mylta','Georgopol','Mill']})\n",
        "right = pd.DataFrame(\n",
        "   {'id':[1,2,3,4],\n",
        "   'Name': ['Viper', 'Nie Ambro', 'Gyan Sujan','Rai'],\n",
        "   'Building':['Mylta','Pochinki','Georgopol','Mill']})\n",
        "\n",
        "#inner join\n",
        "pd.merge(left, right, on='Building', how='inner')"
      ],
      "execution_count": null,
      "outputs": [
        {
          "output_type": "execute_result",
          "data": {
            "text/html": [
              "<div>\n",
              "<style scoped>\n",
              "    .dataframe tbody tr th:only-of-type {\n",
              "        vertical-align: middle;\n",
              "    }\n",
              "\n",
              "    .dataframe tbody tr th {\n",
              "        vertical-align: top;\n",
              "    }\n",
              "\n",
              "    .dataframe thead th {\n",
              "        text-align: right;\n",
              "    }\n",
              "</style>\n",
              "<table border=\"1\" class=\"dataframe\">\n",
              "  <thead>\n",
              "    <tr style=\"text-align: right;\">\n",
              "      <th></th>\n",
              "      <th>id_x</th>\n",
              "      <th>Name_x</th>\n",
              "      <th>Building</th>\n",
              "      <th>id_y</th>\n",
              "      <th>Name_y</th>\n",
              "    </tr>\n",
              "  </thead>\n",
              "  <tbody>\n",
              "    <tr>\n",
              "      <th>0</th>\n",
              "      <td>1</td>\n",
              "      <td>Mortal</td>\n",
              "      <td>Pochinki</td>\n",
              "      <td>2</td>\n",
              "      <td>Nie Ambro</td>\n",
              "    </tr>\n",
              "    <tr>\n",
              "      <th>1</th>\n",
              "      <td>2</td>\n",
              "      <td>Kaztro</td>\n",
              "      <td>Mylta</td>\n",
              "      <td>1</td>\n",
              "      <td>Viper</td>\n",
              "    </tr>\n",
              "    <tr>\n",
              "      <th>2</th>\n",
              "      <td>3</td>\n",
              "      <td>Ceasor</td>\n",
              "      <td>Georgopol</td>\n",
              "      <td>3</td>\n",
              "      <td>Gyan Sujan</td>\n",
              "    </tr>\n",
              "    <tr>\n",
              "      <th>3</th>\n",
              "      <td>4</td>\n",
              "      <td>Blaster</td>\n",
              "      <td>Mill</td>\n",
              "      <td>4</td>\n",
              "      <td>Rai</td>\n",
              "    </tr>\n",
              "  </tbody>\n",
              "</table>\n",
              "</div>"
            ],
            "text/plain": [
              "   id_x   Name_x   Building  id_y      Name_y\n",
              "0     1   Mortal   Pochinki     2   Nie Ambro\n",
              "1     2   Kaztro      Mylta     1       Viper\n",
              "2     3   Ceasor  Georgopol     3  Gyan Sujan\n",
              "3     4  Blaster       Mill     4         Rai"
            ]
          },
          "metadata": {
            "tags": []
          },
          "execution_count": 40
        }
      ]
    },
    {
      "cell_type": "markdown",
      "metadata": {
        "id": "wmAJuZIcbWGd"
      },
      "source": [
        "***c)Join***"
      ]
    },
    {
      "cell_type": "markdown",
      "metadata": {
        "id": "ieOva4NvbZrU"
      },
      "source": [
        "Both join and merge can be used to combines two dataframes but the join method combines two dataframes on the basis of their indexes whereas the merge method is more versatile and allows us to specify columns beside the index to join on for both dataframes."
      ]
    },
    {
      "cell_type": "code",
      "metadata": {
        "colab": {
          "base_uri": "https://localhost:8080/",
          "height": 172
        },
        "id": "5eJwBjVRbdg_",
        "outputId": "9743e016-cf81-4f9e-9460-5cea63584ab5"
      },
      "source": [
        "import pandas as pd\n",
        "left = pd.DataFrame({\n",
        "   'id':[1,2,3,4],\n",
        "   'Name': ['Mortal', 'Kaztro', 'Ceasor','Blaster'],\n",
        "    'Building':['Pochinki','Mylta','Georgopol','Mill']})\n",
        "right = pd.DataFrame(\n",
        "   {'id':[1,2,3,4],\n",
        "   'Name': ['Viper', 'Nie Ambro', 'Gyan Sujan','Rai'],\n",
        "   'Building':['Mylta','Pochinki','Georgopol','Mill']})\n",
        "\n",
        "left.join(right,lsuffix = '_l',rsuffix = '_r')"
      ],
      "execution_count": null,
      "outputs": [
        {
          "output_type": "execute_result",
          "data": {
            "text/html": [
              "<div>\n",
              "<style scoped>\n",
              "    .dataframe tbody tr th:only-of-type {\n",
              "        vertical-align: middle;\n",
              "    }\n",
              "\n",
              "    .dataframe tbody tr th {\n",
              "        vertical-align: top;\n",
              "    }\n",
              "\n",
              "    .dataframe thead th {\n",
              "        text-align: right;\n",
              "    }\n",
              "</style>\n",
              "<table border=\"1\" class=\"dataframe\">\n",
              "  <thead>\n",
              "    <tr style=\"text-align: right;\">\n",
              "      <th></th>\n",
              "      <th>id_l</th>\n",
              "      <th>Name_l</th>\n",
              "      <th>Building_l</th>\n",
              "      <th>id_r</th>\n",
              "      <th>Name_r</th>\n",
              "      <th>Building_r</th>\n",
              "    </tr>\n",
              "  </thead>\n",
              "  <tbody>\n",
              "    <tr>\n",
              "      <th>0</th>\n",
              "      <td>1</td>\n",
              "      <td>Mortal</td>\n",
              "      <td>Pochinki</td>\n",
              "      <td>1</td>\n",
              "      <td>Viper</td>\n",
              "      <td>Mylta</td>\n",
              "    </tr>\n",
              "    <tr>\n",
              "      <th>1</th>\n",
              "      <td>2</td>\n",
              "      <td>Kaztro</td>\n",
              "      <td>Mylta</td>\n",
              "      <td>2</td>\n",
              "      <td>Nie Ambro</td>\n",
              "      <td>Pochinki</td>\n",
              "    </tr>\n",
              "    <tr>\n",
              "      <th>2</th>\n",
              "      <td>3</td>\n",
              "      <td>Ceasor</td>\n",
              "      <td>Georgopol</td>\n",
              "      <td>3</td>\n",
              "      <td>Gyan Sujan</td>\n",
              "      <td>Georgopol</td>\n",
              "    </tr>\n",
              "    <tr>\n",
              "      <th>3</th>\n",
              "      <td>4</td>\n",
              "      <td>Blaster</td>\n",
              "      <td>Mill</td>\n",
              "      <td>4</td>\n",
              "      <td>Rai</td>\n",
              "      <td>Mill</td>\n",
              "    </tr>\n",
              "  </tbody>\n",
              "</table>\n",
              "</div>"
            ],
            "text/plain": [
              "   id_l   Name_l Building_l  id_r      Name_r Building_r\n",
              "0     1   Mortal   Pochinki     1       Viper      Mylta\n",
              "1     2   Kaztro      Mylta     2   Nie Ambro   Pochinki\n",
              "2     3   Ceasor  Georgopol     3  Gyan Sujan  Georgopol\n",
              "3     4  Blaster       Mill     4         Rai       Mill"
            ]
          },
          "metadata": {
            "tags": []
          },
          "execution_count": 41
        }
      ]
    },
    {
      "cell_type": "markdown",
      "metadata": {
        "id": "HPIUH3O_cGgO"
      },
      "source": [
        "## **5.TYPES  OF INDEXING IN DATA FRAME**"
      ]
    },
    {
      "cell_type": "markdown",
      "metadata": {
        "id": "DhRKTus4cQHl"
      },
      "source": [
        "\n",
        "Indexing in pandas means simply selecting particular rows and columns of data from a DataFrame.Indexing can also be known as Subset Selection\n",
        "\n",
        "***1)  Indexing a Dataframe using indexing operator [] :***"
      ]
    },
    {
      "cell_type": "code",
      "metadata": {
        "colab": {
          "base_uri": "https://localhost:8080/"
        },
        "id": "kf5qwDrecbM2",
        "outputId": "240908b2-1a84-4a52-c8cc-5c16986bb773"
      },
      "source": [
        "# retrieving columns by indexing operator\n",
        "first = weapon_range[\"Weapon Name\"]\n",
        "first.head(5)"
      ],
      "execution_count": null,
      "outputs": [
        {
          "output_type": "execute_result",
          "data": {
            "text/plain": [
              "0           Groza\n",
              "1             AKM\n",
              "2            M762\n",
              "3     MK47 Mutant\n",
              "4          AUG A3\n",
              "5          SCAR-L\n",
              "6            M416\n",
              "7           M16A4\n",
              "8            G36C\n",
              "10           M249\n",
              "12         Vector\n",
              "13            Uzi\n",
              "14       PP-Bizon\n",
              "15           MP5K\n",
              "16       Thompson\n",
              "17          UMP45\n",
              "18           S686\n",
              "19          S1897\n",
              "20           S12K\n",
              "21           MK14\n",
              "22            SLR\n",
              "23            SKS\n",
              "24            QBU\n",
              "25         Mini14\n",
              "26            VSS\n",
              "27            AWM\n",
              "28            M24\n",
              "31      Sawed-Off\n",
              "32          R1895\n",
              "37       Skorpion\n",
              "38       Crossbow\n",
              "39            Pan\n",
              "40        Crowbar\n",
              "41         Sickle\n",
              "42        Machete\n",
              "Name: Weapon Name, dtype: object"
            ]
          },
          "metadata": {
            "tags": []
          },
          "execution_count": 42
        }
      ]
    },
    {
      "cell_type": "code",
      "metadata": {
        "colab": {
          "base_uri": "https://localhost:8080/",
          "height": 1000
        },
        "id": "P9GTh66Eeu3E",
        "outputId": "4558e17a-2269-48a0-8181-700b843f3a2a"
      },
      "source": [
        "#In order to select multiple columns, we have to pass a list of columns in an indexing operator.\n",
        "first = weapon_range[\"Weapon Name\",\"Weapon Type\"]\n",
        "first.head(7)"
      ],
      "execution_count": null,
      "outputs": [
        {
          "output_type": "stream",
          "text": [
            "/usr/local/lib/python3.7/dist-packages/ipykernel_launcher.py:2: FutureWarning: Indexing with multiple keys (implicitly converted to a tuple of keys) will be deprecated, use a list instead.\n",
            "  \n"
          ],
          "name": "stderr"
        },
        {
          "output_type": "execute_result",
          "data": {
            "text/html": [
              "<div>\n",
              "<style scoped>\n",
              "    .dataframe tbody tr th:only-of-type {\n",
              "        vertical-align: middle;\n",
              "    }\n",
              "\n",
              "    .dataframe tbody tr th {\n",
              "        vertical-align: top;\n",
              "    }\n",
              "\n",
              "    .dataframe thead th {\n",
              "        text-align: right;\n",
              "    }\n",
              "</style>\n",
              "<table border=\"1\" class=\"dataframe\">\n",
              "  <thead>\n",
              "    <tr style=\"text-align: right;\">\n",
              "      <th></th>\n",
              "      <th>Weapon Name</th>\n",
              "      <th>Weapon Type</th>\n",
              "    </tr>\n",
              "  </thead>\n",
              "  <tbody>\n",
              "    <tr>\n",
              "      <th>0</th>\n",
              "      <td>Groza</td>\n",
              "      <td>Assault Rifle</td>\n",
              "    </tr>\n",
              "    <tr>\n",
              "      <th>1</th>\n",
              "      <td>AKM</td>\n",
              "      <td>Assault Rifle</td>\n",
              "    </tr>\n",
              "    <tr>\n",
              "      <th>2</th>\n",
              "      <td>M762</td>\n",
              "      <td>Assault Rifle</td>\n",
              "    </tr>\n",
              "    <tr>\n",
              "      <th>3</th>\n",
              "      <td>MK47 Mutant</td>\n",
              "      <td>Assault Rifle</td>\n",
              "    </tr>\n",
              "    <tr>\n",
              "      <th>4</th>\n",
              "      <td>AUG A3</td>\n",
              "      <td>Assault Rifle</td>\n",
              "    </tr>\n",
              "    <tr>\n",
              "      <th>5</th>\n",
              "      <td>SCAR-L</td>\n",
              "      <td>Assault Rifle</td>\n",
              "    </tr>\n",
              "    <tr>\n",
              "      <th>6</th>\n",
              "      <td>M416</td>\n",
              "      <td>Assault Rifle</td>\n",
              "    </tr>\n",
              "    <tr>\n",
              "      <th>7</th>\n",
              "      <td>M16A4</td>\n",
              "      <td>Assault Rifle</td>\n",
              "    </tr>\n",
              "    <tr>\n",
              "      <th>8</th>\n",
              "      <td>G36C</td>\n",
              "      <td>Assault Rifle</td>\n",
              "    </tr>\n",
              "    <tr>\n",
              "      <th>9</th>\n",
              "      <td>OBZ</td>\n",
              "      <td>Assault Rifle</td>\n",
              "    </tr>\n",
              "    <tr>\n",
              "      <th>10</th>\n",
              "      <td>M249</td>\n",
              "      <td>Light Machine Gun</td>\n",
              "    </tr>\n",
              "    <tr>\n",
              "      <th>11</th>\n",
              "      <td>DP-28</td>\n",
              "      <td>Light Machine Gun</td>\n",
              "    </tr>\n",
              "    <tr>\n",
              "      <th>12</th>\n",
              "      <td>Vector</td>\n",
              "      <td>Submachine Gun</td>\n",
              "    </tr>\n",
              "    <tr>\n",
              "      <th>13</th>\n",
              "      <td>Uzi</td>\n",
              "      <td>Submachine Gun</td>\n",
              "    </tr>\n",
              "    <tr>\n",
              "      <th>14</th>\n",
              "      <td>PP-Bizon</td>\n",
              "      <td>Submachine Gun</td>\n",
              "    </tr>\n",
              "    <tr>\n",
              "      <th>15</th>\n",
              "      <td>MP5K</td>\n",
              "      <td>Submachine Gun</td>\n",
              "    </tr>\n",
              "    <tr>\n",
              "      <th>16</th>\n",
              "      <td>Thompson</td>\n",
              "      <td>Submachine Gun</td>\n",
              "    </tr>\n",
              "    <tr>\n",
              "      <th>17</th>\n",
              "      <td>UMP45</td>\n",
              "      <td>Submachine Gun</td>\n",
              "    </tr>\n",
              "    <tr>\n",
              "      <th>18</th>\n",
              "      <td>S686</td>\n",
              "      <td>Shotgun</td>\n",
              "    </tr>\n",
              "    <tr>\n",
              "      <th>19</th>\n",
              "      <td>S1897</td>\n",
              "      <td>Shotgun</td>\n",
              "    </tr>\n",
              "    <tr>\n",
              "      <th>20</th>\n",
              "      <td>S12K</td>\n",
              "      <td>Shotgun</td>\n",
              "    </tr>\n",
              "    <tr>\n",
              "      <th>21</th>\n",
              "      <td>MK14</td>\n",
              "      <td>Designed Marksman Rifle</td>\n",
              "    </tr>\n",
              "    <tr>\n",
              "      <th>22</th>\n",
              "      <td>SLR</td>\n",
              "      <td>Designed Marksman Rifle</td>\n",
              "    </tr>\n",
              "    <tr>\n",
              "      <th>23</th>\n",
              "      <td>SKS</td>\n",
              "      <td>Designed Marksman Rifle</td>\n",
              "    </tr>\n",
              "    <tr>\n",
              "      <th>24</th>\n",
              "      <td>QBU</td>\n",
              "      <td>Designed Marksman Rifle</td>\n",
              "    </tr>\n",
              "    <tr>\n",
              "      <th>25</th>\n",
              "      <td>Mini14</td>\n",
              "      <td>Designed Marksman Rifle</td>\n",
              "    </tr>\n",
              "    <tr>\n",
              "      <th>26</th>\n",
              "      <td>VSS</td>\n",
              "      <td>Designed Marksman Rifle</td>\n",
              "    </tr>\n",
              "    <tr>\n",
              "      <th>27</th>\n",
              "      <td>AWM</td>\n",
              "      <td>Sniper Rifle</td>\n",
              "    </tr>\n",
              "    <tr>\n",
              "      <th>28</th>\n",
              "      <td>M24</td>\n",
              "      <td>Sniper Rifle</td>\n",
              "    </tr>\n",
              "    <tr>\n",
              "      <th>29</th>\n",
              "      <td>Kar98</td>\n",
              "      <td>Sniper Rifle</td>\n",
              "    </tr>\n",
              "    <tr>\n",
              "      <th>31</th>\n",
              "      <td>Sawed-Off</td>\n",
              "      <td>Pistol</td>\n",
              "    </tr>\n",
              "    <tr>\n",
              "      <th>32</th>\n",
              "      <td>R1895</td>\n",
              "      <td>Pistol</td>\n",
              "    </tr>\n",
              "    <tr>\n",
              "      <th>33</th>\n",
              "      <td>R45</td>\n",
              "      <td>Pistol</td>\n",
              "    </tr>\n",
              "    <tr>\n",
              "      <th>34</th>\n",
              "      <td>P1911</td>\n",
              "      <td>Pistol</td>\n",
              "    </tr>\n",
              "    <tr>\n",
              "      <th>37</th>\n",
              "      <td>Skorpion</td>\n",
              "      <td>Pistol</td>\n",
              "    </tr>\n",
              "    <tr>\n",
              "      <th>38</th>\n",
              "      <td>Crossbow</td>\n",
              "      <td>Other</td>\n",
              "    </tr>\n",
              "    <tr>\n",
              "      <th>39</th>\n",
              "      <td>Pan</td>\n",
              "      <td>Melee</td>\n",
              "    </tr>\n",
              "    <tr>\n",
              "      <th>40</th>\n",
              "      <td>Crowbar</td>\n",
              "      <td>Melee</td>\n",
              "    </tr>\n",
              "    <tr>\n",
              "      <th>41</th>\n",
              "      <td>Sickle</td>\n",
              "      <td>Melee</td>\n",
              "    </tr>\n",
              "    <tr>\n",
              "      <th>42</th>\n",
              "      <td>Machete</td>\n",
              "      <td>Melee</td>\n",
              "    </tr>\n",
              "    <tr>\n",
              "      <th>43</th>\n",
              "      <td>Punch</td>\n",
              "      <td>Melee</td>\n",
              "    </tr>\n",
              "  </tbody>\n",
              "</table>\n",
              "</div>"
            ],
            "text/plain": [
              "    Weapon Name              Weapon Type\n",
              "0         Groza            Assault Rifle\n",
              "1           AKM            Assault Rifle\n",
              "2          M762            Assault Rifle\n",
              "3   MK47 Mutant            Assault Rifle\n",
              "4        AUG A3            Assault Rifle\n",
              "5        SCAR-L            Assault Rifle\n",
              "6          M416            Assault Rifle\n",
              "7         M16A4            Assault Rifle\n",
              "8          G36C            Assault Rifle\n",
              "9           OBZ            Assault Rifle\n",
              "10         M249        Light Machine Gun\n",
              "11        DP-28        Light Machine Gun\n",
              "12       Vector           Submachine Gun\n",
              "13          Uzi           Submachine Gun\n",
              "14     PP-Bizon           Submachine Gun\n",
              "15         MP5K           Submachine Gun\n",
              "16     Thompson           Submachine Gun\n",
              "17        UMP45           Submachine Gun\n",
              "18         S686                  Shotgun\n",
              "19        S1897                  Shotgun\n",
              "20         S12K                  Shotgun\n",
              "21         MK14  Designed Marksman Rifle\n",
              "22          SLR  Designed Marksman Rifle\n",
              "23          SKS  Designed Marksman Rifle\n",
              "24          QBU  Designed Marksman Rifle\n",
              "25       Mini14  Designed Marksman Rifle\n",
              "26          VSS  Designed Marksman Rifle\n",
              "27          AWM             Sniper Rifle\n",
              "28          M24             Sniper Rifle\n",
              "29        Kar98             Sniper Rifle\n",
              "31    Sawed-Off                   Pistol\n",
              "32        R1895                   Pistol\n",
              "33          R45                   Pistol\n",
              "34        P1911                   Pistol\n",
              "37     Skorpion                   Pistol\n",
              "38     Crossbow                    Other\n",
              "39          Pan                    Melee\n",
              "40      Crowbar                    Melee\n",
              "41       Sickle                    Melee\n",
              "42      Machete                    Melee\n",
              "43        Punch                    Melee"
            ]
          },
          "metadata": {
            "tags": []
          },
          "execution_count": 43
        }
      ]
    },
    {
      "cell_type": "markdown",
      "metadata": {
        "id": "2p394XQXgBGP"
      },
      "source": [
        "***2) indexing a DataFrame using .loc[ ] :***"
      ]
    },
    {
      "cell_type": "code",
      "metadata": {
        "colab": {
          "base_uri": "https://localhost:8080/"
        },
        "id": "Jj2ka8M1gbVa",
        "outputId": "5bb03031-d2eb-4926-816b-0f7b46d09952"
      },
      "source": [
        "#In order to select a single row using .loc[], we put a single row label in a .loc function.\n",
        "path='https://github.com/chinnuzz/python/raw/main/weapon_status.csv'\n",
        "weapon_d = pd.read_csv(path,sep = ',', header = 'infer',index_col =\"Weapon Name\", usecols = ['Weapon Name','Weapon Type','Range','Damage'])\n",
        "first = weapon_d.loc[\"AKM\"]\n",
        "second = weapon_d.loc[\"Groza\"]\n",
        "print(first,\"\\n-----------------------------\\n\",second)"
      ],
      "execution_count": null,
      "outputs": [
        {
          "output_type": "stream",
          "text": [
            "Weapon Type    Assault Rifle\n",
            "Damage                    49\n",
            "Range                    400\n",
            "Name: AKM, dtype: object \n",
            "-----------------------------\n",
            " Weapon Type    Assault Rifle\n",
            "Damage                    49\n",
            "Range                    400\n",
            "Name: Groza, dtype: object\n"
          ],
          "name": "stdout"
        }
      ]
    },
    {
      "cell_type": "code",
      "metadata": {
        "colab": {
          "base_uri": "https://localhost:8080/"
        },
        "id": "CFBJGfQvhkWk",
        "outputId": "41658a50-bab4-4a7c-cf58-0eb8d9a267ff"
      },
      "source": [
        "#In order to select multiple rows, we put all the row labels in a list and pass that to .loc function.\n",
        "# retrieving multiple rows by loc method\n",
        "first = weapon_d.loc[[\"AKM\", \"Groza\"]]\n",
        "print(first)"
      ],
      "execution_count": null,
      "outputs": [
        {
          "output_type": "stream",
          "text": [
            "               Weapon Type  Damage  Range\n",
            "Weapon Name                              \n",
            "AKM          Assault Rifle      49  400.0\n",
            "Groza        Assault Rifle      49  400.0\n"
          ],
          "name": "stdout"
        }
      ]
    },
    {
      "cell_type": "code",
      "metadata": {
        "colab": {
          "base_uri": "https://localhost:8080/",
          "height": 234
        },
        "id": "jhxXsxwji9lD",
        "outputId": "bbd042b7-a82f-45de-dfb6-6eaf509b9b1b"
      },
      "source": [
        "# retrieving all rows and some columns by loc method\n",
        "first = weapon_d.loc[:, [\"Range\",\"Damage\"]]\n",
        "first.head(5)"
      ],
      "execution_count": null,
      "outputs": [
        {
          "output_type": "execute_result",
          "data": {
            "text/html": [
              "<div>\n",
              "<style scoped>\n",
              "    .dataframe tbody tr th:only-of-type {\n",
              "        vertical-align: middle;\n",
              "    }\n",
              "\n",
              "    .dataframe tbody tr th {\n",
              "        vertical-align: top;\n",
              "    }\n",
              "\n",
              "    .dataframe thead th {\n",
              "        text-align: right;\n",
              "    }\n",
              "</style>\n",
              "<table border=\"1\" class=\"dataframe\">\n",
              "  <thead>\n",
              "    <tr style=\"text-align: right;\">\n",
              "      <th></th>\n",
              "      <th>Range</th>\n",
              "      <th>Damage</th>\n",
              "    </tr>\n",
              "    <tr>\n",
              "      <th>Weapon Name</th>\n",
              "      <th></th>\n",
              "      <th></th>\n",
              "    </tr>\n",
              "  </thead>\n",
              "  <tbody>\n",
              "    <tr>\n",
              "      <th>Groza</th>\n",
              "      <td>400.0</td>\n",
              "      <td>49</td>\n",
              "    </tr>\n",
              "    <tr>\n",
              "      <th>AKM</th>\n",
              "      <td>400.0</td>\n",
              "      <td>49</td>\n",
              "    </tr>\n",
              "    <tr>\n",
              "      <th>M762</th>\n",
              "      <td>400.0</td>\n",
              "      <td>47</td>\n",
              "    </tr>\n",
              "    <tr>\n",
              "      <th>MK47 Mutant</th>\n",
              "      <td>500.0</td>\n",
              "      <td>49</td>\n",
              "    </tr>\n",
              "    <tr>\n",
              "      <th>AUG A3</th>\n",
              "      <td>600.0</td>\n",
              "      <td>43</td>\n",
              "    </tr>\n",
              "  </tbody>\n",
              "</table>\n",
              "</div>"
            ],
            "text/plain": [
              "             Range  Damage\n",
              "Weapon Name               \n",
              "Groza        400.0      49\n",
              "AKM          400.0      49\n",
              "M762         400.0      47\n",
              "MK47 Mutant  500.0      49\n",
              "AUG A3       600.0      43"
            ]
          },
          "metadata": {
            "tags": []
          },
          "execution_count": 46
        }
      ]
    },
    {
      "cell_type": "markdown",
      "metadata": {
        "id": "-ckSUvIojEVz"
      },
      "source": [
        "***3)  Indexing a DataFrame using .iloc[ ] :***"
      ]
    },
    {
      "cell_type": "code",
      "metadata": {
        "colab": {
          "base_uri": "https://localhost:8080/"
        },
        "id": "wgF_Fo-HjImM",
        "outputId": "da4941e4-b6a0-496c-f077-2b8b90b1e5a9"
      },
      "source": [
        "#Selecting a single row\n",
        "now =weapon_d.iloc[3] \n",
        "print(now)"
      ],
      "execution_count": null,
      "outputs": [
        {
          "output_type": "stream",
          "text": [
            "Weapon Type    Assault Rifle\n",
            "Damage                    49\n",
            "Range                    500\n",
            "Name: MK47 Mutant, dtype: object\n"
          ],
          "name": "stdout"
        }
      ]
    },
    {
      "cell_type": "code",
      "metadata": {
        "colab": {
          "base_uri": "https://localhost:8080/",
          "height": 172
        },
        "id": "Cz8JhbpmkbLO",
        "outputId": "7ec8a12b-a22e-4b50-85f2-49e75baca4ba"
      },
      "source": [
        "#Selecting multiple \n",
        "now= weapon_d.iloc [[3, 5, 7]]\n",
        "now"
      ],
      "execution_count": null,
      "outputs": [
        {
          "output_type": "execute_result",
          "data": {
            "text/html": [
              "<div>\n",
              "<style scoped>\n",
              "    .dataframe tbody tr th:only-of-type {\n",
              "        vertical-align: middle;\n",
              "    }\n",
              "\n",
              "    .dataframe tbody tr th {\n",
              "        vertical-align: top;\n",
              "    }\n",
              "\n",
              "    .dataframe thead th {\n",
              "        text-align: right;\n",
              "    }\n",
              "</style>\n",
              "<table border=\"1\" class=\"dataframe\">\n",
              "  <thead>\n",
              "    <tr style=\"text-align: right;\">\n",
              "      <th></th>\n",
              "      <th>Weapon Type</th>\n",
              "      <th>Damage</th>\n",
              "      <th>Range</th>\n",
              "    </tr>\n",
              "    <tr>\n",
              "      <th>Weapon Name</th>\n",
              "      <th></th>\n",
              "      <th></th>\n",
              "      <th></th>\n",
              "    </tr>\n",
              "  </thead>\n",
              "  <tbody>\n",
              "    <tr>\n",
              "      <th>MK47 Mutant</th>\n",
              "      <td>Assault Rifle</td>\n",
              "      <td>49</td>\n",
              "      <td>500.0</td>\n",
              "    </tr>\n",
              "    <tr>\n",
              "      <th>SCAR-L</th>\n",
              "      <td>Assault Rifle</td>\n",
              "      <td>43</td>\n",
              "      <td>600.0</td>\n",
              "    </tr>\n",
              "    <tr>\n",
              "      <th>M16A4</th>\n",
              "      <td>Assault Rifle</td>\n",
              "      <td>43</td>\n",
              "      <td>600.0</td>\n",
              "    </tr>\n",
              "  </tbody>\n",
              "</table>\n",
              "</div>"
            ],
            "text/plain": [
              "               Weapon Type  Damage  Range\n",
              "Weapon Name                              \n",
              "MK47 Mutant  Assault Rifle      49  500.0\n",
              "SCAR-L       Assault Rifle      43  600.0\n",
              "M16A4        Assault Rifle      43  600.0"
            ]
          },
          "metadata": {
            "tags": []
          },
          "execution_count": 48
        }
      ]
    },
    {
      "cell_type": "code",
      "metadata": {
        "colab": {
          "base_uri": "https://localhost:8080/",
          "height": 234
        },
        "id": "_ur4nNStkreB",
        "outputId": "e1485b83-2bc6-4505-f5b2-4b23d5c64162"
      },
      "source": [
        "#Selecting all the rows and a some columns\n",
        "now = weapon_d.iloc [:, [1, 2]]\n",
        "now.head(5)"
      ],
      "execution_count": null,
      "outputs": [
        {
          "output_type": "execute_result",
          "data": {
            "text/html": [
              "<div>\n",
              "<style scoped>\n",
              "    .dataframe tbody tr th:only-of-type {\n",
              "        vertical-align: middle;\n",
              "    }\n",
              "\n",
              "    .dataframe tbody tr th {\n",
              "        vertical-align: top;\n",
              "    }\n",
              "\n",
              "    .dataframe thead th {\n",
              "        text-align: right;\n",
              "    }\n",
              "</style>\n",
              "<table border=\"1\" class=\"dataframe\">\n",
              "  <thead>\n",
              "    <tr style=\"text-align: right;\">\n",
              "      <th></th>\n",
              "      <th>Damage</th>\n",
              "      <th>Range</th>\n",
              "    </tr>\n",
              "    <tr>\n",
              "      <th>Weapon Name</th>\n",
              "      <th></th>\n",
              "      <th></th>\n",
              "    </tr>\n",
              "  </thead>\n",
              "  <tbody>\n",
              "    <tr>\n",
              "      <th>Groza</th>\n",
              "      <td>49</td>\n",
              "      <td>400.0</td>\n",
              "    </tr>\n",
              "    <tr>\n",
              "      <th>AKM</th>\n",
              "      <td>49</td>\n",
              "      <td>400.0</td>\n",
              "    </tr>\n",
              "    <tr>\n",
              "      <th>M762</th>\n",
              "      <td>47</td>\n",
              "      <td>400.0</td>\n",
              "    </tr>\n",
              "    <tr>\n",
              "      <th>MK47 Mutant</th>\n",
              "      <td>49</td>\n",
              "      <td>500.0</td>\n",
              "    </tr>\n",
              "    <tr>\n",
              "      <th>AUG A3</th>\n",
              "      <td>43</td>\n",
              "      <td>600.0</td>\n",
              "    </tr>\n",
              "  </tbody>\n",
              "</table>\n",
              "</div>"
            ],
            "text/plain": [
              "             Damage  Range\n",
              "Weapon Name               \n",
              "Groza            49  400.0\n",
              "AKM              49  400.0\n",
              "M762             47  400.0\n",
              "MK47 Mutant      49  500.0\n",
              "AUG A3           43  600.0"
            ]
          },
          "metadata": {
            "tags": []
          },
          "execution_count": 49
        }
      ]
    },
    {
      "cell_type": "markdown",
      "metadata": {
        "id": "AjQ1laihkxbr"
      },
      "source": [
        "## **6.AGGREGATION FUNCTION IN DATA FRAME**\n"
      ]
    },
    {
      "cell_type": "markdown",
      "metadata": {
        "id": "wxdVIBVklHOy"
      },
      "source": [
        "\n",
        "Pandas provides some aggregate functions to do some operations on grouped dataframe. Some commonly used aggregation functions are\n",
        "\n",
        "***1) mean()***"
      ]
    },
    {
      "cell_type": "code",
      "metadata": {
        "colab": {
          "base_uri": "https://localhost:8080/",
          "height": 172
        },
        "id": "Z5VNgYFRlLgf",
        "outputId": "88011257-17fb-4377-c94e-3ba728194d4f"
      },
      "source": [
        "#Pandas groupby: mean()\n",
        "#The aggregate function mean() computes mean values for each group. Here, pandas groupby followed by mean will compute mean population for each continent.\n",
        "path='https://github.com/chinnuzz/python/raw/main/weapon_status.csv'\n",
        "weapon_df = pd.read_csv(path,sep = ',', header = 'infer', index_col =None, usecols =['Weapon Name','Range','Damage','Bullet Speed'])\n",
        "weapon_df.groupby(\"Range\").mean().head(3)"
      ],
      "execution_count": null,
      "outputs": [
        {
          "output_type": "execute_result",
          "data": {
            "text/html": [
              "<div>\n",
              "<style scoped>\n",
              "    .dataframe tbody tr th:only-of-type {\n",
              "        vertical-align: middle;\n",
              "    }\n",
              "\n",
              "    .dataframe tbody tr th {\n",
              "        vertical-align: top;\n",
              "    }\n",
              "\n",
              "    .dataframe thead th {\n",
              "        text-align: right;\n",
              "    }\n",
              "</style>\n",
              "<table border=\"1\" class=\"dataframe\">\n",
              "  <thead>\n",
              "    <tr style=\"text-align: right;\">\n",
              "      <th></th>\n",
              "      <th>Damage</th>\n",
              "      <th>Bullet Speed</th>\n",
              "    </tr>\n",
              "    <tr>\n",
              "      <th>Range</th>\n",
              "      <th></th>\n",
              "      <th></th>\n",
              "    </tr>\n",
              "  </thead>\n",
              "  <tbody>\n",
              "    <tr>\n",
              "      <th>25.0</th>\n",
              "      <td>111.0</td>\n",
              "      <td>345.0</td>\n",
              "    </tr>\n",
              "    <tr>\n",
              "      <th>50.0</th>\n",
              "      <td>31.0</td>\n",
              "      <td>300.0</td>\n",
              "    </tr>\n",
              "    <tr>\n",
              "      <th>60.0</th>\n",
              "      <td>22.0</td>\n",
              "      <td>400.0</td>\n",
              "    </tr>\n",
              "  </tbody>\n",
              "</table>\n",
              "</div>"
            ],
            "text/plain": [
              "       Damage  Bullet Speed\n",
              "Range                      \n",
              "25.0    111.0         345.0\n",
              "50.0     31.0         300.0\n",
              "60.0     22.0         400.0"
            ]
          },
          "metadata": {
            "tags": []
          },
          "execution_count": 50
        }
      ]
    },
    {
      "cell_type": "markdown",
      "metadata": {
        "id": "8pDcDw1CmImR"
      },
      "source": [
        "\n",
        "***2) sum()***\n",
        "\n",
        "The aggregating function sum() simply adds of values within each group."
      ]
    },
    {
      "cell_type": "code",
      "metadata": {
        "colab": {
          "base_uri": "https://localhost:8080/",
          "height": 172
        },
        "id": "ABCpw9WxmLa9",
        "outputId": "3b156ac6-b63f-4e8d-be03-2b284b890422"
      },
      "source": [
        "weapon_df.groupby(\"Range\").sum().head(3)"
      ],
      "execution_count": null,
      "outputs": [
        {
          "output_type": "execute_result",
          "data": {
            "text/html": [
              "<div>\n",
              "<style scoped>\n",
              "    .dataframe tbody tr th:only-of-type {\n",
              "        vertical-align: middle;\n",
              "    }\n",
              "\n",
              "    .dataframe tbody tr th {\n",
              "        vertical-align: top;\n",
              "    }\n",
              "\n",
              "    .dataframe thead th {\n",
              "        text-align: right;\n",
              "    }\n",
              "</style>\n",
              "<table border=\"1\" class=\"dataframe\">\n",
              "  <thead>\n",
              "    <tr style=\"text-align: right;\">\n",
              "      <th></th>\n",
              "      <th>Damage</th>\n",
              "      <th>Bullet Speed</th>\n",
              "    </tr>\n",
              "    <tr>\n",
              "      <th>Range</th>\n",
              "      <th></th>\n",
              "      <th></th>\n",
              "    </tr>\n",
              "  </thead>\n",
              "  <tbody>\n",
              "    <tr>\n",
              "      <th>25.0</th>\n",
              "      <td>999</td>\n",
              "      <td>2415.0</td>\n",
              "    </tr>\n",
              "    <tr>\n",
              "      <th>50.0</th>\n",
              "      <td>31</td>\n",
              "      <td>300.0</td>\n",
              "    </tr>\n",
              "    <tr>\n",
              "      <th>60.0</th>\n",
              "      <td>22</td>\n",
              "      <td>400.0</td>\n",
              "    </tr>\n",
              "  </tbody>\n",
              "</table>\n",
              "</div>"
            ],
            "text/plain": [
              "       Damage  Bullet Speed\n",
              "Range                      \n",
              "25.0      999        2415.0\n",
              "50.0       31         300.0\n",
              "60.0       22         400.0"
            ]
          },
          "metadata": {
            "tags": []
          },
          "execution_count": 51
        }
      ]
    },
    {
      "cell_type": "markdown",
      "metadata": {
        "id": "_3nMyeXsmkN7"
      },
      "source": [
        "***3) size***\n",
        "\n",
        "The aggregating function size() computes the size per each group."
      ]
    },
    {
      "cell_type": "code",
      "metadata": {
        "colab": {
          "base_uri": "https://localhost:8080/"
        },
        "id": "LWd1BxCemn_j",
        "outputId": "a1a0a38c-20ce-4c1b-fab0-d6b69efac279"
      },
      "source": [
        "weapon_df.groupby(\"Range\").size()"
      ],
      "execution_count": null,
      "outputs": [
        {
          "output_type": "execute_result",
          "data": {
            "text/plain": [
              "Range\n",
              "25.0     9\n",
              "50.0     1\n",
              "60.0     1\n",
              "200.0    3\n",
              "300.0    2\n",
              "400.0    4\n",
              "500.0    2\n",
              "600.0    8\n",
              "700.0    1\n",
              "800.0    6\n",
              "900.0    1\n",
              "dtype: int64"
            ]
          },
          "metadata": {
            "tags": []
          },
          "execution_count": 52
        }
      ]
    },
    {
      "cell_type": "markdown",
      "metadata": {
        "id": "ofzNlL_Fm1Wr"
      },
      "source": [
        "***4) count()***\n",
        "\n",
        "The aggregating function count() computes the number of values with in each group."
      ]
    },
    {
      "cell_type": "code",
      "metadata": {
        "colab": {
          "base_uri": "https://localhost:8080/",
          "height": 418
        },
        "id": "91RHgpLAm7fo",
        "outputId": "1449f783-c61b-4dbd-cb84-b84d8b9d3130"
      },
      "source": [
        "weapon_df.groupby(\"Range\").count()"
      ],
      "execution_count": null,
      "outputs": [
        {
          "output_type": "execute_result",
          "data": {
            "text/html": [
              "<div>\n",
              "<style scoped>\n",
              "    .dataframe tbody tr th:only-of-type {\n",
              "        vertical-align: middle;\n",
              "    }\n",
              "\n",
              "    .dataframe tbody tr th {\n",
              "        vertical-align: top;\n",
              "    }\n",
              "\n",
              "    .dataframe thead th {\n",
              "        text-align: right;\n",
              "    }\n",
              "</style>\n",
              "<table border=\"1\" class=\"dataframe\">\n",
              "  <thead>\n",
              "    <tr style=\"text-align: right;\">\n",
              "      <th></th>\n",
              "      <th>Weapon Name</th>\n",
              "      <th>Damage</th>\n",
              "      <th>Bullet Speed</th>\n",
              "    </tr>\n",
              "    <tr>\n",
              "      <th>Range</th>\n",
              "      <th></th>\n",
              "      <th></th>\n",
              "      <th></th>\n",
              "    </tr>\n",
              "  </thead>\n",
              "  <tbody>\n",
              "    <tr>\n",
              "      <th>25.0</th>\n",
              "      <td>9</td>\n",
              "      <td>9</td>\n",
              "      <td>7</td>\n",
              "    </tr>\n",
              "    <tr>\n",
              "      <th>50.0</th>\n",
              "      <td>1</td>\n",
              "      <td>1</td>\n",
              "      <td>1</td>\n",
              "    </tr>\n",
              "    <tr>\n",
              "      <th>60.0</th>\n",
              "      <td>1</td>\n",
              "      <td>1</td>\n",
              "      <td>1</td>\n",
              "    </tr>\n",
              "    <tr>\n",
              "      <th>200.0</th>\n",
              "      <td>3</td>\n",
              "      <td>3</td>\n",
              "      <td>3</td>\n",
              "    </tr>\n",
              "    <tr>\n",
              "      <th>300.0</th>\n",
              "      <td>2</td>\n",
              "      <td>2</td>\n",
              "      <td>2</td>\n",
              "    </tr>\n",
              "    <tr>\n",
              "      <th>400.0</th>\n",
              "      <td>4</td>\n",
              "      <td>4</td>\n",
              "      <td>4</td>\n",
              "    </tr>\n",
              "    <tr>\n",
              "      <th>500.0</th>\n",
              "      <td>2</td>\n",
              "      <td>2</td>\n",
              "      <td>2</td>\n",
              "    </tr>\n",
              "    <tr>\n",
              "      <th>600.0</th>\n",
              "      <td>8</td>\n",
              "      <td>8</td>\n",
              "      <td>8</td>\n",
              "    </tr>\n",
              "    <tr>\n",
              "      <th>700.0</th>\n",
              "      <td>1</td>\n",
              "      <td>1</td>\n",
              "      <td>1</td>\n",
              "    </tr>\n",
              "    <tr>\n",
              "      <th>800.0</th>\n",
              "      <td>6</td>\n",
              "      <td>6</td>\n",
              "      <td>6</td>\n",
              "    </tr>\n",
              "    <tr>\n",
              "      <th>900.0</th>\n",
              "      <td>1</td>\n",
              "      <td>1</td>\n",
              "      <td>1</td>\n",
              "    </tr>\n",
              "  </tbody>\n",
              "</table>\n",
              "</div>"
            ],
            "text/plain": [
              "       Weapon Name  Damage  Bullet Speed\n",
              "Range                                   \n",
              "25.0             9       9             7\n",
              "50.0             1       1             1\n",
              "60.0             1       1             1\n",
              "200.0            3       3             3\n",
              "300.0            2       2             2\n",
              "400.0            4       4             4\n",
              "500.0            2       2             2\n",
              "600.0            8       8             8\n",
              "700.0            1       1             1\n",
              "800.0            6       6             6\n",
              "900.0            1       1             1"
            ]
          },
          "metadata": {
            "tags": []
          },
          "execution_count": 53
        }
      ]
    },
    {
      "cell_type": "markdown",
      "metadata": {
        "id": "17bJn0tRnOft"
      },
      "source": [
        "***5) std()***\n",
        "\n",
        "The aggregating function std() computes standard deviation of the values within each group."
      ]
    },
    {
      "cell_type": "code",
      "metadata": {
        "colab": {
          "base_uri": "https://localhost:8080/",
          "height": 418
        },
        "id": "5uNRfA_XnRk2",
        "outputId": "dfabf668-3b48-4ff2-9660-d705d86aef17"
      },
      "source": [
        "weapon_df.groupby(\"Range\").std()"
      ],
      "execution_count": null,
      "outputs": [
        {
          "output_type": "execute_result",
          "data": {
            "text/html": [
              "<div>\n",
              "<style scoped>\n",
              "    .dataframe tbody tr th:only-of-type {\n",
              "        vertical-align: middle;\n",
              "    }\n",
              "\n",
              "    .dataframe tbody tr th {\n",
              "        vertical-align: top;\n",
              "    }\n",
              "\n",
              "    .dataframe thead th {\n",
              "        text-align: right;\n",
              "    }\n",
              "</style>\n",
              "<table border=\"1\" class=\"dataframe\">\n",
              "  <thead>\n",
              "    <tr style=\"text-align: right;\">\n",
              "      <th></th>\n",
              "      <th>Damage</th>\n",
              "      <th>Bullet Speed</th>\n",
              "    </tr>\n",
              "    <tr>\n",
              "      <th>Range</th>\n",
              "      <th></th>\n",
              "      <th></th>\n",
              "    </tr>\n",
              "  </thead>\n",
              "  <tbody>\n",
              "    <tr>\n",
              "      <th>25.0</th>\n",
              "      <td>84.196199</td>\n",
              "      <td>45.184806</td>\n",
              "    </tr>\n",
              "    <tr>\n",
              "      <th>50.0</th>\n",
              "      <td>NaN</td>\n",
              "      <td>NaN</td>\n",
              "    </tr>\n",
              "    <tr>\n",
              "      <th>60.0</th>\n",
              "      <td>NaN</td>\n",
              "      <td>NaN</td>\n",
              "    </tr>\n",
              "    <tr>\n",
              "      <th>200.0</th>\n",
              "      <td>7.000000</td>\n",
              "      <td>36.055513</td>\n",
              "    </tr>\n",
              "    <tr>\n",
              "      <th>300.0</th>\n",
              "      <td>2.828427</td>\n",
              "      <td>35.355339</td>\n",
              "    </tr>\n",
              "    <tr>\n",
              "      <th>400.0</th>\n",
              "      <td>1.914854</td>\n",
              "      <td>100.860878</td>\n",
              "    </tr>\n",
              "    <tr>\n",
              "      <th>500.0</th>\n",
              "      <td>5.656854</td>\n",
              "      <td>293.449314</td>\n",
              "    </tr>\n",
              "    <tr>\n",
              "      <th>600.0</th>\n",
              "      <td>8.219098</td>\n",
              "      <td>80.175589</td>\n",
              "    </tr>\n",
              "    <tr>\n",
              "      <th>700.0</th>\n",
              "      <td>NaN</td>\n",
              "      <td>NaN</td>\n",
              "    </tr>\n",
              "    <tr>\n",
              "      <th>800.0</th>\n",
              "      <td>12.425780</td>\n",
              "      <td>33.146141</td>\n",
              "    </tr>\n",
              "    <tr>\n",
              "      <th>900.0</th>\n",
              "      <td>NaN</td>\n",
              "      <td>NaN</td>\n",
              "    </tr>\n",
              "  </tbody>\n",
              "</table>\n",
              "</div>"
            ],
            "text/plain": [
              "          Damage  Bullet Speed\n",
              "Range                         \n",
              "25.0   84.196199     45.184806\n",
              "50.0         NaN           NaN\n",
              "60.0         NaN           NaN\n",
              "200.0   7.000000     36.055513\n",
              "300.0   2.828427     35.355339\n",
              "400.0   1.914854    100.860878\n",
              "500.0   5.656854    293.449314\n",
              "600.0   8.219098     80.175589\n",
              "700.0        NaN           NaN\n",
              "800.0  12.425780     33.146141\n",
              "900.0        NaN           NaN"
            ]
          },
          "metadata": {
            "tags": []
          },
          "execution_count": 56
        }
      ]
    },
    {
      "cell_type": "markdown",
      "metadata": {
        "id": "8ykENynwnsIE"
      },
      "source": [
        "***6) var()***\n",
        "\n",
        "The aggregating function var() computes variance, an estimate of variability, for each column per group."
      ]
    },
    {
      "cell_type": "code",
      "metadata": {
        "colab": {
          "base_uri": "https://localhost:8080/",
          "height": 418
        },
        "id": "s43LvnHJnu24",
        "outputId": "1f9c59e0-ebc0-4b55-f204-49c62e52fdb7"
      },
      "source": [
        "weapon_df.groupby(\"Range\").var()"
      ],
      "execution_count": null,
      "outputs": [
        {
          "output_type": "execute_result",
          "data": {
            "text/html": [
              "<div>\n",
              "<style scoped>\n",
              "    .dataframe tbody tr th:only-of-type {\n",
              "        vertical-align: middle;\n",
              "    }\n",
              "\n",
              "    .dataframe tbody tr th {\n",
              "        vertical-align: top;\n",
              "    }\n",
              "\n",
              "    .dataframe thead th {\n",
              "        text-align: right;\n",
              "    }\n",
              "</style>\n",
              "<table border=\"1\" class=\"dataframe\">\n",
              "  <thead>\n",
              "    <tr style=\"text-align: right;\">\n",
              "      <th></th>\n",
              "      <th>Damage</th>\n",
              "      <th>Bullet Speed</th>\n",
              "    </tr>\n",
              "    <tr>\n",
              "      <th>Range</th>\n",
              "      <th></th>\n",
              "      <th></th>\n",
              "    </tr>\n",
              "  </thead>\n",
              "  <tbody>\n",
              "    <tr>\n",
              "      <th>25.0</th>\n",
              "      <td>7089.000000</td>\n",
              "      <td>2041.666667</td>\n",
              "    </tr>\n",
              "    <tr>\n",
              "      <th>50.0</th>\n",
              "      <td>NaN</td>\n",
              "      <td>NaN</td>\n",
              "    </tr>\n",
              "    <tr>\n",
              "      <th>60.0</th>\n",
              "      <td>NaN</td>\n",
              "      <td>NaN</td>\n",
              "    </tr>\n",
              "    <tr>\n",
              "      <th>200.0</th>\n",
              "      <td>49.000000</td>\n",
              "      <td>1300.000000</td>\n",
              "    </tr>\n",
              "    <tr>\n",
              "      <th>300.0</th>\n",
              "      <td>8.000000</td>\n",
              "      <td>1250.000000</td>\n",
              "    </tr>\n",
              "    <tr>\n",
              "      <th>400.0</th>\n",
              "      <td>3.666667</td>\n",
              "      <td>10172.916667</td>\n",
              "    </tr>\n",
              "    <tr>\n",
              "      <th>500.0</th>\n",
              "      <td>32.000000</td>\n",
              "      <td>86112.500000</td>\n",
              "    </tr>\n",
              "    <tr>\n",
              "      <th>600.0</th>\n",
              "      <td>67.553571</td>\n",
              "      <td>6428.125000</td>\n",
              "    </tr>\n",
              "    <tr>\n",
              "      <th>700.0</th>\n",
              "      <td>NaN</td>\n",
              "      <td>NaN</td>\n",
              "    </tr>\n",
              "    <tr>\n",
              "      <th>800.0</th>\n",
              "      <td>154.400000</td>\n",
              "      <td>1098.666667</td>\n",
              "    </tr>\n",
              "    <tr>\n",
              "      <th>900.0</th>\n",
              "      <td>NaN</td>\n",
              "      <td>NaN</td>\n",
              "    </tr>\n",
              "  </tbody>\n",
              "</table>\n",
              "</div>"
            ],
            "text/plain": [
              "            Damage  Bullet Speed\n",
              "Range                           \n",
              "25.0   7089.000000   2041.666667\n",
              "50.0           NaN           NaN\n",
              "60.0           NaN           NaN\n",
              "200.0    49.000000   1300.000000\n",
              "300.0     8.000000   1250.000000\n",
              "400.0     3.666667  10172.916667\n",
              "500.0    32.000000  86112.500000\n",
              "600.0    67.553571   6428.125000\n",
              "700.0          NaN           NaN\n",
              "800.0   154.400000   1098.666667\n",
              "900.0          NaN           NaN"
            ]
          },
          "metadata": {
            "tags": []
          },
          "execution_count": 57
        }
      ]
    },
    {
      "cell_type": "markdown",
      "metadata": {
        "id": "wsI7LFvxn6W7"
      },
      "source": [
        "***7) describe()***\n",
        "\n",
        "The aggregating function describe() computes a quick summary of values per group. It computes the number of values, mean, std, the minimum value, maximum value and value at multiple percentiles."
      ]
    },
    {
      "cell_type": "code",
      "metadata": {
        "colab": {
          "base_uri": "https://localhost:8080/",
          "height": 450
        },
        "id": "8H4ftPI5n9cH",
        "outputId": "bbabbc3e-6c0c-4fd4-da18-87de6df4d42d"
      },
      "source": [
        "weapon_df.groupby(\"Range\").describe()"
      ],
      "execution_count": null,
      "outputs": [
        {
          "output_type": "execute_result",
          "data": {
            "text/html": [
              "<div>\n",
              "<style scoped>\n",
              "    .dataframe tbody tr th:only-of-type {\n",
              "        vertical-align: middle;\n",
              "    }\n",
              "\n",
              "    .dataframe tbody tr th {\n",
              "        vertical-align: top;\n",
              "    }\n",
              "\n",
              "    .dataframe thead tr th {\n",
              "        text-align: left;\n",
              "    }\n",
              "\n",
              "    .dataframe thead tr:last-of-type th {\n",
              "        text-align: right;\n",
              "    }\n",
              "</style>\n",
              "<table border=\"1\" class=\"dataframe\">\n",
              "  <thead>\n",
              "    <tr>\n",
              "      <th></th>\n",
              "      <th colspan=\"8\" halign=\"left\">Damage</th>\n",
              "      <th colspan=\"8\" halign=\"left\">Bullet Speed</th>\n",
              "    </tr>\n",
              "    <tr>\n",
              "      <th></th>\n",
              "      <th>count</th>\n",
              "      <th>mean</th>\n",
              "      <th>std</th>\n",
              "      <th>min</th>\n",
              "      <th>25%</th>\n",
              "      <th>50%</th>\n",
              "      <th>75%</th>\n",
              "      <th>max</th>\n",
              "      <th>count</th>\n",
              "      <th>mean</th>\n",
              "      <th>std</th>\n",
              "      <th>min</th>\n",
              "      <th>25%</th>\n",
              "      <th>50%</th>\n",
              "      <th>75%</th>\n",
              "      <th>max</th>\n",
              "    </tr>\n",
              "    <tr>\n",
              "      <th>Range</th>\n",
              "      <th></th>\n",
              "      <th></th>\n",
              "      <th></th>\n",
              "      <th></th>\n",
              "      <th></th>\n",
              "      <th></th>\n",
              "      <th></th>\n",
              "      <th></th>\n",
              "      <th></th>\n",
              "      <th></th>\n",
              "      <th></th>\n",
              "      <th></th>\n",
              "      <th></th>\n",
              "      <th></th>\n",
              "      <th></th>\n",
              "      <th></th>\n",
              "    </tr>\n",
              "  </thead>\n",
              "  <tbody>\n",
              "    <tr>\n",
              "      <th>25.0</th>\n",
              "      <td>9.0</td>\n",
              "      <td>111.000</td>\n",
              "      <td>84.196199</td>\n",
              "      <td>23.0</td>\n",
              "      <td>41.00</td>\n",
              "      <td>55.0</td>\n",
              "      <td>198.0</td>\n",
              "      <td>216.0</td>\n",
              "      <td>7.0</td>\n",
              "      <td>345.000000</td>\n",
              "      <td>45.184806</td>\n",
              "      <td>250.0</td>\n",
              "      <td>340.00</td>\n",
              "      <td>360.0</td>\n",
              "      <td>372.50</td>\n",
              "      <td>380.0</td>\n",
              "    </tr>\n",
              "    <tr>\n",
              "      <th>50.0</th>\n",
              "      <td>1.0</td>\n",
              "      <td>31.000</td>\n",
              "      <td>NaN</td>\n",
              "      <td>31.0</td>\n",
              "      <td>31.00</td>\n",
              "      <td>31.0</td>\n",
              "      <td>31.0</td>\n",
              "      <td>31.0</td>\n",
              "      <td>1.0</td>\n",
              "      <td>300.000000</td>\n",
              "      <td>NaN</td>\n",
              "      <td>300.0</td>\n",
              "      <td>300.00</td>\n",
              "      <td>300.0</td>\n",
              "      <td>300.00</td>\n",
              "      <td>300.0</td>\n",
              "    </tr>\n",
              "    <tr>\n",
              "      <th>60.0</th>\n",
              "      <td>1.0</td>\n",
              "      <td>22.000</td>\n",
              "      <td>NaN</td>\n",
              "      <td>22.0</td>\n",
              "      <td>22.00</td>\n",
              "      <td>22.0</td>\n",
              "      <td>22.0</td>\n",
              "      <td>22.0</td>\n",
              "      <td>1.0</td>\n",
              "      <td>400.000000</td>\n",
              "      <td>NaN</td>\n",
              "      <td>400.0</td>\n",
              "      <td>400.00</td>\n",
              "      <td>400.0</td>\n",
              "      <td>400.00</td>\n",
              "      <td>400.0</td>\n",
              "    </tr>\n",
              "    <tr>\n",
              "      <th>200.0</th>\n",
              "      <td>3.0</td>\n",
              "      <td>33.000</td>\n",
              "      <td>7.000000</td>\n",
              "      <td>26.0</td>\n",
              "      <td>29.50</td>\n",
              "      <td>33.0</td>\n",
              "      <td>36.5</td>\n",
              "      <td>40.0</td>\n",
              "      <td>3.0</td>\n",
              "      <td>320.000000</td>\n",
              "      <td>36.055513</td>\n",
              "      <td>280.0</td>\n",
              "      <td>305.00</td>\n",
              "      <td>330.0</td>\n",
              "      <td>340.00</td>\n",
              "      <td>350.0</td>\n",
              "    </tr>\n",
              "    <tr>\n",
              "      <th>300.0</th>\n",
              "      <td>2.0</td>\n",
              "      <td>37.000</td>\n",
              "      <td>2.828427</td>\n",
              "      <td>35.0</td>\n",
              "      <td>36.00</td>\n",
              "      <td>37.0</td>\n",
              "      <td>38.0</td>\n",
              "      <td>39.0</td>\n",
              "      <td>2.0</td>\n",
              "      <td>275.000000</td>\n",
              "      <td>35.355339</td>\n",
              "      <td>250.0</td>\n",
              "      <td>262.50</td>\n",
              "      <td>275.0</td>\n",
              "      <td>287.50</td>\n",
              "      <td>300.0</td>\n",
              "    </tr>\n",
              "    <tr>\n",
              "      <th>400.0</th>\n",
              "      <td>4.0</td>\n",
              "      <td>47.500</td>\n",
              "      <td>1.914854</td>\n",
              "      <td>45.0</td>\n",
              "      <td>46.50</td>\n",
              "      <td>48.0</td>\n",
              "      <td>49.0</td>\n",
              "      <td>49.0</td>\n",
              "      <td>4.0</td>\n",
              "      <td>763.750000</td>\n",
              "      <td>100.860878</td>\n",
              "      <td>710.0</td>\n",
              "      <td>713.75</td>\n",
              "      <td>715.0</td>\n",
              "      <td>765.00</td>\n",
              "      <td>915.0</td>\n",
              "    </tr>\n",
              "    <tr>\n",
              "      <th>500.0</th>\n",
              "      <td>2.0</td>\n",
              "      <td>45.000</td>\n",
              "      <td>5.656854</td>\n",
              "      <td>41.0</td>\n",
              "      <td>43.00</td>\n",
              "      <td>45.0</td>\n",
              "      <td>47.0</td>\n",
              "      <td>49.0</td>\n",
              "      <td>2.0</td>\n",
              "      <td>507.500000</td>\n",
              "      <td>293.449314</td>\n",
              "      <td>300.0</td>\n",
              "      <td>403.75</td>\n",
              "      <td>507.5</td>\n",
              "      <td>611.25</td>\n",
              "      <td>715.0</td>\n",
              "    </tr>\n",
              "    <tr>\n",
              "      <th>600.0</th>\n",
              "      <td>8.0</td>\n",
              "      <td>46.875</td>\n",
              "      <td>8.219098</td>\n",
              "      <td>43.0</td>\n",
              "      <td>43.00</td>\n",
              "      <td>43.0</td>\n",
              "      <td>45.0</td>\n",
              "      <td>66.0</td>\n",
              "      <td>8.0</td>\n",
              "      <td>841.875000</td>\n",
              "      <td>80.175589</td>\n",
              "      <td>710.0</td>\n",
              "      <td>838.75</td>\n",
              "      <td>880.0</td>\n",
              "      <td>882.50</td>\n",
              "      <td>900.0</td>\n",
              "    </tr>\n",
              "    <tr>\n",
              "      <th>700.0</th>\n",
              "      <td>1.0</td>\n",
              "      <td>46.000</td>\n",
              "      <td>NaN</td>\n",
              "      <td>46.0</td>\n",
              "      <td>46.00</td>\n",
              "      <td>46.0</td>\n",
              "      <td>46.0</td>\n",
              "      <td>46.0</td>\n",
              "      <td>1.0</td>\n",
              "      <td>990.000000</td>\n",
              "      <td>NaN</td>\n",
              "      <td>990.0</td>\n",
              "      <td>990.00</td>\n",
              "      <td>990.0</td>\n",
              "      <td>990.00</td>\n",
              "      <td>990.0</td>\n",
              "    </tr>\n",
              "    <tr>\n",
              "      <th>800.0</th>\n",
              "      <td>6.0</td>\n",
              "      <td>62.000</td>\n",
              "      <td>12.425780</td>\n",
              "      <td>48.0</td>\n",
              "      <td>53.75</td>\n",
              "      <td>58.5</td>\n",
              "      <td>71.5</td>\n",
              "      <td>79.0</td>\n",
              "      <td>6.0</td>\n",
              "      <td>806.333333</td>\n",
              "      <td>33.146141</td>\n",
              "      <td>760.0</td>\n",
              "      <td>792.50</td>\n",
              "      <td>800.0</td>\n",
              "      <td>826.25</td>\n",
              "      <td>853.0</td>\n",
              "    </tr>\n",
              "    <tr>\n",
              "      <th>900.0</th>\n",
              "      <td>1.0</td>\n",
              "      <td>105.000</td>\n",
              "      <td>NaN</td>\n",
              "      <td>105.0</td>\n",
              "      <td>105.00</td>\n",
              "      <td>105.0</td>\n",
              "      <td>105.0</td>\n",
              "      <td>105.0</td>\n",
              "      <td>1.0</td>\n",
              "      <td>910.000000</td>\n",
              "      <td>NaN</td>\n",
              "      <td>910.0</td>\n",
              "      <td>910.00</td>\n",
              "      <td>910.0</td>\n",
              "      <td>910.00</td>\n",
              "      <td>910.0</td>\n",
              "    </tr>\n",
              "  </tbody>\n",
              "</table>\n",
              "</div>"
            ],
            "text/plain": [
              "      Damage                             ... Bullet Speed                      \n",
              "       count     mean        std    min  ...          25%    50%     75%    max\n",
              "Range                                    ...                                   \n",
              "25.0     9.0  111.000  84.196199   23.0  ...       340.00  360.0  372.50  380.0\n",
              "50.0     1.0   31.000        NaN   31.0  ...       300.00  300.0  300.00  300.0\n",
              "60.0     1.0   22.000        NaN   22.0  ...       400.00  400.0  400.00  400.0\n",
              "200.0    3.0   33.000   7.000000   26.0  ...       305.00  330.0  340.00  350.0\n",
              "300.0    2.0   37.000   2.828427   35.0  ...       262.50  275.0  287.50  300.0\n",
              "400.0    4.0   47.500   1.914854   45.0  ...       713.75  715.0  765.00  915.0\n",
              "500.0    2.0   45.000   5.656854   41.0  ...       403.75  507.5  611.25  715.0\n",
              "600.0    8.0   46.875   8.219098   43.0  ...       838.75  880.0  882.50  900.0\n",
              "700.0    1.0   46.000        NaN   46.0  ...       990.00  990.0  990.00  990.0\n",
              "800.0    6.0   62.000  12.425780   48.0  ...       792.50  800.0  826.25  853.0\n",
              "900.0    1.0  105.000        NaN  105.0  ...       910.00  910.0  910.00  910.0\n",
              "\n",
              "[11 rows x 16 columns]"
            ]
          },
          "metadata": {
            "tags": []
          },
          "execution_count": 58
        }
      ]
    },
    {
      "cell_type": "markdown",
      "metadata": {
        "id": "gSrwd2RDoHpo"
      },
      "source": [
        "***8) groupby :n()***\n",
        "\n",
        "The aggregating function nth(), gives nth value, in each group."
      ]
    },
    {
      "cell_type": "code",
      "metadata": {
        "colab": {
          "base_uri": "https://localhost:8080/",
          "height": 142
        },
        "id": "ISXISy8aoKrh",
        "outputId": "08111276-40d5-41b9-bfed-9344aa16d824"
      },
      "source": [
        "path='https://github.com/chinnuzz/python/raw/main/weapon_status.csv'\n",
        "weapon_df2 = pd.read_csv(path,sep = ',', header = 'infer', index_col =None, usecols =['Weapon Name','Weapon Type','Range','Damage','Bullet Speed'])\n",
        "weapon_df2.groupby(\"Weapon Type\").nth(6)"
      ],
      "execution_count": null,
      "outputs": [
        {
          "output_type": "execute_result",
          "data": {
            "text/html": [
              "<div>\n",
              "<style scoped>\n",
              "    .dataframe tbody tr th:only-of-type {\n",
              "        vertical-align: middle;\n",
              "    }\n",
              "\n",
              "    .dataframe tbody tr th {\n",
              "        vertical-align: top;\n",
              "    }\n",
              "\n",
              "    .dataframe thead th {\n",
              "        text-align: right;\n",
              "    }\n",
              "</style>\n",
              "<table border=\"1\" class=\"dataframe\">\n",
              "  <thead>\n",
              "    <tr style=\"text-align: right;\">\n",
              "      <th></th>\n",
              "      <th>Weapon Name</th>\n",
              "      <th>Damage</th>\n",
              "      <th>Range</th>\n",
              "      <th>Bullet Speed</th>\n",
              "    </tr>\n",
              "    <tr>\n",
              "      <th>Weapon Type</th>\n",
              "      <th></th>\n",
              "      <th></th>\n",
              "      <th></th>\n",
              "      <th></th>\n",
              "    </tr>\n",
              "  </thead>\n",
              "  <tbody>\n",
              "    <tr>\n",
              "      <th>Assault Rifle</th>\n",
              "      <td>M416</td>\n",
              "      <td>43</td>\n",
              "      <td>600.0</td>\n",
              "      <td>890.0</td>\n",
              "    </tr>\n",
              "    <tr>\n",
              "      <th>Pistol</th>\n",
              "      <td>Skorpion</td>\n",
              "      <td>22</td>\n",
              "      <td>60.0</td>\n",
              "      <td>400.0</td>\n",
              "    </tr>\n",
              "  </tbody>\n",
              "</table>\n",
              "</div>"
            ],
            "text/plain": [
              "              Weapon Name  Damage  Range  Bullet Speed\n",
              "Weapon Type                                           \n",
              "Assault Rifle        M416      43  600.0         890.0\n",
              "Pistol           Skorpion      22   60.0         400.0"
            ]
          },
          "metadata": {
            "tags": []
          },
          "execution_count": 59
        }
      ]
    },
    {
      "cell_type": "markdown",
      "metadata": {
        "id": "Gkv-zjBTpHk0"
      },
      "source": [
        "***9) min() and max()***\n",
        "\n",
        "min() and max() function are used to get minimum and maximum value per group respectively."
      ]
    },
    {
      "cell_type": "code",
      "metadata": {
        "colab": {
          "base_uri": "https://localhost:8080/",
          "height": 172
        },
        "id": "SoCFYCq_pNOd",
        "outputId": "0a9413cd-76f5-488b-910a-361bbffba36e"
      },
      "source": [
        "weapon_df2.groupby(\"Weapon Type\").min().head(3)"
      ],
      "execution_count": null,
      "outputs": [
        {
          "output_type": "execute_result",
          "data": {
            "text/html": [
              "<div>\n",
              "<style scoped>\n",
              "    .dataframe tbody tr th:only-of-type {\n",
              "        vertical-align: middle;\n",
              "    }\n",
              "\n",
              "    .dataframe tbody tr th {\n",
              "        vertical-align: top;\n",
              "    }\n",
              "\n",
              "    .dataframe thead th {\n",
              "        text-align: right;\n",
              "    }\n",
              "</style>\n",
              "<table border=\"1\" class=\"dataframe\">\n",
              "  <thead>\n",
              "    <tr style=\"text-align: right;\">\n",
              "      <th></th>\n",
              "      <th>Weapon Name</th>\n",
              "      <th>Damage</th>\n",
              "      <th>Range</th>\n",
              "      <th>Bullet Speed</th>\n",
              "    </tr>\n",
              "    <tr>\n",
              "      <th>Weapon Type</th>\n",
              "      <th></th>\n",
              "      <th></th>\n",
              "      <th></th>\n",
              "      <th></th>\n",
              "    </tr>\n",
              "  </thead>\n",
              "  <tbody>\n",
              "    <tr>\n",
              "      <th>Assault Rifle</th>\n",
              "      <td>AKM</td>\n",
              "      <td>43</td>\n",
              "      <td>400.0</td>\n",
              "      <td>710.0</td>\n",
              "    </tr>\n",
              "    <tr>\n",
              "      <th>Designed Marksman Rifle</th>\n",
              "      <td>MK14</td>\n",
              "      <td>41</td>\n",
              "      <td>500.0</td>\n",
              "      <td>300.0</td>\n",
              "    </tr>\n",
              "    <tr>\n",
              "      <th>Light Machine Gun</th>\n",
              "      <td>DP-28</td>\n",
              "      <td>45</td>\n",
              "      <td>400.0</td>\n",
              "      <td>715.0</td>\n",
              "    </tr>\n",
              "  </tbody>\n",
              "</table>\n",
              "</div>"
            ],
            "text/plain": [
              "                        Weapon Name  Damage  Range  Bullet Speed\n",
              "Weapon Type                                                     \n",
              "Assault Rifle                   AKM      43  400.0         710.0\n",
              "Designed Marksman Rifle        MK14      41  500.0         300.0\n",
              "Light Machine Gun             DP-28      45  400.0         715.0"
            ]
          },
          "metadata": {
            "tags": []
          },
          "execution_count": 60
        }
      ]
    },
    {
      "cell_type": "code",
      "metadata": {
        "colab": {
          "base_uri": "https://localhost:8080/",
          "height": 172
        },
        "id": "wLuXKqqgpzse",
        "outputId": "ae6c7c9b-8149-4a2c-c425-7318d798c2d1"
      },
      "source": [
        "weapon_df2.groupby(\"Weapon Type\").max().head(3)"
      ],
      "execution_count": null,
      "outputs": [
        {
          "output_type": "execute_result",
          "data": {
            "text/html": [
              "<div>\n",
              "<style scoped>\n",
              "    .dataframe tbody tr th:only-of-type {\n",
              "        vertical-align: middle;\n",
              "    }\n",
              "\n",
              "    .dataframe tbody tr th {\n",
              "        vertical-align: top;\n",
              "    }\n",
              "\n",
              "    .dataframe thead th {\n",
              "        text-align: right;\n",
              "    }\n",
              "</style>\n",
              "<table border=\"1\" class=\"dataframe\">\n",
              "  <thead>\n",
              "    <tr style=\"text-align: right;\">\n",
              "      <th></th>\n",
              "      <th>Weapon Name</th>\n",
              "      <th>Damage</th>\n",
              "      <th>Range</th>\n",
              "      <th>Bullet Speed</th>\n",
              "    </tr>\n",
              "    <tr>\n",
              "      <th>Weapon Type</th>\n",
              "      <th></th>\n",
              "      <th></th>\n",
              "      <th></th>\n",
              "      <th></th>\n",
              "    </tr>\n",
              "  </thead>\n",
              "  <tbody>\n",
              "    <tr>\n",
              "      <th>Assault Rifle</th>\n",
              "      <td>SCAR-L</td>\n",
              "      <td>49</td>\n",
              "      <td>600.0</td>\n",
              "      <td>900.0</td>\n",
              "    </tr>\n",
              "    <tr>\n",
              "      <th>Designed Marksman Rifle</th>\n",
              "      <td>VSS</td>\n",
              "      <td>61</td>\n",
              "      <td>800.0</td>\n",
              "      <td>990.0</td>\n",
              "    </tr>\n",
              "    <tr>\n",
              "      <th>Light Machine Gun</th>\n",
              "      <td>M249</td>\n",
              "      <td>51</td>\n",
              "      <td>600.0</td>\n",
              "      <td>915.0</td>\n",
              "    </tr>\n",
              "  </tbody>\n",
              "</table>\n",
              "</div>"
            ],
            "text/plain": [
              "                        Weapon Name  Damage  Range  Bullet Speed\n",
              "Weapon Type                                                     \n",
              "Assault Rifle                SCAR-L      49  600.0         900.0\n",
              "Designed Marksman Rifle         VSS      61  800.0         990.0\n",
              "Light Machine Gun              M249      51  600.0         915.0"
            ]
          },
          "metadata": {
            "tags": []
          },
          "execution_count": 61
        }
      ]
    },
    {
      "cell_type": "markdown",
      "metadata": {
        "id": "8rNI8dy6p-E8"
      },
      "source": [
        "## **7. APPENDING ROWS AND COLUMNS TO THE DATA FRAME**"
      ]
    },
    {
      "cell_type": "markdown",
      "metadata": {
        "id": "jVhU4Uz6qbzr"
      },
      "source": [
        "\n",
        "dataframe.append() function is used to append rows of other dataframe to the end of the given dataframe, returning a new dataframe object. Columns not in the original dataframes are added as new columns and the new cells are populated with NaN value.\n",
        "\n",
        "***1) appending one dataframe to another***"
      ]
    },
    {
      "cell_type": "code",
      "metadata": {
        "colab": {
          "base_uri": "https://localhost:8080/",
          "height": 142
        },
        "id": "g12KviMoqmZr",
        "outputId": "5e82d068-fb0d-4b24-9029-e18799536d9e"
      },
      "source": [
        "# Creating the first Dataframe using dictionary\n",
        "import pandas as pd\n",
        "\n",
        "df1 = pd.DataFrame({'Building': [\"Georgopol\",\"Mylta\",\"Novorepnoye\"], \n",
        "        'Roomno': [8662,7392,1529],\n",
        "        'Capacity': [150,100,70]\n",
        "       })\n",
        "# Creating the Second Dataframe using dictionary\n",
        "\n",
        "df2 = pd.DataFrame({'Building': [\"Pochinki\",\"Primorsk\",\"Severny\"], \n",
        "        'Roomno': [8604,4844,5231],\n",
        "        'Capacity': [200,50,130]\n",
        "       })\n",
        "## to append df2 at the end of df1 dataframe\n",
        "df1.append(df2)\n",
        "df1"
      ],
      "execution_count": null,
      "outputs": [
        {
          "output_type": "execute_result",
          "data": {
            "text/html": [
              "<div>\n",
              "<style scoped>\n",
              "    .dataframe tbody tr th:only-of-type {\n",
              "        vertical-align: middle;\n",
              "    }\n",
              "\n",
              "    .dataframe tbody tr th {\n",
              "        vertical-align: top;\n",
              "    }\n",
              "\n",
              "    .dataframe thead th {\n",
              "        text-align: right;\n",
              "    }\n",
              "</style>\n",
              "<table border=\"1\" class=\"dataframe\">\n",
              "  <thead>\n",
              "    <tr style=\"text-align: right;\">\n",
              "      <th></th>\n",
              "      <th>Building</th>\n",
              "      <th>Roomno</th>\n",
              "      <th>Capacity</th>\n",
              "    </tr>\n",
              "  </thead>\n",
              "  <tbody>\n",
              "    <tr>\n",
              "      <th>0</th>\n",
              "      <td>Georgopol</td>\n",
              "      <td>8662</td>\n",
              "      <td>150</td>\n",
              "    </tr>\n",
              "    <tr>\n",
              "      <th>1</th>\n",
              "      <td>Mylta</td>\n",
              "      <td>7392</td>\n",
              "      <td>100</td>\n",
              "    </tr>\n",
              "    <tr>\n",
              "      <th>2</th>\n",
              "      <td>Novorepnoye</td>\n",
              "      <td>1529</td>\n",
              "      <td>70</td>\n",
              "    </tr>\n",
              "  </tbody>\n",
              "</table>\n",
              "</div>"
            ],
            "text/plain": [
              "      Building  Roomno  Capacity\n",
              "0    Georgopol    8662       150\n",
              "1        Mylta    7392       100\n",
              "2  Novorepnoye    1529        70"
            ]
          },
          "metadata": {
            "tags": []
          },
          "execution_count": 63
        }
      ]
    },
    {
      "cell_type": "markdown",
      "metadata": {
        "id": "hERcuK4psTlf"
      },
      "source": [
        "***2) appending one dataframe to another with index value ignored***"
      ]
    },
    {
      "cell_type": "code",
      "metadata": {
        "colab": {
          "base_uri": "https://localhost:8080/",
          "height": 142
        },
        "id": "lythjTYHsaI6",
        "outputId": "28b46c47-f41f-4c1c-c6c4-b54ace6370e8"
      },
      "source": [
        "df1.append(df2, ignore_index = True)\n",
        "df1"
      ],
      "execution_count": null,
      "outputs": [
        {
          "output_type": "execute_result",
          "data": {
            "text/html": [
              "<div>\n",
              "<style scoped>\n",
              "    .dataframe tbody tr th:only-of-type {\n",
              "        vertical-align: middle;\n",
              "    }\n",
              "\n",
              "    .dataframe tbody tr th {\n",
              "        vertical-align: top;\n",
              "    }\n",
              "\n",
              "    .dataframe thead th {\n",
              "        text-align: right;\n",
              "    }\n",
              "</style>\n",
              "<table border=\"1\" class=\"dataframe\">\n",
              "  <thead>\n",
              "    <tr style=\"text-align: right;\">\n",
              "      <th></th>\n",
              "      <th>Building</th>\n",
              "      <th>Roomno</th>\n",
              "      <th>Capacity</th>\n",
              "    </tr>\n",
              "  </thead>\n",
              "  <tbody>\n",
              "    <tr>\n",
              "      <th>0</th>\n",
              "      <td>Georgopol</td>\n",
              "      <td>8662</td>\n",
              "      <td>150</td>\n",
              "    </tr>\n",
              "    <tr>\n",
              "      <th>1</th>\n",
              "      <td>Mylta</td>\n",
              "      <td>7392</td>\n",
              "      <td>100</td>\n",
              "    </tr>\n",
              "    <tr>\n",
              "      <th>2</th>\n",
              "      <td>Novorepnoye</td>\n",
              "      <td>1529</td>\n",
              "      <td>70</td>\n",
              "    </tr>\n",
              "  </tbody>\n",
              "</table>\n",
              "</div>"
            ],
            "text/plain": [
              "      Building  Roomno  Capacity\n",
              "0    Georgopol    8662       150\n",
              "1        Mylta    7392       100\n",
              "2  Novorepnoye    1529        70"
            ]
          },
          "metadata": {
            "tags": []
          },
          "execution_count": 64
        }
      ]
    },
    {
      "cell_type": "markdown",
      "metadata": {
        "id": "63g5o25ts2x1"
      },
      "source": [
        "***3) Append dataframe of different shape***"
      ]
    },
    {
      "cell_type": "code",
      "metadata": {
        "colab": {
          "base_uri": "https://localhost:8080/",
          "height": 234
        },
        "id": "1opdBpBcs90L",
        "outputId": "1daf89a1-464a-4297-a2cf-770432bfb40e"
      },
      "source": [
        "left = pd.DataFrame({'id':[1,2,3],\n",
        "        'Building': [\"Georgopol\",\"Mylta\",\"Novorepnoye\"], \n",
        "        'Roomno': [866,732,129]})\n",
        "right = pd.DataFrame({'id':[1,2,3],\n",
        "        'Name':['Mortal','Kaztro','Viper'],\n",
        "        'pId':[6729,5719,6911]})\n",
        "left.append(right, ignore_index = True)\n",
        "# the new cells are populated with NaN values."
      ],
      "execution_count": null,
      "outputs": [
        {
          "output_type": "execute_result",
          "data": {
            "text/html": [
              "<div>\n",
              "<style scoped>\n",
              "    .dataframe tbody tr th:only-of-type {\n",
              "        vertical-align: middle;\n",
              "    }\n",
              "\n",
              "    .dataframe tbody tr th {\n",
              "        vertical-align: top;\n",
              "    }\n",
              "\n",
              "    .dataframe thead th {\n",
              "        text-align: right;\n",
              "    }\n",
              "</style>\n",
              "<table border=\"1\" class=\"dataframe\">\n",
              "  <thead>\n",
              "    <tr style=\"text-align: right;\">\n",
              "      <th></th>\n",
              "      <th>id</th>\n",
              "      <th>Building</th>\n",
              "      <th>Roomno</th>\n",
              "      <th>Name</th>\n",
              "      <th>pId</th>\n",
              "    </tr>\n",
              "  </thead>\n",
              "  <tbody>\n",
              "    <tr>\n",
              "      <th>0</th>\n",
              "      <td>1</td>\n",
              "      <td>Georgopol</td>\n",
              "      <td>866.0</td>\n",
              "      <td>NaN</td>\n",
              "      <td>NaN</td>\n",
              "    </tr>\n",
              "    <tr>\n",
              "      <th>1</th>\n",
              "      <td>2</td>\n",
              "      <td>Mylta</td>\n",
              "      <td>732.0</td>\n",
              "      <td>NaN</td>\n",
              "      <td>NaN</td>\n",
              "    </tr>\n",
              "    <tr>\n",
              "      <th>2</th>\n",
              "      <td>3</td>\n",
              "      <td>Novorepnoye</td>\n",
              "      <td>129.0</td>\n",
              "      <td>NaN</td>\n",
              "      <td>NaN</td>\n",
              "    </tr>\n",
              "    <tr>\n",
              "      <th>3</th>\n",
              "      <td>1</td>\n",
              "      <td>NaN</td>\n",
              "      <td>NaN</td>\n",
              "      <td>Mortal</td>\n",
              "      <td>6729.0</td>\n",
              "    </tr>\n",
              "    <tr>\n",
              "      <th>4</th>\n",
              "      <td>2</td>\n",
              "      <td>NaN</td>\n",
              "      <td>NaN</td>\n",
              "      <td>Kaztro</td>\n",
              "      <td>5719.0</td>\n",
              "    </tr>\n",
              "    <tr>\n",
              "      <th>5</th>\n",
              "      <td>3</td>\n",
              "      <td>NaN</td>\n",
              "      <td>NaN</td>\n",
              "      <td>Viper</td>\n",
              "      <td>6911.0</td>\n",
              "    </tr>\n",
              "  </tbody>\n",
              "</table>\n",
              "</div>"
            ],
            "text/plain": [
              "   id     Building  Roomno    Name     pId\n",
              "0   1    Georgopol   866.0     NaN     NaN\n",
              "1   2        Mylta   732.0     NaN     NaN\n",
              "2   3  Novorepnoye   129.0     NaN     NaN\n",
              "3   1          NaN     NaN  Mortal  6729.0\n",
              "4   2          NaN     NaN  Kaztro  5719.0\n",
              "5   3          NaN     NaN   Viper  6911.0"
            ]
          },
          "metadata": {
            "tags": []
          },
          "execution_count": 65
        }
      ]
    },
    {
      "cell_type": "markdown",
      "metadata": {
        "id": "exOHPH2qt1ka"
      },
      "source": [
        "***4) Add a single row using DataFrame.loc***"
      ]
    },
    {
      "cell_type": "code",
      "metadata": {
        "colab": {
          "base_uri": "https://localhost:8080/",
          "height": 172
        },
        "id": "N4S_pUW4t4Su",
        "outputId": "b5a413a8-841f-4a3e-de30-f35d66dfbd22"
      },
      "source": [
        "import pandas as pd\n",
        "from numpy.random import randint\n",
        "dict = {'Building': [\"Georgopol\",\"Mylta\",\"Novorepnoye\"], \n",
        "        'Roomno': [866,732,129]}\n",
        "df = pd.DataFrame(dict)\n",
        "df.loc[len(df.index)] = ['Severny',238] \n",
        "display(df)"
      ],
      "execution_count": null,
      "outputs": [
        {
          "output_type": "display_data",
          "data": {
            "text/html": [
              "<div>\n",
              "<style scoped>\n",
              "    .dataframe tbody tr th:only-of-type {\n",
              "        vertical-align: middle;\n",
              "    }\n",
              "\n",
              "    .dataframe tbody tr th {\n",
              "        vertical-align: top;\n",
              "    }\n",
              "\n",
              "    .dataframe thead th {\n",
              "        text-align: right;\n",
              "    }\n",
              "</style>\n",
              "<table border=\"1\" class=\"dataframe\">\n",
              "  <thead>\n",
              "    <tr style=\"text-align: right;\">\n",
              "      <th></th>\n",
              "      <th>Building</th>\n",
              "      <th>Roomno</th>\n",
              "    </tr>\n",
              "  </thead>\n",
              "  <tbody>\n",
              "    <tr>\n",
              "      <th>0</th>\n",
              "      <td>Georgopol</td>\n",
              "      <td>866</td>\n",
              "    </tr>\n",
              "    <tr>\n",
              "      <th>1</th>\n",
              "      <td>Mylta</td>\n",
              "      <td>732</td>\n",
              "    </tr>\n",
              "    <tr>\n",
              "      <th>2</th>\n",
              "      <td>Novorepnoye</td>\n",
              "      <td>129</td>\n",
              "    </tr>\n",
              "    <tr>\n",
              "      <th>3</th>\n",
              "      <td>Severny</td>\n",
              "      <td>238</td>\n",
              "    </tr>\n",
              "  </tbody>\n",
              "</table>\n",
              "</div>"
            ],
            "text/plain": [
              "      Building  Roomno\n",
              "0    Georgopol     866\n",
              "1        Mylta     732\n",
              "2  Novorepnoye     129\n",
              "3      Severny     238"
            ]
          },
          "metadata": {
            "tags": []
          }
        }
      ]
    },
    {
      "cell_type": "markdown",
      "metadata": {
        "id": "vTvmwSEguo2O"
      },
      "source": [
        "***5) Adding new column to existing DataFrame  by declaring a new list as a column***"
      ]
    },
    {
      "cell_type": "code",
      "metadata": {
        "colab": {
          "base_uri": "https://localhost:8080/",
          "height": 142
        },
        "id": "6EjRZJBlusQg",
        "outputId": "e44e3fbf-58b3-4861-dab4-c91fb89d31e2"
      },
      "source": [
        "import pandas as pd\n",
        "# Define a dictionary \n",
        "dict = {'Building': [\"Georgopol\",\"Mylta\",\"Novorepnoye\"], \n",
        "        'Roomno': [866,732,129]}\n",
        "# Convert the dictionary into DataFrame\n",
        "df = pd.DataFrame(dict)\n",
        "# Declare a list that is to be converted into a column\n",
        "Name= ['Mortal','Kaztro','Viper']\n",
        "# Using 'Address' as the column name and equating it to the list\n",
        "df['Name'] = Name\n",
        "df"
      ],
      "execution_count": null,
      "outputs": [
        {
          "output_type": "execute_result",
          "data": {
            "text/html": [
              "<div>\n",
              "<style scoped>\n",
              "    .dataframe tbody tr th:only-of-type {\n",
              "        vertical-align: middle;\n",
              "    }\n",
              "\n",
              "    .dataframe tbody tr th {\n",
              "        vertical-align: top;\n",
              "    }\n",
              "\n",
              "    .dataframe thead th {\n",
              "        text-align: right;\n",
              "    }\n",
              "</style>\n",
              "<table border=\"1\" class=\"dataframe\">\n",
              "  <thead>\n",
              "    <tr style=\"text-align: right;\">\n",
              "      <th></th>\n",
              "      <th>Building</th>\n",
              "      <th>Roomno</th>\n",
              "      <th>Name</th>\n",
              "    </tr>\n",
              "  </thead>\n",
              "  <tbody>\n",
              "    <tr>\n",
              "      <th>0</th>\n",
              "      <td>Georgopol</td>\n",
              "      <td>866</td>\n",
              "      <td>Mortal</td>\n",
              "    </tr>\n",
              "    <tr>\n",
              "      <th>1</th>\n",
              "      <td>Mylta</td>\n",
              "      <td>732</td>\n",
              "      <td>Kaztro</td>\n",
              "    </tr>\n",
              "    <tr>\n",
              "      <th>2</th>\n",
              "      <td>Novorepnoye</td>\n",
              "      <td>129</td>\n",
              "      <td>Viper</td>\n",
              "    </tr>\n",
              "  </tbody>\n",
              "</table>\n",
              "</div>"
            ],
            "text/plain": [
              "      Building  Roomno    Name\n",
              "0    Georgopol     866  Mortal\n",
              "1        Mylta     732  Kaztro\n",
              "2  Novorepnoye     129   Viper"
            ]
          },
          "metadata": {
            "tags": []
          },
          "execution_count": 67
        }
      ]
    },
    {
      "cell_type": "markdown",
      "metadata": {
        "id": "oPNLAqzfv4MO"
      },
      "source": [
        "***6) Adding new column to existing DataFrame using DataFrame.insert()***\n",
        "\n",
        "It gives the freedom to add a column at any position we like and not just at the end. It also provides different options for inserting the column values"
      ]
    },
    {
      "cell_type": "code",
      "metadata": {
        "colab": {
          "base_uri": "https://localhost:8080/",
          "height": 142
        },
        "id": "CRixQd_kv-wI",
        "outputId": "0aeb1d46-41e6-401d-e04c-158021c47da2"
      },
      "source": [
        "df.insert(2, \"Rating\", ['G','G','PG'], True)\n",
        "df"
      ],
      "execution_count": null,
      "outputs": [
        {
          "output_type": "execute_result",
          "data": {
            "text/html": [
              "<div>\n",
              "<style scoped>\n",
              "    .dataframe tbody tr th:only-of-type {\n",
              "        vertical-align: middle;\n",
              "    }\n",
              "\n",
              "    .dataframe tbody tr th {\n",
              "        vertical-align: top;\n",
              "    }\n",
              "\n",
              "    .dataframe thead th {\n",
              "        text-align: right;\n",
              "    }\n",
              "</style>\n",
              "<table border=\"1\" class=\"dataframe\">\n",
              "  <thead>\n",
              "    <tr style=\"text-align: right;\">\n",
              "      <th></th>\n",
              "      <th>Building</th>\n",
              "      <th>Roomno</th>\n",
              "      <th>Rating</th>\n",
              "      <th>Name</th>\n",
              "    </tr>\n",
              "  </thead>\n",
              "  <tbody>\n",
              "    <tr>\n",
              "      <th>0</th>\n",
              "      <td>Georgopol</td>\n",
              "      <td>866</td>\n",
              "      <td>G</td>\n",
              "      <td>Mortal</td>\n",
              "    </tr>\n",
              "    <tr>\n",
              "      <th>1</th>\n",
              "      <td>Mylta</td>\n",
              "      <td>732</td>\n",
              "      <td>G</td>\n",
              "      <td>Kaztro</td>\n",
              "    </tr>\n",
              "    <tr>\n",
              "      <th>2</th>\n",
              "      <td>Novorepnoye</td>\n",
              "      <td>129</td>\n",
              "      <td>PG</td>\n",
              "      <td>Viper</td>\n",
              "    </tr>\n",
              "  </tbody>\n",
              "</table>\n",
              "</div>"
            ],
            "text/plain": [
              "      Building  Roomno Rating    Name\n",
              "0    Georgopol     866      G  Mortal\n",
              "1        Mylta     732      G  Kaztro\n",
              "2  Novorepnoye     129     PG   Viper"
            ]
          },
          "metadata": {
            "tags": []
          },
          "execution_count": 68
        }
      ]
    },
    {
      "cell_type": "markdown",
      "metadata": {
        "id": "OeiPJgOEwlo8"
      },
      "source": [
        "***6)  Adding new column to existing DataFrame using  Dataframe.assign() method***\n",
        "This method will create a new dataframe with new column added to the old dataframe."
      ]
    },
    {
      "cell_type": "code",
      "metadata": {
        "colab": {
          "base_uri": "https://localhost:8080/",
          "height": 142
        },
        "id": "zYai0KPgwrCP",
        "outputId": "2beaf80c-78b5-4a1d-b8e0-2e351ab4e4cb"
      },
      "source": [
        "\n",
        "import pandas as pd\n",
        "data = {'Building': [\"Georgopol\",\"Mylta\",\"Novorepnoye\"], \n",
        "        'Roomno': [866,732,129]}\n",
        "# Convert the dictionary into DataFrame\n",
        "df = pd.DataFrame(data)\n",
        "# Using 'Name' as the column name and equating it to the list\n",
        "df2 = df.assign(Name= ['Mortal','Kaztro','Viper'])\n",
        "# Observe the result\n",
        "df2"
      ],
      "execution_count": null,
      "outputs": [
        {
          "output_type": "execute_result",
          "data": {
            "text/html": [
              "<div>\n",
              "<style scoped>\n",
              "    .dataframe tbody tr th:only-of-type {\n",
              "        vertical-align: middle;\n",
              "    }\n",
              "\n",
              "    .dataframe tbody tr th {\n",
              "        vertical-align: top;\n",
              "    }\n",
              "\n",
              "    .dataframe thead th {\n",
              "        text-align: right;\n",
              "    }\n",
              "</style>\n",
              "<table border=\"1\" class=\"dataframe\">\n",
              "  <thead>\n",
              "    <tr style=\"text-align: right;\">\n",
              "      <th></th>\n",
              "      <th>Building</th>\n",
              "      <th>Roomno</th>\n",
              "      <th>Name</th>\n",
              "    </tr>\n",
              "  </thead>\n",
              "  <tbody>\n",
              "    <tr>\n",
              "      <th>0</th>\n",
              "      <td>Georgopol</td>\n",
              "      <td>866</td>\n",
              "      <td>Mortal</td>\n",
              "    </tr>\n",
              "    <tr>\n",
              "      <th>1</th>\n",
              "      <td>Mylta</td>\n",
              "      <td>732</td>\n",
              "      <td>Kaztro</td>\n",
              "    </tr>\n",
              "    <tr>\n",
              "      <th>2</th>\n",
              "      <td>Novorepnoye</td>\n",
              "      <td>129</td>\n",
              "      <td>Viper</td>\n",
              "    </tr>\n",
              "  </tbody>\n",
              "</table>\n",
              "</div>"
            ],
            "text/plain": [
              "      Building  Roomno    Name\n",
              "0    Georgopol     866  Mortal\n",
              "1        Mylta     732  Kaztro\n",
              "2  Novorepnoye     129   Viper"
            ]
          },
          "metadata": {
            "tags": []
          },
          "execution_count": 69
        }
      ]
    },
    {
      "cell_type": "markdown",
      "metadata": {
        "id": "-DLY2yT7xc2w"
      },
      "source": [
        "***7) Adding new column to existing DataFrame using Dictionary***\n",
        "\n",
        "We can use a Python dictionary to add a new column in pandas DataFrame. Use an existing column as the key values and their respective values will be the values for new column.\n",
        "\n"
      ]
    },
    {
      "cell_type": "code",
      "metadata": {
        "colab": {
          "base_uri": "https://localhost:8080/",
          "height": 142
        },
        "id": "S4xPj0c4xfJC",
        "outputId": "d599a9ef-751d-4bc3-c1f8-2f7fc78c369e"
      },
      "source": [
        "import pandas as pd\n",
        "data1 = {'Building': [\"Georgopol\",\"Mylta\",\"Novorepnoye\"]}\n",
        "# Define a dictionary with key values of an existing column and their respective value pairs as the # values for our new column.\n",
        "# Convert the dictionary into DataFrame\n",
        "Name= {'Mortal':'Georgopol','Kaztro':'Mylta','Viper':'Novorepnoye'}\n",
        "df = pd.DataFrame(data1)\n",
        "df['Name'] = Name\n",
        "df"
      ],
      "execution_count": null,
      "outputs": [
        {
          "output_type": "execute_result",
          "data": {
            "text/html": [
              "<div>\n",
              "<style scoped>\n",
              "    .dataframe tbody tr th:only-of-type {\n",
              "        vertical-align: middle;\n",
              "    }\n",
              "\n",
              "    .dataframe tbody tr th {\n",
              "        vertical-align: top;\n",
              "    }\n",
              "\n",
              "    .dataframe thead th {\n",
              "        text-align: right;\n",
              "    }\n",
              "</style>\n",
              "<table border=\"1\" class=\"dataframe\">\n",
              "  <thead>\n",
              "    <tr style=\"text-align: right;\">\n",
              "      <th></th>\n",
              "      <th>Building</th>\n",
              "      <th>Name</th>\n",
              "    </tr>\n",
              "  </thead>\n",
              "  <tbody>\n",
              "    <tr>\n",
              "      <th>0</th>\n",
              "      <td>Georgopol</td>\n",
              "      <td>Mortal</td>\n",
              "    </tr>\n",
              "    <tr>\n",
              "      <th>1</th>\n",
              "      <td>Mylta</td>\n",
              "      <td>Kaztro</td>\n",
              "    </tr>\n",
              "    <tr>\n",
              "      <th>2</th>\n",
              "      <td>Novorepnoye</td>\n",
              "      <td>Viper</td>\n",
              "    </tr>\n",
              "  </tbody>\n",
              "</table>\n",
              "</div>"
            ],
            "text/plain": [
              "      Building    Name\n",
              "0    Georgopol  Mortal\n",
              "1        Mylta  Kaztro\n",
              "2  Novorepnoye   Viper"
            ]
          },
          "metadata": {
            "tags": []
          },
          "execution_count": 70
        }
      ]
    },
    {
      "cell_type": "markdown",
      "metadata": {
        "id": "9RYIQ4pUy2br"
      },
      "source": [
        "## **8. PIVOTING OPERATIONS WITH DATA FRAME**"
      ]
    },
    {
      "cell_type": "markdown",
      "metadata": {
        "id": "LJmWtOEfy7YU"
      },
      "source": [
        "The pivot() function is used to reshaped a given DataFrame organized by given index / column values.\n",
        "***1) pivot()***"
      ]
    },
    {
      "cell_type": "code",
      "metadata": {
        "colab": {
          "base_uri": "https://localhost:8080/",
          "height": 284
        },
        "id": "jNPZVYaSzHDH",
        "outputId": "53e47ecc-e4f5-49dc-d91a-1ff1f6af29aa"
      },
      "source": [
        "weapon_df2.pivot(index ='Weapon Name',columns = 'Weapon Type',values = 'Range' ).head(5)\n"
      ],
      "execution_count": null,
      "outputs": [
        {
          "output_type": "execute_result",
          "data": {
            "text/html": [
              "<div>\n",
              "<style scoped>\n",
              "    .dataframe tbody tr th:only-of-type {\n",
              "        vertical-align: middle;\n",
              "    }\n",
              "\n",
              "    .dataframe tbody tr th {\n",
              "        vertical-align: top;\n",
              "    }\n",
              "\n",
              "    .dataframe thead th {\n",
              "        text-align: right;\n",
              "    }\n",
              "</style>\n",
              "<table border=\"1\" class=\"dataframe\">\n",
              "  <thead>\n",
              "    <tr style=\"text-align: right;\">\n",
              "      <th>Weapon Type</th>\n",
              "      <th>Assault Rifle</th>\n",
              "      <th>Designed Marksman Rifle</th>\n",
              "      <th>Light Machine Gun</th>\n",
              "      <th>Melee</th>\n",
              "      <th>Other</th>\n",
              "      <th>Pistol</th>\n",
              "      <th>Shotgun</th>\n",
              "      <th>Sniper Rifle</th>\n",
              "      <th>Submachine Gun</th>\n",
              "    </tr>\n",
              "    <tr>\n",
              "      <th>Weapon Name</th>\n",
              "      <th></th>\n",
              "      <th></th>\n",
              "      <th></th>\n",
              "      <th></th>\n",
              "      <th></th>\n",
              "      <th></th>\n",
              "      <th></th>\n",
              "      <th></th>\n",
              "      <th></th>\n",
              "    </tr>\n",
              "  </thead>\n",
              "  <tbody>\n",
              "    <tr>\n",
              "      <th>AKM</th>\n",
              "      <td>400.0</td>\n",
              "      <td>NaN</td>\n",
              "      <td>NaN</td>\n",
              "      <td>NaN</td>\n",
              "      <td>NaN</td>\n",
              "      <td>NaN</td>\n",
              "      <td>NaN</td>\n",
              "      <td>NaN</td>\n",
              "      <td>NaN</td>\n",
              "    </tr>\n",
              "    <tr>\n",
              "      <th>AUG A3</th>\n",
              "      <td>600.0</td>\n",
              "      <td>NaN</td>\n",
              "      <td>NaN</td>\n",
              "      <td>NaN</td>\n",
              "      <td>NaN</td>\n",
              "      <td>NaN</td>\n",
              "      <td>NaN</td>\n",
              "      <td>NaN</td>\n",
              "      <td>NaN</td>\n",
              "    </tr>\n",
              "    <tr>\n",
              "      <th>AWM</th>\n",
              "      <td>NaN</td>\n",
              "      <td>NaN</td>\n",
              "      <td>NaN</td>\n",
              "      <td>NaN</td>\n",
              "      <td>NaN</td>\n",
              "      <td>NaN</td>\n",
              "      <td>NaN</td>\n",
              "      <td>900.0</td>\n",
              "      <td>NaN</td>\n",
              "    </tr>\n",
              "    <tr>\n",
              "      <th>Crossbow</th>\n",
              "      <td>NaN</td>\n",
              "      <td>NaN</td>\n",
              "      <td>NaN</td>\n",
              "      <td>NaN</td>\n",
              "      <td>NaN</td>\n",
              "      <td>NaN</td>\n",
              "      <td>NaN</td>\n",
              "      <td>NaN</td>\n",
              "      <td>NaN</td>\n",
              "    </tr>\n",
              "    <tr>\n",
              "      <th>Crowbar</th>\n",
              "      <td>NaN</td>\n",
              "      <td>NaN</td>\n",
              "      <td>NaN</td>\n",
              "      <td>NaN</td>\n",
              "      <td>NaN</td>\n",
              "      <td>NaN</td>\n",
              "      <td>NaN</td>\n",
              "      <td>NaN</td>\n",
              "      <td>NaN</td>\n",
              "    </tr>\n",
              "  </tbody>\n",
              "</table>\n",
              "</div>"
            ],
            "text/plain": [
              "Weapon Type  Assault Rifle  ...  Submachine Gun\n",
              "Weapon Name                 ...                \n",
              "AKM                  400.0  ...             NaN\n",
              "AUG A3               600.0  ...             NaN\n",
              "AWM                    NaN  ...             NaN\n",
              "Crossbow               NaN  ...             NaN\n",
              "Crowbar                NaN  ...             NaN\n",
              "\n",
              "[5 rows x 9 columns]"
            ]
          },
          "metadata": {
            "tags": []
          },
          "execution_count": 72
        }
      ]
    },
    {
      "cell_type": "markdown",
      "metadata": {
        "id": "YVzL6PRo0bo4"
      },
      "source": [
        "***2) pivot_table()***\n",
        "\n",
        "It Creates a spreadsheet-style pivot table as a DataFrame. The levels in the pivot table will be stored in MultiIndex objects (hierarchical indexes) on the index and columns of the result DataFrame."
      ]
    },
    {
      "cell_type": "code",
      "metadata": {
        "colab": {
          "base_uri": "https://localhost:8080/",
          "height": 110
        },
        "id": "G7EW2C7Z0d_V",
        "outputId": "85099030-872e-466d-951b-56d2541b4811"
      },
      "source": [
        "df2 = pd.pivot_table(data = weapon_df2,index ='Weapon Name',columns = 'Weapon Type',values = 'Damage' )\n",
        "df2.sample()"
      ],
      "execution_count": null,
      "outputs": [
        {
          "output_type": "execute_result",
          "data": {
            "text/html": [
              "<div>\n",
              "<style scoped>\n",
              "    .dataframe tbody tr th:only-of-type {\n",
              "        vertical-align: middle;\n",
              "    }\n",
              "\n",
              "    .dataframe tbody tr th {\n",
              "        vertical-align: top;\n",
              "    }\n",
              "\n",
              "    .dataframe thead th {\n",
              "        text-align: right;\n",
              "    }\n",
              "</style>\n",
              "<table border=\"1\" class=\"dataframe\">\n",
              "  <thead>\n",
              "    <tr style=\"text-align: right;\">\n",
              "      <th>Weapon Type</th>\n",
              "      <th>Assault Rifle</th>\n",
              "      <th>Designed Marksman Rifle</th>\n",
              "      <th>Light Machine Gun</th>\n",
              "      <th>Melee</th>\n",
              "      <th>Other</th>\n",
              "      <th>Pistol</th>\n",
              "      <th>Shotgun</th>\n",
              "      <th>Sniper Rifle</th>\n",
              "      <th>Submachine Gun</th>\n",
              "    </tr>\n",
              "    <tr>\n",
              "      <th>Weapon Name</th>\n",
              "      <th></th>\n",
              "      <th></th>\n",
              "      <th></th>\n",
              "      <th></th>\n",
              "      <th></th>\n",
              "      <th></th>\n",
              "      <th></th>\n",
              "      <th></th>\n",
              "      <th></th>\n",
              "    </tr>\n",
              "  </thead>\n",
              "  <tbody>\n",
              "    <tr>\n",
              "      <th>SKS</th>\n",
              "      <td>NaN</td>\n",
              "      <td>53.0</td>\n",
              "      <td>NaN</td>\n",
              "      <td>NaN</td>\n",
              "      <td>NaN</td>\n",
              "      <td>NaN</td>\n",
              "      <td>NaN</td>\n",
              "      <td>NaN</td>\n",
              "      <td>NaN</td>\n",
              "    </tr>\n",
              "  </tbody>\n",
              "</table>\n",
              "</div>"
            ],
            "text/plain": [
              "Weapon Type  Assault Rifle  ...  Submachine Gun\n",
              "Weapon Name                 ...                \n",
              "SKS                    NaN  ...             NaN\n",
              "\n",
              "[1 rows x 9 columns]"
            ]
          },
          "metadata": {
            "tags": []
          },
          "execution_count": 73
        }
      ]
    },
    {
      "cell_type": "markdown",
      "metadata": {
        "id": "IM9-BS641fCy"
      },
      "source": [
        "## **9.DIFFERENT POSSIBLE OPERATIONS TO A DATA FRAME**"
      ]
    },
    {
      "cell_type": "markdown",
      "metadata": {
        "id": "UcmouEoN1kIQ"
      },
      "source": [
        "\n",
        "some more methods which are useful for dataframe operations are\n",
        "\n",
        "***1) Slicing of rows***\n",
        "\n",
        "We can perform slicing operations to get the desired number of rows from within a given range. With the help of slicing, we can perform various operations only on the specific subset of the data"
      ]
    },
    {
      "cell_type": "code",
      "metadata": {
        "colab": {
          "base_uri": "https://localhost:8080/",
          "height": 203
        },
        "id": "rUzk7BZx1p6O",
        "outputId": "476f8f03-ac62-47f7-8b90-fe300b897ea9"
      },
      "source": [
        "# slicing the number of rows \n",
        "df1 = weapon_df[10:15]\n",
        "df1"
      ],
      "execution_count": null,
      "outputs": [
        {
          "output_type": "execute_result",
          "data": {
            "text/html": [
              "<div>\n",
              "<style scoped>\n",
              "    .dataframe tbody tr th:only-of-type {\n",
              "        vertical-align: middle;\n",
              "    }\n",
              "\n",
              "    .dataframe tbody tr th {\n",
              "        vertical-align: top;\n",
              "    }\n",
              "\n",
              "    .dataframe thead th {\n",
              "        text-align: right;\n",
              "    }\n",
              "</style>\n",
              "<table border=\"1\" class=\"dataframe\">\n",
              "  <thead>\n",
              "    <tr style=\"text-align: right;\">\n",
              "      <th></th>\n",
              "      <th>Weapon Name</th>\n",
              "      <th>Damage</th>\n",
              "      <th>Range</th>\n",
              "      <th>Bullet Speed</th>\n",
              "    </tr>\n",
              "  </thead>\n",
              "  <tbody>\n",
              "    <tr>\n",
              "      <th>10</th>\n",
              "      <td>M249</td>\n",
              "      <td>45</td>\n",
              "      <td>400.0</td>\n",
              "      <td>915.0</td>\n",
              "    </tr>\n",
              "    <tr>\n",
              "      <th>11</th>\n",
              "      <td>DP-28</td>\n",
              "      <td>51</td>\n",
              "      <td>600.0</td>\n",
              "      <td>715.0</td>\n",
              "    </tr>\n",
              "    <tr>\n",
              "      <th>12</th>\n",
              "      <td>Vector</td>\n",
              "      <td>31</td>\n",
              "      <td>50.0</td>\n",
              "      <td>300.0</td>\n",
              "    </tr>\n",
              "    <tr>\n",
              "      <th>13</th>\n",
              "      <td>Uzi</td>\n",
              "      <td>26</td>\n",
              "      <td>200.0</td>\n",
              "      <td>350.0</td>\n",
              "    </tr>\n",
              "    <tr>\n",
              "      <th>14</th>\n",
              "      <td>PP-Bizon</td>\n",
              "      <td>35</td>\n",
              "      <td>300.0</td>\n",
              "      <td>300.0</td>\n",
              "    </tr>\n",
              "  </tbody>\n",
              "</table>\n",
              "</div>"
            ],
            "text/plain": [
              "   Weapon Name  Damage  Range  Bullet Speed\n",
              "10        M249      45  400.0         915.0\n",
              "11       DP-28      51  600.0         715.0\n",
              "12      Vector      31   50.0         300.0\n",
              "13         Uzi      26  200.0         350.0\n",
              "14    PP-Bizon      35  300.0         300.0"
            ]
          },
          "metadata": {
            "tags": []
          },
          "execution_count": 74
        }
      ]
    },
    {
      "cell_type": "markdown",
      "metadata": {
        "id": "L977KHC412Az"
      },
      "source": [
        "***2) Selecting specific columns***\n",
        "\n",
        "To select a particular column or to select number of columns from the dataframe for further processing of data."
      ]
    },
    {
      "cell_type": "code",
      "metadata": {
        "colab": {
          "base_uri": "https://localhost:8080/",
          "height": 203
        },
        "id": "BmTliTP215b0",
        "outputId": "2ba2a663-2812-4c22-c350-803997b5b6d0"
      },
      "source": [
        "df2 = weapon_df2.loc[:, ['Weapon Name','Weapon Type']]\n",
        "df2.head(5)"
      ],
      "execution_count": null,
      "outputs": [
        {
          "output_type": "execute_result",
          "data": {
            "text/html": [
              "<div>\n",
              "<style scoped>\n",
              "    .dataframe tbody tr th:only-of-type {\n",
              "        vertical-align: middle;\n",
              "    }\n",
              "\n",
              "    .dataframe tbody tr th {\n",
              "        vertical-align: top;\n",
              "    }\n",
              "\n",
              "    .dataframe thead th {\n",
              "        text-align: right;\n",
              "    }\n",
              "</style>\n",
              "<table border=\"1\" class=\"dataframe\">\n",
              "  <thead>\n",
              "    <tr style=\"text-align: right;\">\n",
              "      <th></th>\n",
              "      <th>Weapon Name</th>\n",
              "      <th>Weapon Type</th>\n",
              "    </tr>\n",
              "  </thead>\n",
              "  <tbody>\n",
              "    <tr>\n",
              "      <th>0</th>\n",
              "      <td>Groza</td>\n",
              "      <td>Assault Rifle</td>\n",
              "    </tr>\n",
              "    <tr>\n",
              "      <th>1</th>\n",
              "      <td>AKM</td>\n",
              "      <td>Assault Rifle</td>\n",
              "    </tr>\n",
              "    <tr>\n",
              "      <th>2</th>\n",
              "      <td>M762</td>\n",
              "      <td>Assault Rifle</td>\n",
              "    </tr>\n",
              "    <tr>\n",
              "      <th>3</th>\n",
              "      <td>MK47 Mutant</td>\n",
              "      <td>Assault Rifle</td>\n",
              "    </tr>\n",
              "    <tr>\n",
              "      <th>4</th>\n",
              "      <td>AUG A3</td>\n",
              "      <td>Assault Rifle</td>\n",
              "    </tr>\n",
              "  </tbody>\n",
              "</table>\n",
              "</div>"
            ],
            "text/plain": [
              "   Weapon Name    Weapon Type\n",
              "0        Groza  Assault Rifle\n",
              "1          AKM  Assault Rifle\n",
              "2         M762  Assault Rifle\n",
              "3  MK47 Mutant  Assault Rifle\n",
              "4       AUG A3  Assault Rifle"
            ]
          },
          "metadata": {
            "tags": []
          },
          "execution_count": 75
        }
      ]
    },
    {
      "cell_type": "markdown",
      "metadata": {
        "id": "DYARlMcn2NoQ"
      },
      "source": [
        "***3) Summarize the data***\n",
        "\n",
        "In order to get insights from data, we must have a statistical summary of data. To display a statistical summary of the data such as mean, median, mode, std etc."
      ]
    },
    {
      "cell_type": "code",
      "metadata": {
        "colab": {
          "base_uri": "https://localhost:8080/",
          "height": 295
        },
        "id": "wmAkd4Kv2Q8u",
        "outputId": "8a922aaf-709a-4875-a24c-0c61f31c462f"
      },
      "source": [
        "weapon_df.describe()"
      ],
      "execution_count": null,
      "outputs": [
        {
          "output_type": "execute_result",
          "data": {
            "text/html": [
              "<div>\n",
              "<style scoped>\n",
              "    .dataframe tbody tr th:only-of-type {\n",
              "        vertical-align: middle;\n",
              "    }\n",
              "\n",
              "    .dataframe tbody tr th {\n",
              "        vertical-align: top;\n",
              "    }\n",
              "\n",
              "    .dataframe thead th {\n",
              "        text-align: right;\n",
              "    }\n",
              "</style>\n",
              "<table border=\"1\" class=\"dataframe\">\n",
              "  <thead>\n",
              "    <tr style=\"text-align: right;\">\n",
              "      <th></th>\n",
              "      <th>Damage</th>\n",
              "      <th>Range</th>\n",
              "      <th>Bullet Speed</th>\n",
              "    </tr>\n",
              "  </thead>\n",
              "  <tbody>\n",
              "    <tr>\n",
              "      <th>count</th>\n",
              "      <td>44.000000</td>\n",
              "      <td>38.000000</td>\n",
              "      <td>36.000000</td>\n",
              "    </tr>\n",
              "    <tr>\n",
              "      <th>mean</th>\n",
              "      <td>63.340909</td>\n",
              "      <td>403.552632</td>\n",
              "      <td>615.777778</td>\n",
              "    </tr>\n",
              "    <tr>\n",
              "      <th>std</th>\n",
              "      <td>47.134613</td>\n",
              "      <td>297.886492</td>\n",
              "      <td>256.455077</td>\n",
              "    </tr>\n",
              "    <tr>\n",
              "      <th>min</th>\n",
              "      <td>18.000000</td>\n",
              "      <td>25.000000</td>\n",
              "      <td>250.000000</td>\n",
              "    </tr>\n",
              "    <tr>\n",
              "      <th>25%</th>\n",
              "      <td>41.000000</td>\n",
              "      <td>52.500000</td>\n",
              "      <td>350.000000</td>\n",
              "    </tr>\n",
              "    <tr>\n",
              "      <th>50%</th>\n",
              "      <td>48.500000</td>\n",
              "      <td>400.000000</td>\n",
              "      <td>715.000000</td>\n",
              "    </tr>\n",
              "    <tr>\n",
              "      <th>75%</th>\n",
              "      <td>60.250000</td>\n",
              "      <td>600.000000</td>\n",
              "      <td>859.750000</td>\n",
              "    </tr>\n",
              "    <tr>\n",
              "      <th>max</th>\n",
              "      <td>216.000000</td>\n",
              "      <td>900.000000</td>\n",
              "      <td>990.000000</td>\n",
              "    </tr>\n",
              "  </tbody>\n",
              "</table>\n",
              "</div>"
            ],
            "text/plain": [
              "           Damage       Range  Bullet Speed\n",
              "count   44.000000   38.000000     36.000000\n",
              "mean    63.340909  403.552632    615.777778\n",
              "std     47.134613  297.886492    256.455077\n",
              "min     18.000000   25.000000    250.000000\n",
              "25%     41.000000   52.500000    350.000000\n",
              "50%     48.500000  400.000000    715.000000\n",
              "75%     60.250000  600.000000    859.750000\n",
              "max    216.000000  900.000000    990.000000"
            ]
          },
          "metadata": {
            "tags": []
          },
          "execution_count": 76
        }
      ]
    },
    {
      "cell_type": "markdown",
      "metadata": {
        "id": "-buZTUcs2enc"
      },
      "source": [
        "***4) Sort data with respect to a column***"
      ]
    },
    {
      "cell_type": "code",
      "metadata": {
        "colab": {
          "base_uri": "https://localhost:8080/",
          "height": 203
        },
        "id": "XF4OT_so2iPy",
        "outputId": "7b47719b-9fa8-42f2-d418-84c52b7f1e3b"
      },
      "source": [
        "weapon_df2.sort_values(by ='Bullet Speed').head()"
      ],
      "execution_count": null,
      "outputs": [
        {
          "output_type": "execute_result",
          "data": {
            "text/html": [
              "<div>\n",
              "<style scoped>\n",
              "    .dataframe tbody tr th:only-of-type {\n",
              "        vertical-align: middle;\n",
              "    }\n",
              "\n",
              "    .dataframe tbody tr th {\n",
              "        vertical-align: top;\n",
              "    }\n",
              "\n",
              "    .dataframe thead th {\n",
              "        text-align: right;\n",
              "    }\n",
              "</style>\n",
              "<table border=\"1\" class=\"dataframe\">\n",
              "  <thead>\n",
              "    <tr style=\"text-align: right;\">\n",
              "      <th></th>\n",
              "      <th>Weapon Name</th>\n",
              "      <th>Weapon Type</th>\n",
              "      <th>Damage</th>\n",
              "      <th>Range</th>\n",
              "      <th>Bullet Speed</th>\n",
              "    </tr>\n",
              "  </thead>\n",
              "  <tbody>\n",
              "    <tr>\n",
              "      <th>17</th>\n",
              "      <td>UMP45</td>\n",
              "      <td>Submachine Gun</td>\n",
              "      <td>39</td>\n",
              "      <td>300.0</td>\n",
              "      <td>250.0</td>\n",
              "    </tr>\n",
              "    <tr>\n",
              "      <th>34</th>\n",
              "      <td>P1911</td>\n",
              "      <td>Pistol</td>\n",
              "      <td>41</td>\n",
              "      <td>25.0</td>\n",
              "      <td>250.0</td>\n",
              "    </tr>\n",
              "    <tr>\n",
              "      <th>16</th>\n",
              "      <td>Thompson</td>\n",
              "      <td>Submachine Gun</td>\n",
              "      <td>40</td>\n",
              "      <td>200.0</td>\n",
              "      <td>280.0</td>\n",
              "    </tr>\n",
              "    <tr>\n",
              "      <th>26</th>\n",
              "      <td>VSS</td>\n",
              "      <td>Designed Marksman Rifle</td>\n",
              "      <td>41</td>\n",
              "      <td>500.0</td>\n",
              "      <td>300.0</td>\n",
              "    </tr>\n",
              "    <tr>\n",
              "      <th>14</th>\n",
              "      <td>PP-Bizon</td>\n",
              "      <td>Submachine Gun</td>\n",
              "      <td>35</td>\n",
              "      <td>300.0</td>\n",
              "      <td>300.0</td>\n",
              "    </tr>\n",
              "  </tbody>\n",
              "</table>\n",
              "</div>"
            ],
            "text/plain": [
              "   Weapon Name              Weapon Type  Damage  Range  Bullet Speed\n",
              "17       UMP45           Submachine Gun      39  300.0         250.0\n",
              "34       P1911                   Pistol      41   25.0         250.0\n",
              "16    Thompson           Submachine Gun      40  200.0         280.0\n",
              "26         VSS  Designed Marksman Rifle      41  500.0         300.0\n",
              "14    PP-Bizon           Submachine Gun      35  300.0         300.0"
            ]
          },
          "metadata": {
            "tags": []
          },
          "execution_count": 77
        }
      ]
    },
    {
      "cell_type": "markdown",
      "metadata": {
        "id": "MZXQgKsJ3J8g"
      },
      "source": [
        "***5) Display mean of each column***"
      ]
    },
    {
      "cell_type": "code",
      "metadata": {
        "colab": {
          "base_uri": "https://localhost:8080/"
        },
        "id": "GQg7eOf33PDV",
        "outputId": "4320b4cc-f5da-424b-eee2-62d4657e7eba"
      },
      "source": [
        "weapon_df.mean()"
      ],
      "execution_count": null,
      "outputs": [
        {
          "output_type": "execute_result",
          "data": {
            "text/plain": [
              "Damage           63.340909\n",
              "Range           403.552632\n",
              "Bullet Speed    615.777778\n",
              "dtype: float64"
            ]
          },
          "metadata": {
            "tags": []
          },
          "execution_count": 78
        }
      ]
    },
    {
      "cell_type": "markdown",
      "metadata": {
        "id": "5QKYXdVu3ZAM"
      },
      "source": [
        "***6) transpose( ) to to convert dataframe's index to column and columns to index***"
      ]
    },
    {
      "cell_type": "code",
      "metadata": {
        "colab": {
          "base_uri": "https://localhost:8080/",
          "height": 110
        },
        "id": "yEdH0L-93and",
        "outputId": "8e7112cb-a4bf-40bb-8cac-29cbfc60491c"
      },
      "source": [
        "df.transpose()"
      ],
      "execution_count": null,
      "outputs": [
        {
          "output_type": "execute_result",
          "data": {
            "text/html": [
              "<div>\n",
              "<style scoped>\n",
              "    .dataframe tbody tr th:only-of-type {\n",
              "        vertical-align: middle;\n",
              "    }\n",
              "\n",
              "    .dataframe tbody tr th {\n",
              "        vertical-align: top;\n",
              "    }\n",
              "\n",
              "    .dataframe thead th {\n",
              "        text-align: right;\n",
              "    }\n",
              "</style>\n",
              "<table border=\"1\" class=\"dataframe\">\n",
              "  <thead>\n",
              "    <tr style=\"text-align: right;\">\n",
              "      <th></th>\n",
              "      <th>0</th>\n",
              "      <th>1</th>\n",
              "      <th>2</th>\n",
              "    </tr>\n",
              "  </thead>\n",
              "  <tbody>\n",
              "    <tr>\n",
              "      <th>Building</th>\n",
              "      <td>Georgopol</td>\n",
              "      <td>Mylta</td>\n",
              "      <td>Novorepnoye</td>\n",
              "    </tr>\n",
              "    <tr>\n",
              "      <th>Name</th>\n",
              "      <td>Mortal</td>\n",
              "      <td>Kaztro</td>\n",
              "      <td>Viper</td>\n",
              "    </tr>\n",
              "  </tbody>\n",
              "</table>\n",
              "</div>"
            ],
            "text/plain": [
              "                  0       1            2\n",
              "Building  Georgopol   Mylta  Novorepnoye\n",
              "Name         Mortal  Kaztro        Viper"
            ]
          },
          "metadata": {
            "tags": []
          },
          "execution_count": 79
        }
      ]
    },
    {
      "cell_type": "markdown",
      "metadata": {
        "id": "xFGWKSYu3k__"
      },
      "source": [
        "## **10. STRING MANIPULATIONS**"
      ]
    },
    {
      "cell_type": "markdown",
      "metadata": {
        "id": "ShIGIJ-l3sDC"
      },
      "source": [
        "String manipulation is the process of changing, parsing, splicing, pasting, or analyzing strings"
      ]
    },
    {
      "cell_type": "code",
      "metadata": {
        "colab": {
          "base_uri": "https://localhost:8080/"
        },
        "id": "bYGRrMd335wk",
        "outputId": "290506c1-4a29-4ce6-d333-ad66860d74df"
      },
      "source": [
        "# python script for create a dataframe for string manipulations\n",
        "import pandas as pd\n",
        "import numpy as np\n",
        "  \n",
        "df = pd.Series(['Computer Science', ' Mathematics', ' Chemistry','Physics'])\n",
        "df"
      ],
      "execution_count": null,
      "outputs": [
        {
          "output_type": "execute_result",
          "data": {
            "text/plain": [
              "0    Computer Science\n",
              "1         Mathematics\n",
              "2           Chemistry\n",
              "3             Physics\n",
              "dtype: object"
            ]
          },
          "metadata": {
            "tags": []
          },
          "execution_count": 80
        }
      ]
    },
    {
      "cell_type": "markdown",
      "metadata": {
        "id": "zEq_l2ED4qDA"
      },
      "source": [
        "***1) lower()***\n",
        "\n",
        "Converts all uppercase characters in strings in the DataFrame to lower case and returns the lowercase strings in the result."
      ]
    },
    {
      "cell_type": "code",
      "metadata": {
        "colab": {
          "base_uri": "https://localhost:8080/"
        },
        "id": "e0fvoncq4sWf",
        "outputId": "4f9f4ec6-020f-4b80-f9ed-d65c071f3fc4"
      },
      "source": [
        "df.str.lower()"
      ],
      "execution_count": null,
      "outputs": [
        {
          "output_type": "execute_result",
          "data": {
            "text/plain": [
              "0    computer science\n",
              "1         mathematics\n",
              "2           chemistry\n",
              "3             physics\n",
              "dtype: object"
            ]
          },
          "metadata": {
            "tags": []
          },
          "execution_count": 81
        }
      ]
    },
    {
      "cell_type": "markdown",
      "metadata": {
        "id": "_x9pDKyw4wtG"
      },
      "source": [
        "***2) upper()***\n",
        "\n",
        "Converts all lowercase characters in strings in the DataFrame to upper case and returns the uppercase strings in result."
      ]
    },
    {
      "cell_type": "code",
      "metadata": {
        "colab": {
          "base_uri": "https://localhost:8080/"
        },
        "id": "m5Reop6842R3",
        "outputId": "bf55f26c-0401-4279-ee8d-a002e3fe1c8e"
      },
      "source": [
        "df.str.upper()"
      ],
      "execution_count": null,
      "outputs": [
        {
          "output_type": "execute_result",
          "data": {
            "text/plain": [
              "0    COMPUTER SCIENCE\n",
              "1         MATHEMATICS\n",
              "2           CHEMISTRY\n",
              "3             PHYSICS\n",
              "dtype: object"
            ]
          },
          "metadata": {
            "tags": []
          },
          "execution_count": 82
        }
      ]
    },
    {
      "cell_type": "markdown",
      "metadata": {
        "id": "Y7k9qpMH48sW"
      },
      "source": [
        "***3) strip()***\n",
        "\n",
        "If there are spaces at the beginning or end of a string, we should trim the strings to eliminate spaces using strip() or remove the extra spaces contained by a string in DataFrame"
      ]
    },
    {
      "cell_type": "code",
      "metadata": {
        "colab": {
          "base_uri": "https://localhost:8080/"
        },
        "id": "cRRMWD6L4_-a",
        "outputId": "97a0f019-5fb6-4158-b731-efdaa1c1734c"
      },
      "source": [
        "\n",
        "df\n",
        "print('\\nAfter using the strip:')\n",
        "df.str.strip()"
      ],
      "execution_count": null,
      "outputs": [
        {
          "output_type": "stream",
          "text": [
            "\n",
            "After using the strip:\n"
          ],
          "name": "stdout"
        },
        {
          "output_type": "execute_result",
          "data": {
            "text/plain": [
              "0    Computer Science\n",
              "1         Mathematics\n",
              "2           Chemistry\n",
              "3             Physics\n",
              "dtype: object"
            ]
          },
          "metadata": {
            "tags": []
          },
          "execution_count": 83
        }
      ]
    },
    {
      "cell_type": "markdown",
      "metadata": {
        "id": "woOhegqW5Ei4"
      },
      "source": [
        "***4) split(‘ ‘)***\n",
        "\n",
        "Splits each string with the given pattern. Strings are split and the new elements after the performed split operation, are stored in a list."
      ]
    },
    {
      "cell_type": "code",
      "metadata": {
        "colab": {
          "base_uri": "https://localhost:8080/"
        },
        "id": "mmxAtOmC5KFZ",
        "outputId": "f0263ed4-1c55-4e4f-ace3-03cbf93dd9a8"
      },
      "source": [
        "# split(pattern)\n",
        "print(df)\n",
        "print('\\nAfter using the strip:')\n",
        "print(df.str.split(','))\n",
        "  \n",
        "# now we can use [] or get() to fetch \n",
        "# the index values\n",
        "print('\\nusing []:')\n",
        "print(df.str.split(',').str[0])\n",
        "  \n",
        "print('\\nusing get():')\n",
        "print(df.str.split(',').str.get(1))"
      ],
      "execution_count": null,
      "outputs": [
        {
          "output_type": "stream",
          "text": [
            "0    Computer Science\n",
            "1         Mathematics\n",
            "2           Chemistry\n",
            "3             Physics\n",
            "dtype: object\n",
            "\n",
            "After using the strip:\n",
            "0    [Computer Science]\n",
            "1        [ Mathematics]\n",
            "2          [ Chemistry]\n",
            "3             [Physics]\n",
            "dtype: object\n",
            "\n",
            "using []:\n",
            "0    Computer Science\n",
            "1         Mathematics\n",
            "2           Chemistry\n",
            "3             Physics\n",
            "dtype: object\n",
            "\n",
            "using get():\n",
            "0   NaN\n",
            "1   NaN\n",
            "2   NaN\n",
            "3   NaN\n",
            "dtype: float64\n"
          ],
          "name": "stdout"
        }
      ]
    },
    {
      "cell_type": "markdown",
      "metadata": {
        "id": "FWCxnYFP5dcD"
      },
      "source": [
        "***5) len()***\n",
        "\n",
        "With the help of len() we can compute the length of each string in DataFrame & if there is empty data in DataFrame, it returns NaN."
      ]
    },
    {
      "cell_type": "code",
      "metadata": {
        "colab": {
          "base_uri": "https://localhost:8080/"
        },
        "id": "HHhkEi8I5gv4",
        "outputId": "3ae697e7-05a3-4df1-b45b-85dca33d4283"
      },
      "source": [
        "print(\"length of the dataframe: \", len(df))\n",
        "print(\"length of each value of dataframe:\")\n",
        "df.str.len()"
      ],
      "execution_count": null,
      "outputs": [
        {
          "output_type": "stream",
          "text": [
            "length of the dataframe:  4\n",
            "length of each value of dataframe:\n"
          ],
          "name": "stdout"
        },
        {
          "output_type": "execute_result",
          "data": {
            "text/plain": [
              "0    16\n",
              "1    12\n",
              "2    10\n",
              "3     7\n",
              "dtype: int64"
            ]
          },
          "metadata": {
            "tags": []
          },
          "execution_count": 86
        }
      ]
    },
    {
      "cell_type": "markdown",
      "metadata": {
        "id": "GZe5lOYF5mKp"
      },
      "source": [
        "***6) cat(sep=’ ‘)**9\n",
        "\n",
        "It concatenates the data-frame index elements or each string in DataFrame with given separator."
      ]
    },
    {
      "cell_type": "code",
      "metadata": {
        "colab": {
          "base_uri": "https://localhost:8080/"
        },
        "id": "vvu-UUV25q90",
        "outputId": "5b775eea-2615-4f8a-ce0d-2a95dbcca8ac"
      },
      "source": [
        "\n",
        "print(df)\n",
        "  \n",
        "print(\"\\nafter using cat:\")\n",
        "print(df.str.cat(sep='_'))\n",
        "  \n",
        "print(\"\\nworking with NaN using cat:\")\n",
        "print(df.str.cat(sep='_', na_rep='#'))"
      ],
      "execution_count": null,
      "outputs": [
        {
          "output_type": "stream",
          "text": [
            "0    Computer Science\n",
            "1         Mathematics\n",
            "2           Chemistry\n",
            "3             Physics\n",
            "dtype: object\n",
            "\n",
            "after using cat:\n",
            "Computer Science_ Mathematics_ Chemistry_Physics\n",
            "\n",
            "working with NaN using cat:\n",
            "Computer Science_ Mathematics_ Chemistry_Physics\n"
          ],
          "name": "stdout"
        }
      ]
    },
    {
      "cell_type": "markdown",
      "metadata": {
        "id": "qRQwePZy5yTN"
      },
      "source": [
        "***7) repeat(value)***\n",
        "\n",
        "It repeats each element with a given number of times like below in example, there are two appearances of each string in DataFrame."
      ]
    },
    {
      "cell_type": "code",
      "metadata": {
        "colab": {
          "base_uri": "https://localhost:8080/"
        },
        "id": "tJOQ5FL354aa",
        "outputId": "0603ea7f-9cc8-4907-b09f-e616d3cfa992"
      },
      "source": [
        "df.str.repeat(2)"
      ],
      "execution_count": null,
      "outputs": [
        {
          "output_type": "execute_result",
          "data": {
            "text/plain": [
              "0    Computer ScienceComputer Science\n",
              "1             Mathematics Mathematics\n",
              "2                 Chemistry Chemistry\n",
              "3                      PhysicsPhysics\n",
              "dtype: object"
            ]
          },
          "metadata": {
            "tags": []
          },
          "execution_count": 88
        }
      ]
    },
    {
      "cell_type": "markdown",
      "metadata": {
        "id": "RfHAR-bJ58_r"
      },
      "source": [
        "***8) count(pattern)***\n",
        "\n",
        "It returns the count of the appearance of pattern in each element in Data-Frame like below in example it counts ‘n’ in each string of DataFrame and returns the total counts of ‘n’ in each string."
      ]
    },
    {
      "cell_type": "code",
      "metadata": {
        "colab": {
          "base_uri": "https://localhost:8080/"
        },
        "id": "5A2Fn9Zd6CU5",
        "outputId": "84536434-deb8-423a-b420-604820bf76fa"
      },
      "source": [
        "print(df.str.count('o'))\n"
      ],
      "execution_count": null,
      "outputs": [
        {
          "output_type": "stream",
          "text": [
            "0    1\n",
            "1    0\n",
            "2    0\n",
            "3    0\n",
            "dtype: int64\n"
          ],
          "name": "stdout"
        }
      ]
    },
    {
      "cell_type": "markdown",
      "metadata": {
        "id": "YYk8fdew6MB5"
      },
      "source": [
        "***9) isupper() and isnumeric()***\n",
        "\n",
        "isupper() checks whether all characters in each string in the Index of the Data-Frame in upper case or not, and returns a Boolean value.isnumeric() checks whether all characters in each string in the Index of the Data-Frame are numeric or not, and returns a Boolean value."
      ]
    },
    {
      "cell_type": "code",
      "metadata": {
        "colab": {
          "base_uri": "https://localhost:8080/"
        },
        "id": "YtZx2A4y6Pm6",
        "outputId": "b2146f4e-7ad3-4a73-f73a-97f72cd38920"
      },
      "source": [
        "print(df.str.isupper()) \n",
        "print(\"\\n-----------\\n\")\n",
        "print(df.str.isnumeric())"
      ],
      "execution_count": null,
      "outputs": [
        {
          "output_type": "stream",
          "text": [
            "0    False\n",
            "1    False\n",
            "2    False\n",
            "3    False\n",
            "dtype: bool\n",
            "\n",
            "-----------\n",
            "\n",
            "0    False\n",
            "1    False\n",
            "2    False\n",
            "3    False\n",
            "dtype: bool\n"
          ],
          "name": "stdout"
        }
      ]
    },
    {
      "cell_type": "markdown",
      "metadata": {
        "id": "PTZgnhG57X8c"
      },
      "source": [
        "***10)swapcase()***\n",
        "It swaps the case lower to upper and vice-versa\n"
      ]
    },
    {
      "cell_type": "code",
      "metadata": {
        "colab": {
          "base_uri": "https://localhost:8080/"
        },
        "id": "_S-tQbX67lU-",
        "outputId": "7edf6f57-427b-48db-f56d-dbe476921ad0"
      },
      "source": [
        "\n",
        "df.str.swapcase()"
      ],
      "execution_count": 91,
      "outputs": [
        {
          "output_type": "execute_result",
          "data": {
            "text/plain": [
              "0    cOMPUTER sCIENCE\n",
              "1         mATHEMATICS\n",
              "2           cHEMISTRY\n",
              "3             pHYSICS\n",
              "dtype: object"
            ]
          },
          "metadata": {
            "tags": []
          },
          "execution_count": 91
        }
      ]
    },
    {
      "cell_type": "markdown",
      "metadata": {
        "id": "NP6En1tK7vWL"
      },
      "source": [
        "***11) find(pattern) and findall(pattern)***\n",
        "\n",
        "find(pattern)returns first position of the first occurrence of the pattern.findall(pattern) returns a list of all occurrences of the pattern"
      ]
    },
    {
      "cell_type": "code",
      "metadata": {
        "colab": {
          "base_uri": "https://localhost:8080/"
        },
        "id": "u21At4AV7zmq",
        "outputId": "153df0b1-8e3b-4bc2-f6b5-4112562e7c23"
      },
      "source": [
        "\n",
        "# find(pattern) in result '-1' indicates there is no value matching with given pattern in particular row\n",
        "print(df.str.find('n'))\n",
        "print(\"\\n-----------\\n\")\n",
        "# findall(pattern) in result [] indicates null list as  there is no value matching with given pattern in particular row\n",
        "print(df.str.findall('n'))"
      ],
      "execution_count": 92,
      "outputs": [
        {
          "output_type": "stream",
          "text": [
            "0    13\n",
            "1    -1\n",
            "2    -1\n",
            "3    -1\n",
            "dtype: int64\n",
            "\n",
            "-----------\n",
            "\n",
            "0    [n]\n",
            "1     []\n",
            "2     []\n",
            "3     []\n",
            "dtype: object\n"
          ],
          "name": "stdout"
        }
      ]
    }
  ]
}