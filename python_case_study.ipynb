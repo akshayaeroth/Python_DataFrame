{
  "nbformat": 4,
  "nbformat_minor": 0,
  "metadata": {
    "colab": {
      "name": "python_case_study.ipynb",
      "provenance": [],
      "collapsed_sections": [],
      "authorship_tag": "ABX9TyM7fjwK/YWBXfXjGSHY+aL1",
      "include_colab_link": true
    },
    "kernelspec": {
      "name": "python3",
      "display_name": "Python 3"
    },
    "language_info": {
      "name": "python"
    }
  },
  "cells": [
    {
      "cell_type": "markdown",
      "metadata": {
        "id": "view-in-github",
        "colab_type": "text"
      },
      "source": [
        "<a href=\"https://colab.research.google.com/github/chinnuzz/python/blob/main/python_case_study.ipynb\" target=\"_parent\"><img src=\"https://colab.research.google.com/assets/colab-badge.svg\" alt=\"Open In Colab\"/></a>"
      ]
    },
    {
      "cell_type": "markdown",
      "metadata": {
        "id": "mKIliYBCZBEg"
      },
      "source": [
        "### **1.Python program to find area of a triangle**"
      ]
    },
    {
      "cell_type": "code",
      "metadata": {
        "colab": {
          "base_uri": "https://localhost:8080/"
        },
        "id": "UC4W5M9kavbi",
        "outputId": "4e9e49e9-7449-4bdf-a07a-87bd71ced128"
      },
      "source": [
        "a = float(input(\"Enter 1st side : \"))\n",
        "b = float(input(\"Enter 2nd side : \"))\n",
        "c = float(input(\"Enter 3rd side : \"))\n",
        "\n",
        "s = (a+b+c)/2\n",
        "area = (s*(s-a)*(s-b)*(s-c))**0.5\n",
        "print('The area of the triangle is %0.2f' %area)"
      ],
      "execution_count": null,
      "outputs": [
        {
          "output_type": "stream",
          "text": [
            "Enter 1st side : 20\n",
            "Enter 2nd side : 20\n",
            "Enter 3rd side : 10\n",
            "The area of the triangle is 96.82\n"
          ],
          "name": "stdout"
        }
      ]
    },
    {
      "cell_type": "markdown",
      "metadata": {
        "id": "4YLA-mOXdE0f"
      },
      "source": [
        "### **2.Python program to check leap year**"
      ]
    },
    {
      "cell_type": "code",
      "metadata": {
        "colab": {
          "base_uri": "https://localhost:8080/"
        },
        "id": "MHIloqebdO21",
        "outputId": "32e131a8-8ffa-42be-b88f-81a8b7936f33"
      },
      "source": [
        "year = int(input(\"Enter a year : \"))\n",
        "\n",
        "if (year % 4) == 0:\n",
        "   if (year % 100) == 0:\n",
        "       if (year % 400) == 0:\n",
        "           print(\"{0} is a leap year\".format(year))\n",
        "       else:\n",
        "           print(\"{0} is not a leap year\".format(year))\n",
        "   else:\n",
        "       print(\"{0} is a leap year\".format(year))\n",
        "else:\n",
        "   print(\"{0} is not a leap year\".format(year))"
      ],
      "execution_count": null,
      "outputs": [
        {
          "output_type": "stream",
          "text": [
            "Enter a year : 2011\n",
            "2011 is not a leap year\n"
          ],
          "name": "stdout"
        }
      ]
    },
    {
      "cell_type": "markdown",
      "metadata": {
        "id": "-9VUfAoChL4C"
      },
      "source": [
        "### **3.Python program to check if a number is positive or negative or zero**"
      ]
    },
    {
      "cell_type": "code",
      "metadata": {
        "colab": {
          "base_uri": "https://localhost:8080/"
        },
        "id": "Fd3KaLMwhWh8",
        "outputId": "7476aba0-47e5-4c3b-92b7-fd91c56615c5"
      },
      "source": [
        "num = float(input(\"Enter a number: \"))  \n",
        "  \n",
        "if num > 0:  \n",
        " print(\"{0} is a positive number\".format(num))  \n",
        "elif num == 0:  \n",
        "   print(\"{0} is zero\".format(num))   \n",
        "else:  \n",
        "   print(\"{0} is negative number\".format(num))  "
      ],
      "execution_count": null,
      "outputs": [
        {
          "output_type": "stream",
          "text": [
            "Enter a number: 15\n",
            "15.0 is a positive number\n"
          ],
          "name": "stdout"
        }
      ]
    },
    {
      "cell_type": "markdown",
      "metadata": {
        "id": "9BHxhSBklprs"
      },
      "source": [
        "### **4.Python Program to Search the Number of Times a Particular Number Occurs in a List**"
      ]
    },
    {
      "cell_type": "code",
      "metadata": {
        "colab": {
          "base_uri": "https://localhost:8080/"
        },
        "id": "nxYzTvngp4BC",
        "outputId": "ce9d1325-6cf5-47dc-f1b5-7a3e16be4637"
      },
      "source": [
        "a=[]\n",
        "n=int(input(\"Enter number of elements:\"))\n",
        "for i in range(1,n+1):\n",
        "  b=int(input(\"Enter element:\"))\n",
        "  a.append(b)\n",
        "k=0\n",
        "num=int(input(\"Enter the number to be counted:\"))\n",
        "for j in a:\n",
        "    if(j==num):\n",
        "        k=k+1\n",
        "print(\"Number of times\",num,\"appears is\",k)"
      ],
      "execution_count": null,
      "outputs": [
        {
          "output_type": "stream",
          "text": [
            "Enter number of elements:4\n",
            "Enter element:2\n",
            "Enter element:4\n",
            "Enter element:2\n",
            "Enter element:2\n",
            "Enter the number to be counted:2\n",
            "Number of times 2 appears is 3\n"
          ],
          "name": "stdout"
        }
      ]
    },
    {
      "cell_type": "markdown",
      "metadata": {
        "id": "p2_acXM_qbig"
      },
      "source": [
        "### **5.Python Program Using Remove Duplicates Function**"
      ]
    },
    {
      "cell_type": "code",
      "metadata": {
        "colab": {
          "base_uri": "https://localhost:8080/"
        },
        "id": "l4nM_qCprZ9I",
        "outputId": "a4ee1e98-d0b0-4469-e720-0a5f5659cf60"
      },
      "source": [
        "def remove_duplicates(lista):\n",
        "    lista2 = [2,4,6] \n",
        "    for item in lista:\n",
        "        if item not in lista2: \n",
        "            lista2.append(item)\n",
        "        else: \n",
        "            print (\"Item \", item, \" already in lista2; item not added.\")\n",
        "    return lista2\n",
        "print(\"Here is the list, with unique values: \", remove_duplicates([1,2,3,3])) \n",
        "\n"
      ],
      "execution_count": null,
      "outputs": [
        {
          "output_type": "stream",
          "text": [
            "Item  2  already in lista2; item not added.\n",
            "Item  3  already in lista2; item not added.\n",
            "Here is the list, with unique values:  [2, 4, 6, 1, 3]\n"
          ],
          "name": "stdout"
        }
      ]
    },
    {
      "cell_type": "markdown",
      "metadata": {
        "id": "yaujAcB5scwX"
      },
      "source": [
        "### **6.Python Program to Convert Decimal to Binary, Octal and Hexadecimal**"
      ]
    },
    {
      "cell_type": "code",
      "metadata": {
        "colab": {
          "base_uri": "https://localhost:8080/"
        },
        "id": "a-I6cvnZtP8i",
        "outputId": "d7eee04a-92e6-42de-873e-17a250277be1"
      },
      "source": [
        "dec = int(input(\"Enter a decimal number : \"))\n",
        "\n",
        "print(\"The decimal value of\", dec, \"is:\")\n",
        "print(bin(dec), \"in binary.\")\n",
        "print(oct(dec), \"in octal.\")\n",
        "print(hex(dec), \"in hexadecimal.\")\n"
      ],
      "execution_count": null,
      "outputs": [
        {
          "output_type": "stream",
          "text": [
            "Enter a decimal number : 344\n",
            "The decimal value of 344 is:\n",
            "0b101011000 in binary.\n",
            "0o530 in octal.\n",
            "0x158 in hexadecimal.\n"
          ],
          "name": "stdout"
        }
      ]
    },
    {
      "cell_type": "markdown",
      "metadata": {
        "id": "mLLkKVJmuo2S"
      },
      "source": [
        "### **7.Python program to test whether a passed letter is a vowel or not**"
      ]
    },
    {
      "cell_type": "code",
      "metadata": {
        "colab": {
          "base_uri": "https://localhost:8080/"
        },
        "id": "tEQT404Fup5K",
        "outputId": "6fc5d8d2-163d-4952-bd5d-25be96a21ebf"
      },
      "source": [
        "s = input(\"Enter the string : \")\n",
        "for i,v in enumerate(s):\n",
        "  if(v=='A' or v=='a' or v=='E' or v =='e' or v=='I'\n",
        " or v=='i' or v=='O' or v=='o' or v=='U' or v=='u'):\n",
        "    print(\"%s is a vowel at position %d\"%(v,i))"
      ],
      "execution_count": null,
      "outputs": [
        {
          "output_type": "stream",
          "text": [
            "Enter the string : Asritha\n",
            "A is a vowel at position 0\n",
            "i is a vowel at position 3\n",
            "a is a vowel at position 6\n"
          ],
          "name": "stdout"
        }
      ]
    },
    {
      "cell_type": "markdown",
      "metadata": {
        "id": "_bPLYaNv2Yhj"
      },
      "source": [
        "### **8.Python program to Print all even numbers from a given numbers list in the same order and stop the printing if any numbers that come after 250 in the sequence (You can use continue statement)**\n",
        "### **numbers = [3,8,111,140,320,223,240,311,400,220]**"
      ]
    },
    {
      "cell_type": "code",
      "metadata": {
        "colab": {
          "base_uri": "https://localhost:8080/"
        },
        "id": "VqgJDTUa3D5x",
        "outputId": "1fa38025-e0ec-4090-868b-ca520ff3004a"
      },
      "source": [
        "numbers = [    \n",
        "    3,8,111,140,320,223,240,311,400,220\n",
        "    ]\n",
        "x = len(numbers)\n",
        "for n in numbers:\n",
        "    if n == 250:\n",
        "        print(n)\n",
        "        break;\n",
        "    elif n % 2 == 0:\n",
        "        print(n)"
      ],
      "execution_count": null,
      "outputs": [
        {
          "output_type": "stream",
          "text": [
            "8\n",
            "140\n",
            "320\n",
            "240\n",
            "400\n",
            "220\n"
          ],
          "name": "stdout"
        }
      ]
    },
    {
      "cell_type": "markdown",
      "metadata": {
        "id": "kOPxtmBe44LD"
      },
      "source": [
        "### **9.Python program to print out all numbers from num_arr1 which are not present in num_arr2(You can use two loops,else statements)**\n",
        "### **num_arr1 = [2,5,6,7,8]**\n",
        "### **num_arr2 = [2,4,6,8,9,10]**"
      ]
    },
    {
      "cell_type": "code",
      "metadata": {
        "colab": {
          "base_uri": "https://localhost:8080/"
        },
        "id": "d_zAaiDc97XW",
        "outputId": "1694d1d5-5410-4320-ec07-043b9b2a7496"
      },
      "source": [
        "import numpy as np\n",
        "num_arr1 = [2,5,6,7,8]\n",
        "num_arr2 = [2,4,6,8,9,10]\n",
        "print(\"num_arr1:\",num_arr1)\n",
        "print(\"num_arr2:\",num_arr2)\n",
        "print(\"Numbers that not present in second: \")\n",
        "main_list = np.setdiff1d(num_arr1,num_arr2)\n",
        "print(main_list)\n"
      ],
      "execution_count": null,
      "outputs": [
        {
          "output_type": "stream",
          "text": [
            "num_arr1: [2, 5, 6, 7, 8]\n",
            "num_arr2: [2, 4, 6, 8, 9, 10]\n",
            "Numbers that not present in second: \n",
            "[5 7]\n"
          ],
          "name": "stdout"
        }
      ]
    },
    {
      "cell_type": "markdown",
      "metadata": {
        "id": "DpTyHgYvFFtv"
      },
      "source": [
        "### **10.Python program to count number of digits in an integer using a loop**"
      ]
    },
    {
      "cell_type": "code",
      "metadata": {
        "colab": {
          "base_uri": "https://localhost:8080/"
        },
        "id": "6Y_U0FciFhR2",
        "outputId": "a9e4baff-6e94-4a42-ce0f-0aabc34e21fa"
      },
      "source": [
        "a = int(input(\"Enter number:\"))\n",
        "count = 0\n",
        "while(a > 0):\n",
        "    count=count+1\n",
        "    a = a//10\n",
        "print(\"The number of digits in the number are:\",count)"
      ],
      "execution_count": null,
      "outputs": [
        {
          "output_type": "stream",
          "text": [
            "Enter number:356\n",
            "The number of digits in the number are: 3\n"
          ],
          "name": "stdout"
        }
      ]
    },
    {
      "cell_type": "markdown",
      "metadata": {
        "id": "rPCi42tqGaKf"
      },
      "source": [
        "### **11.Create a Histogram like this**\n",
        "###**@**\n",
        "###**@ @**\n",
        "###**@ @ @**\n",
        "###**@ @ @ @**\n",
        "### **Character to print -> @**\n",
        "### **Format of histagram -> 2, 3, 6, 5**"
      ]
    },
    {
      "cell_type": "code",
      "metadata": {
        "colab": {
          "base_uri": "https://localhost:8080/"
        },
        "id": "xRTAAgNGHD-F",
        "outputId": "36f3a62e-2d7a-4ed2-f28d-966808f980d7"
      },
      "source": [
        "a = [2,3,6,5]\n",
        "for i in a:\n",
        "  while i > 0:\n",
        "    print(\"@\", end = \" \")\n",
        "    i = i - 1\n",
        "  print(\" \")"
      ],
      "execution_count": null,
      "outputs": [
        {
          "output_type": "stream",
          "text": [
            "@ @  \n",
            "@ @ @  \n",
            "@ @ @ @ @ @  \n",
            "@ @ @ @ @  \n"
          ],
          "name": "stdout"
        }
      ]
    },
    {
      "cell_type": "markdown",
      "metadata": {
        "id": "5Rs_tf4sK4tP"
      },
      "source": [
        "### **12.Python program to create a student dictionary now iterate over dictuonary using for loop to print all details**"
      ]
    },
    {
      "cell_type": "code",
      "metadata": {
        "colab": {
          "base_uri": "https://localhost:8080/"
        },
        "id": "FQeEZAFMNt2y",
        "outputId": "91eca806-911e-40fb-bf48-1c76252fd8a0"
      },
      "source": [
        "student = dict()\n",
        "student[\"Name\"] = input(\"Enter the student name : \")\n",
        "student[\"Age\"] = input(\"Enter the student age : \")\n",
        "student[\"Place\"] = input(\"Enter the student place : \")\n",
        "student[\"Course\"] = input(\"Enter the student course : \")\n",
        "student[\"Mark\"] = float(input(\"Enter the student mark : \"))\n",
        "print(student)\n",
        "print(\"Student Details : \")\n",
        "for key in student:\n",
        "  print(\"%s-%s\"%(key,student[key]))"
      ],
      "execution_count": null,
      "outputs": [
        {
          "output_type": "stream",
          "text": [
            "Enter the student name : Asritha\n",
            "Enter the student age : 21\n",
            "Enter the student place : Chendayad\n",
            "Enter the student course : Msc Computer Science\n",
            "Enter the student mark : 55\n",
            "{'Name': 'Asritha', 'Age': '21', 'Place': 'Chendayad', 'Course': 'Msc Computer Science', 'Mark': 55.0}\n",
            "Student Details : \n",
            "Name-Asritha\n",
            "Age-21\n",
            "Place-Chendayad\n",
            "Course-Msc Computer Science\n",
            "Mark-55.0\n"
          ],
          "name": "stdout"
        }
      ]
    },
    {
      "cell_type": "markdown",
      "metadata": {
        "id": "6zFbjSTaPhAe"
      },
      "source": [
        "### **13.Python program to print the pyramid of numbers using for loops**"
      ]
    },
    {
      "cell_type": "code",
      "metadata": {
        "colab": {
          "base_uri": "https://localhost:8080/"
        },
        "id": "OPHU3VbwQUcb",
        "outputId": "c9b74c20-9f3e-41d0-ca0b-b15d585e37b5"
      },
      "source": [
        "def pattern(n):\n",
        "  x = 0\n",
        "  for i in range(0,n):\n",
        "    x += 1\n",
        "    for j in range(0,i + 1):\n",
        "      print(x, end= \" \")\n",
        "    print(\"\\r\")\n",
        "n = int(input(\"Enter the number : \"))\n",
        "pattern(n)"
      ],
      "execution_count": null,
      "outputs": [
        {
          "output_type": "stream",
          "text": [
            "Enter the number : 5\n",
            "1 \n",
            "2 2 \n",
            "3 3 3 \n",
            "4 4 4 4 \n",
            "5 5 5 5 5 \n"
          ],
          "name": "stdout"
        }
      ]
    },
    {
      "cell_type": "markdown",
      "metadata": {
        "id": "GWSQp4d5RfKg"
      },
      "source": [
        "### **14.Python program to find the number of and sum of all integers greater than 100 and less than 200 that are divisible by 7**"
      ]
    },
    {
      "cell_type": "code",
      "metadata": {
        "colab": {
          "base_uri": "https://localhost:8080/"
        },
        "id": "_YpkdSxqR49g",
        "outputId": "9619b905-33a7-4828-aea8-0f8bf3611315"
      },
      "source": [
        "value = 100\n",
        "count = 0\n",
        "sum = 0\n",
        "a = list()\n",
        "while True:\n",
        "  value = value+1\n",
        "  if value > 200:\n",
        "    break\n",
        "  elif value%7 == 0:\n",
        "    count+=1\n",
        "    sum+=value\n",
        "    a.append(value)\n",
        "  else:\n",
        "    continue\n",
        "print(\"The numbers are : \",a)\n",
        "print(\"The count is : \",count)\n",
        "print(\"The sum is : \" ,sum)"
      ],
      "execution_count": null,
      "outputs": [
        {
          "output_type": "stream",
          "text": [
            "The numbers are :  [105, 112, 119, 126, 133, 140, 147, 154, 161, 168, 175, 182, 189, 196]\n",
            "The count is :  14\n",
            "The sum is :  2107\n"
          ],
          "name": "stdout"
        }
      ]
    },
    {
      "cell_type": "markdown",
      "metadata": {
        "id": "4qXkzDMNUmkg"
      },
      "source": [
        "### **15.Python program to Throw an ArithmeticError if sum of two numbers is negative**"
      ]
    },
    {
      "cell_type": "code",
      "metadata": {
        "colab": {
          "base_uri": "https://localhost:8080/",
          "height": 262
        },
        "id": "5s4L70FjU8_G",
        "outputId": "0e9cbd82-d5f1-49b8-c54c-b71c9581f082"
      },
      "source": [
        "a = int(input(\"Enter the first number : \"))\n",
        "b = int(input(\"Enter the second number : \"))\n",
        "c = a + b\n",
        "if c < 0 :\n",
        "  raise ArithmeticError(\"Sorry,The sum of the numbers cannot be less than 0\")\n",
        "else :\n",
        " print(\"The sum is : \",c)"
      ],
      "execution_count": null,
      "outputs": [
        {
          "output_type": "stream",
          "text": [
            "Enter the first number : 20\n",
            "Enter the second number : -30\n"
          ],
          "name": "stdout"
        },
        {
          "output_type": "error",
          "ename": "ArithmeticError",
          "evalue": "ignored",
          "traceback": [
            "\u001b[0;31m---------------------------------------------------------------------------\u001b[0m",
            "\u001b[0;31mArithmeticError\u001b[0m                           Traceback (most recent call last)",
            "\u001b[0;32m<ipython-input-76-2fad481a786b>\u001b[0m in \u001b[0;36m<module>\u001b[0;34m()\u001b[0m\n\u001b[1;32m      3\u001b[0m \u001b[0mc\u001b[0m \u001b[0;34m=\u001b[0m \u001b[0ma\u001b[0m \u001b[0;34m+\u001b[0m \u001b[0mb\u001b[0m\u001b[0;34m\u001b[0m\u001b[0;34m\u001b[0m\u001b[0m\n\u001b[1;32m      4\u001b[0m \u001b[0;32mif\u001b[0m \u001b[0mc\u001b[0m \u001b[0;34m<\u001b[0m \u001b[0;36m0\u001b[0m \u001b[0;34m:\u001b[0m\u001b[0;34m\u001b[0m\u001b[0;34m\u001b[0m\u001b[0m\n\u001b[0;32m----> 5\u001b[0;31m   \u001b[0;32mraise\u001b[0m \u001b[0mArithmeticError\u001b[0m\u001b[0;34m(\u001b[0m\u001b[0;34m\"Sorry,The sum of the numbers cannot be less than 0\"\u001b[0m\u001b[0;34m)\u001b[0m\u001b[0;34m\u001b[0m\u001b[0;34m\u001b[0m\u001b[0m\n\u001b[0m\u001b[1;32m      6\u001b[0m \u001b[0;32melse\u001b[0m \u001b[0;34m:\u001b[0m\u001b[0;34m\u001b[0m\u001b[0;34m\u001b[0m\u001b[0m\n\u001b[1;32m      7\u001b[0m  \u001b[0mprint\u001b[0m\u001b[0;34m(\u001b[0m\u001b[0;34m\"The sum is : \"\u001b[0m\u001b[0;34m,\u001b[0m\u001b[0mc\u001b[0m\u001b[0;34m)\u001b[0m\u001b[0;34m\u001b[0m\u001b[0;34m\u001b[0m\u001b[0m\n",
            "\u001b[0;31mArithmeticError\u001b[0m: Sorry,The sum of the numbers cannot be less than 0"
          ]
        }
      ]
    }
  ]
}